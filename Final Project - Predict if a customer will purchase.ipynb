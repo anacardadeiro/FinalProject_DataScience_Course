{
 "cells": [
  {
   "cell_type": "markdown",
   "id": "2c328a70",
   "metadata": {},
   "source": [
    "# Importing libraries and datasets"
   ]
  },
  {
   "cell_type": "code",
   "execution_count": 1,
   "id": "3ebd0243",
   "metadata": {
    "ExecuteTime": {
     "end_time": "2022-12-22T18:50:24.401810Z",
     "start_time": "2022-12-22T18:50:21.067813Z"
    }
   },
   "outputs": [],
   "source": [
    "#basic libraries\n",
    "import pandas as pd\n",
    "import numpy as np\n",
    "import math\n",
    "\n",
    "#visualisation\n",
    "import matplotlib\n",
    "import matplotlib.pyplot as plt\n",
    "import plotly.express as px\n",
    "import plotly.graph_objs as go\n",
    "import seaborn as sns\n",
    "import missingno as msno\n",
    "from plotly.figure_factory import create_scatterplotmatrix\n",
    "from wordcloud import WordCloud\n",
    "sns.set()\n",
    "\n",
    "# Ignore warnings :\n",
    "import warnings\n",
    "warnings.filterwarnings('ignore')\n",
    "\n",
    "# import required libraries for ML\n",
    "import sklearn\n",
    "\n",
    "#feature eng\n",
    "from sklearn import preprocessing\n",
    "from sklearn.preprocessing import StandardScaler\n",
    "from sklearn.preprocessing import MinMaxScaler\n",
    "from sklearn.preprocessing import LabelEncoder\n",
    "import category_encoders as ce\n",
    "\n",
    "#Classification\n",
    "from sklearn.model_selection import cross_validate\n",
    "from sklearn.model_selection import train_test_split\n",
    "from sklearn.linear_model import LogisticRegression\n",
    "from sklearn.ensemble import RandomForestClassifier\n",
    "from sklearn import metrics\n",
    "from sklearn.metrics import confusion_matrix\n",
    "from sklearn.metrics import classification_report\n",
    "from sklearn.metrics import roc_auc_score\n",
    "from sklearn.model_selection import GridSearchCV\n",
    "from imblearn.over_sampling import SMOTE\n",
    "\n",
    "# Regression\n",
    "from sklearn.model_selection import cross_val_score\n",
    "from sklearn.linear_model import LinearRegression\n",
    "from sklearn.tree import DecisionTreeRegressor\n",
    "from sklearn.ensemble import RandomForestRegressor\n",
    "from sklearn.linear_model import Ridge,Lasso,RidgeCV, ElasticNet\n",
    "from sklearn.svm import SVR"
   ]
  },
  {
   "cell_type": "code",
   "execution_count": 2,
   "id": "42c2dd4c",
   "metadata": {
    "ExecuteTime": {
     "end_time": "2022-12-22T18:50:24.560740Z",
     "start_time": "2022-12-22T18:50:24.403829Z"
    }
   },
   "outputs": [],
   "source": [
    "#datasets sales\n",
    "sales = pd.read_csv(\"C:/Users/linco/Desktop/datastudy/DScourse/FinalProject/sales.csv\")"
   ]
  },
  {
   "cell_type": "code",
   "execution_count": 3,
   "id": "eb217654",
   "metadata": {
    "ExecuteTime": {
     "end_time": "2022-12-22T18:50:24.624754Z",
     "start_time": "2022-12-22T18:50:24.562739Z"
    }
   },
   "outputs": [],
   "source": [
    "#dataset customers\n",
    "customers = pd.read_csv(\"C:/Users/linco/Desktop/datastudy/DScourse/FinalProject/customers.csv\")"
   ]
  },
  {
   "cell_type": "code",
   "execution_count": 4,
   "id": "614ce0ca",
   "metadata": {
    "ExecuteTime": {
     "end_time": "2022-12-22T18:50:24.656457Z",
     "start_time": "2022-12-22T18:50:24.626757Z"
    }
   },
   "outputs": [],
   "source": [
    "cust_scaled = pd.read_csv(\"C:/Users/linco/Desktop/datastudy/DScourse/FinalProject/customers_scaled.csv\")"
   ]
  },
  {
   "cell_type": "markdown",
   "id": "e0c66947",
   "metadata": {},
   "source": [
    "## Checking the datasets"
   ]
  },
  {
   "cell_type": "code",
   "execution_count": 5,
   "id": "03486b89",
   "metadata": {
    "ExecuteTime": {
     "end_time": "2022-12-22T18:50:24.688465Z",
     "start_time": "2022-12-22T18:50:24.658458Z"
    }
   },
   "outputs": [
    {
     "data": {
      "text/html": [
       "<div>\n",
       "<style scoped>\n",
       "    .dataframe tbody tr th:only-of-type {\n",
       "        vertical-align: middle;\n",
       "    }\n",
       "\n",
       "    .dataframe tbody tr th {\n",
       "        vertical-align: top;\n",
       "    }\n",
       "\n",
       "    .dataframe thead th {\n",
       "        text-align: right;\n",
       "    }\n",
       "</style>\n",
       "<table border=\"1\" class=\"dataframe\">\n",
       "  <thead>\n",
       "    <tr style=\"text-align: right;\">\n",
       "      <th></th>\n",
       "      <th>Unnamed: 0</th>\n",
       "      <th>OrderDate</th>\n",
       "      <th>StockDate</th>\n",
       "      <th>OrderNumber</th>\n",
       "      <th>ProductKey</th>\n",
       "      <th>ProductCategoryKey</th>\n",
       "      <th>CategoryName</th>\n",
       "      <th>ProductSubcategoryKey</th>\n",
       "      <th>SubcategoryName</th>\n",
       "      <th>ProductCost</th>\n",
       "      <th>...</th>\n",
       "      <th>Region</th>\n",
       "      <th>Country</th>\n",
       "      <th>Continent</th>\n",
       "      <th>OrderLineItem</th>\n",
       "      <th>OrderQuantity</th>\n",
       "      <th>OrderValue</th>\n",
       "      <th>OrderProfit</th>\n",
       "      <th>year</th>\n",
       "      <th>month</th>\n",
       "      <th>week</th>\n",
       "    </tr>\n",
       "  </thead>\n",
       "  <tbody>\n",
       "    <tr>\n",
       "      <th>0</th>\n",
       "      <td>0</td>\n",
       "      <td>2015-01-01</td>\n",
       "      <td>9/21/2001</td>\n",
       "      <td>SO45080</td>\n",
       "      <td>332</td>\n",
       "      <td>1</td>\n",
       "      <td>Bikes</td>\n",
       "      <td>2</td>\n",
       "      <td>Road Bikes</td>\n",
       "      <td>413.1463</td>\n",
       "      <td>...</td>\n",
       "      <td>Northwest</td>\n",
       "      <td>United States</td>\n",
       "      <td>North America</td>\n",
       "      <td>1</td>\n",
       "      <td>1</td>\n",
       "      <td>699.0982</td>\n",
       "      <td>285.9519</td>\n",
       "      <td>2015</td>\n",
       "      <td>1</td>\n",
       "      <td>1</td>\n",
       "    </tr>\n",
       "    <tr>\n",
       "      <th>1</th>\n",
       "      <td>1</td>\n",
       "      <td>2015-01-01</td>\n",
       "      <td>12/5/2001</td>\n",
       "      <td>SO45079</td>\n",
       "      <td>312</td>\n",
       "      <td>1</td>\n",
       "      <td>Bikes</td>\n",
       "      <td>2</td>\n",
       "      <td>Road Bikes</td>\n",
       "      <td>2171.2942</td>\n",
       "      <td>...</td>\n",
       "      <td>Southwest</td>\n",
       "      <td>United States</td>\n",
       "      <td>North America</td>\n",
       "      <td>1</td>\n",
       "      <td>1</td>\n",
       "      <td>3578.2700</td>\n",
       "      <td>1406.9758</td>\n",
       "      <td>2015</td>\n",
       "      <td>1</td>\n",
       "      <td>1</td>\n",
       "    </tr>\n",
       "    <tr>\n",
       "      <th>2</th>\n",
       "      <td>2</td>\n",
       "      <td>2015-01-01</td>\n",
       "      <td>10/29/2001</td>\n",
       "      <td>SO45082</td>\n",
       "      <td>350</td>\n",
       "      <td>1</td>\n",
       "      <td>Bikes</td>\n",
       "      <td>1</td>\n",
       "      <td>Mountain Bikes</td>\n",
       "      <td>1898.0944</td>\n",
       "      <td>...</td>\n",
       "      <td>Australia</td>\n",
       "      <td>Australia</td>\n",
       "      <td>Pacific</td>\n",
       "      <td>1</td>\n",
       "      <td>1</td>\n",
       "      <td>3374.9900</td>\n",
       "      <td>1476.8956</td>\n",
       "      <td>2015</td>\n",
       "      <td>1</td>\n",
       "      <td>1</td>\n",
       "    </tr>\n",
       "    <tr>\n",
       "      <th>3</th>\n",
       "      <td>3</td>\n",
       "      <td>2015-01-01</td>\n",
       "      <td>11/16/2001</td>\n",
       "      <td>SO45081</td>\n",
       "      <td>338</td>\n",
       "      <td>1</td>\n",
       "      <td>Bikes</td>\n",
       "      <td>2</td>\n",
       "      <td>Road Bikes</td>\n",
       "      <td>413.1463</td>\n",
       "      <td>...</td>\n",
       "      <td>Canada</td>\n",
       "      <td>Canada</td>\n",
       "      <td>North America</td>\n",
       "      <td>1</td>\n",
       "      <td>1</td>\n",
       "      <td>699.0982</td>\n",
       "      <td>285.9519</td>\n",
       "      <td>2015</td>\n",
       "      <td>1</td>\n",
       "      <td>1</td>\n",
       "    </tr>\n",
       "    <tr>\n",
       "      <th>4</th>\n",
       "      <td>4</td>\n",
       "      <td>2015-01-02</td>\n",
       "      <td>12/15/2001</td>\n",
       "      <td>SO45083</td>\n",
       "      <td>312</td>\n",
       "      <td>1</td>\n",
       "      <td>Bikes</td>\n",
       "      <td>2</td>\n",
       "      <td>Road Bikes</td>\n",
       "      <td>2171.2942</td>\n",
       "      <td>...</td>\n",
       "      <td>United Kingdom</td>\n",
       "      <td>United Kingdom</td>\n",
       "      <td>Europe</td>\n",
       "      <td>1</td>\n",
       "      <td>1</td>\n",
       "      <td>3578.2700</td>\n",
       "      <td>1406.9758</td>\n",
       "      <td>2015</td>\n",
       "      <td>1</td>\n",
       "      <td>1</td>\n",
       "    </tr>\n",
       "  </tbody>\n",
       "</table>\n",
       "<p>5 rows × 23 columns</p>\n",
       "</div>"
      ],
      "text/plain": [
       "   Unnamed: 0   OrderDate   StockDate OrderNumber  ProductKey  \\\n",
       "0           0  2015-01-01   9/21/2001     SO45080         332   \n",
       "1           1  2015-01-01   12/5/2001     SO45079         312   \n",
       "2           2  2015-01-01  10/29/2001     SO45082         350   \n",
       "3           3  2015-01-01  11/16/2001     SO45081         338   \n",
       "4           4  2015-01-02  12/15/2001     SO45083         312   \n",
       "\n",
       "   ProductCategoryKey CategoryName  ProductSubcategoryKey SubcategoryName  \\\n",
       "0                   1        Bikes                      2      Road Bikes   \n",
       "1                   1        Bikes                      2      Road Bikes   \n",
       "2                   1        Bikes                      1  Mountain Bikes   \n",
       "3                   1        Bikes                      2      Road Bikes   \n",
       "4                   1        Bikes                      2      Road Bikes   \n",
       "\n",
       "   ProductCost  ...          Region         Country      Continent  \\\n",
       "0     413.1463  ...       Northwest   United States  North America   \n",
       "1    2171.2942  ...       Southwest   United States  North America   \n",
       "2    1898.0944  ...       Australia       Australia        Pacific   \n",
       "3     413.1463  ...          Canada          Canada  North America   \n",
       "4    2171.2942  ...  United Kingdom  United Kingdom         Europe   \n",
       "\n",
       "  OrderLineItem OrderQuantity OrderValue  OrderProfit  year  month  week  \n",
       "0             1             1   699.0982     285.9519  2015      1     1  \n",
       "1             1             1  3578.2700    1406.9758  2015      1     1  \n",
       "2             1             1  3374.9900    1476.8956  2015      1     1  \n",
       "3             1             1   699.0982     285.9519  2015      1     1  \n",
       "4             1             1  3578.2700    1406.9758  2015      1     1  \n",
       "\n",
       "[5 rows x 23 columns]"
      ]
     },
     "execution_count": 5,
     "metadata": {},
     "output_type": "execute_result"
    }
   ],
   "source": [
    "sales.head()"
   ]
  },
  {
   "cell_type": "code",
   "execution_count": 6,
   "id": "644b1e1c",
   "metadata": {
    "ExecuteTime": {
     "end_time": "2022-12-22T18:50:24.704471Z",
     "start_time": "2022-12-22T18:50:24.690465Z"
    }
   },
   "outputs": [
    {
     "data": {
      "text/plain": [
       "Index(['Unnamed: 0', 'OrderDate', 'StockDate', 'OrderNumber', 'ProductKey',\n",
       "       'ProductCategoryKey', 'CategoryName', 'ProductSubcategoryKey',\n",
       "       'SubcategoryName', 'ProductCost', 'ProductPrice', 'CustomerKey',\n",
       "       'TerritoryKey', 'Region', 'Country', 'Continent', 'OrderLineItem',\n",
       "       'OrderQuantity', 'OrderValue', 'OrderProfit', 'year', 'month', 'week'],\n",
       "      dtype='object')"
      ]
     },
     "execution_count": 6,
     "metadata": {},
     "output_type": "execute_result"
    }
   ],
   "source": [
    "sales.columns"
   ]
  },
  {
   "cell_type": "code",
   "execution_count": 7,
   "id": "4a351875",
   "metadata": {
    "ExecuteTime": {
     "end_time": "2022-12-22T18:50:24.735477Z",
     "start_time": "2022-12-22T18:50:24.706472Z"
    }
   },
   "outputs": [
    {
     "data": {
      "text/html": [
       "<div>\n",
       "<style scoped>\n",
       "    .dataframe tbody tr th:only-of-type {\n",
       "        vertical-align: middle;\n",
       "    }\n",
       "\n",
       "    .dataframe tbody tr th {\n",
       "        vertical-align: top;\n",
       "    }\n",
       "\n",
       "    .dataframe thead th {\n",
       "        text-align: right;\n",
       "    }\n",
       "</style>\n",
       "<table border=\"1\" class=\"dataframe\">\n",
       "  <thead>\n",
       "    <tr style=\"text-align: right;\">\n",
       "      <th></th>\n",
       "      <th>OrderDate</th>\n",
       "      <th>StockDate</th>\n",
       "      <th>OrderNumber</th>\n",
       "      <th>ProductKey</th>\n",
       "      <th>ProductCategoryKey</th>\n",
       "      <th>CategoryName</th>\n",
       "      <th>ProductSubcategoryKey</th>\n",
       "      <th>SubcategoryName</th>\n",
       "      <th>ProductCost</th>\n",
       "      <th>ProductPrice</th>\n",
       "      <th>...</th>\n",
       "      <th>Region</th>\n",
       "      <th>Country</th>\n",
       "      <th>Continent</th>\n",
       "      <th>OrderLineItem</th>\n",
       "      <th>OrderQuantity</th>\n",
       "      <th>OrderValue</th>\n",
       "      <th>OrderProfit</th>\n",
       "      <th>year</th>\n",
       "      <th>month</th>\n",
       "      <th>week</th>\n",
       "    </tr>\n",
       "  </thead>\n",
       "  <tbody>\n",
       "    <tr>\n",
       "      <th>0</th>\n",
       "      <td>2015-01-01</td>\n",
       "      <td>9/21/2001</td>\n",
       "      <td>SO45080</td>\n",
       "      <td>332</td>\n",
       "      <td>1</td>\n",
       "      <td>Bikes</td>\n",
       "      <td>2</td>\n",
       "      <td>Road Bikes</td>\n",
       "      <td>413.1463</td>\n",
       "      <td>699.0982</td>\n",
       "      <td>...</td>\n",
       "      <td>Northwest</td>\n",
       "      <td>United States</td>\n",
       "      <td>North America</td>\n",
       "      <td>1</td>\n",
       "      <td>1</td>\n",
       "      <td>699.0982</td>\n",
       "      <td>285.9519</td>\n",
       "      <td>2015</td>\n",
       "      <td>1</td>\n",
       "      <td>1</td>\n",
       "    </tr>\n",
       "    <tr>\n",
       "      <th>1</th>\n",
       "      <td>2015-01-01</td>\n",
       "      <td>12/5/2001</td>\n",
       "      <td>SO45079</td>\n",
       "      <td>312</td>\n",
       "      <td>1</td>\n",
       "      <td>Bikes</td>\n",
       "      <td>2</td>\n",
       "      <td>Road Bikes</td>\n",
       "      <td>2171.2942</td>\n",
       "      <td>3578.2700</td>\n",
       "      <td>...</td>\n",
       "      <td>Southwest</td>\n",
       "      <td>United States</td>\n",
       "      <td>North America</td>\n",
       "      <td>1</td>\n",
       "      <td>1</td>\n",
       "      <td>3578.2700</td>\n",
       "      <td>1406.9758</td>\n",
       "      <td>2015</td>\n",
       "      <td>1</td>\n",
       "      <td>1</td>\n",
       "    </tr>\n",
       "    <tr>\n",
       "      <th>2</th>\n",
       "      <td>2015-01-01</td>\n",
       "      <td>10/29/2001</td>\n",
       "      <td>SO45082</td>\n",
       "      <td>350</td>\n",
       "      <td>1</td>\n",
       "      <td>Bikes</td>\n",
       "      <td>1</td>\n",
       "      <td>Mountain Bikes</td>\n",
       "      <td>1898.0944</td>\n",
       "      <td>3374.9900</td>\n",
       "      <td>...</td>\n",
       "      <td>Australia</td>\n",
       "      <td>Australia</td>\n",
       "      <td>Pacific</td>\n",
       "      <td>1</td>\n",
       "      <td>1</td>\n",
       "      <td>3374.9900</td>\n",
       "      <td>1476.8956</td>\n",
       "      <td>2015</td>\n",
       "      <td>1</td>\n",
       "      <td>1</td>\n",
       "    </tr>\n",
       "    <tr>\n",
       "      <th>3</th>\n",
       "      <td>2015-01-01</td>\n",
       "      <td>11/16/2001</td>\n",
       "      <td>SO45081</td>\n",
       "      <td>338</td>\n",
       "      <td>1</td>\n",
       "      <td>Bikes</td>\n",
       "      <td>2</td>\n",
       "      <td>Road Bikes</td>\n",
       "      <td>413.1463</td>\n",
       "      <td>699.0982</td>\n",
       "      <td>...</td>\n",
       "      <td>Canada</td>\n",
       "      <td>Canada</td>\n",
       "      <td>North America</td>\n",
       "      <td>1</td>\n",
       "      <td>1</td>\n",
       "      <td>699.0982</td>\n",
       "      <td>285.9519</td>\n",
       "      <td>2015</td>\n",
       "      <td>1</td>\n",
       "      <td>1</td>\n",
       "    </tr>\n",
       "    <tr>\n",
       "      <th>4</th>\n",
       "      <td>2015-01-02</td>\n",
       "      <td>12/15/2001</td>\n",
       "      <td>SO45083</td>\n",
       "      <td>312</td>\n",
       "      <td>1</td>\n",
       "      <td>Bikes</td>\n",
       "      <td>2</td>\n",
       "      <td>Road Bikes</td>\n",
       "      <td>2171.2942</td>\n",
       "      <td>3578.2700</td>\n",
       "      <td>...</td>\n",
       "      <td>United Kingdom</td>\n",
       "      <td>United Kingdom</td>\n",
       "      <td>Europe</td>\n",
       "      <td>1</td>\n",
       "      <td>1</td>\n",
       "      <td>3578.2700</td>\n",
       "      <td>1406.9758</td>\n",
       "      <td>2015</td>\n",
       "      <td>1</td>\n",
       "      <td>1</td>\n",
       "    </tr>\n",
       "  </tbody>\n",
       "</table>\n",
       "<p>5 rows × 22 columns</p>\n",
       "</div>"
      ],
      "text/plain": [
       "    OrderDate   StockDate OrderNumber  ProductKey  ProductCategoryKey  \\\n",
       "0  2015-01-01   9/21/2001     SO45080         332                   1   \n",
       "1  2015-01-01   12/5/2001     SO45079         312                   1   \n",
       "2  2015-01-01  10/29/2001     SO45082         350                   1   \n",
       "3  2015-01-01  11/16/2001     SO45081         338                   1   \n",
       "4  2015-01-02  12/15/2001     SO45083         312                   1   \n",
       "\n",
       "  CategoryName  ProductSubcategoryKey SubcategoryName  ProductCost  \\\n",
       "0        Bikes                      2      Road Bikes     413.1463   \n",
       "1        Bikes                      2      Road Bikes    2171.2942   \n",
       "2        Bikes                      1  Mountain Bikes    1898.0944   \n",
       "3        Bikes                      2      Road Bikes     413.1463   \n",
       "4        Bikes                      2      Road Bikes    2171.2942   \n",
       "\n",
       "   ProductPrice  ...          Region         Country      Continent  \\\n",
       "0      699.0982  ...       Northwest   United States  North America   \n",
       "1     3578.2700  ...       Southwest   United States  North America   \n",
       "2     3374.9900  ...       Australia       Australia        Pacific   \n",
       "3      699.0982  ...          Canada          Canada  North America   \n",
       "4     3578.2700  ...  United Kingdom  United Kingdom         Europe   \n",
       "\n",
       "  OrderLineItem OrderQuantity  OrderValue  OrderProfit  year  month  week  \n",
       "0             1             1    699.0982     285.9519  2015      1     1  \n",
       "1             1             1   3578.2700    1406.9758  2015      1     1  \n",
       "2             1             1   3374.9900    1476.8956  2015      1     1  \n",
       "3             1             1    699.0982     285.9519  2015      1     1  \n",
       "4             1             1   3578.2700    1406.9758  2015      1     1  \n",
       "\n",
       "[5 rows x 22 columns]"
      ]
     },
     "execution_count": 7,
     "metadata": {},
     "output_type": "execute_result"
    }
   ],
   "source": [
    "sales.drop([\"Unnamed: 0\"], axis=1, inplace=True)\n",
    "sales.head()"
   ]
  },
  {
   "cell_type": "code",
   "execution_count": 8,
   "id": "4a0ea15f",
   "metadata": {
    "ExecuteTime": {
     "end_time": "2022-12-22T18:50:24.811492Z",
     "start_time": "2022-12-22T18:50:24.737478Z"
    }
   },
   "outputs": [
    {
     "name": "stdout",
     "output_type": "stream",
     "text": [
      "<class 'pandas.core.frame.DataFrame'>\n",
      "RangeIndex: 56046 entries, 0 to 56045\n",
      "Data columns (total 22 columns):\n",
      " #   Column                 Non-Null Count  Dtype  \n",
      "---  ------                 --------------  -----  \n",
      " 0   OrderDate              56046 non-null  object \n",
      " 1   StockDate              56046 non-null  object \n",
      " 2   OrderNumber            56046 non-null  object \n",
      " 3   ProductKey             56046 non-null  int64  \n",
      " 4   ProductCategoryKey     56046 non-null  int64  \n",
      " 5   CategoryName           56046 non-null  object \n",
      " 6   ProductSubcategoryKey  56046 non-null  int64  \n",
      " 7   SubcategoryName        56046 non-null  object \n",
      " 8   ProductCost            56046 non-null  float64\n",
      " 9   ProductPrice           56046 non-null  float64\n",
      " 10  CustomerKey            56046 non-null  int64  \n",
      " 11  TerritoryKey           56046 non-null  int64  \n",
      " 12  Region                 56046 non-null  object \n",
      " 13  Country                56046 non-null  object \n",
      " 14  Continent              56046 non-null  object \n",
      " 15  OrderLineItem          56046 non-null  int64  \n",
      " 16  OrderQuantity          56046 non-null  int64  \n",
      " 17  OrderValue             56046 non-null  float64\n",
      " 18  OrderProfit            56046 non-null  float64\n",
      " 19  year                   56046 non-null  int64  \n",
      " 20  month                  56046 non-null  int64  \n",
      " 21  week                   56046 non-null  int64  \n",
      "dtypes: float64(4), int64(10), object(8)\n",
      "memory usage: 9.4+ MB\n"
     ]
    }
   ],
   "source": [
    "sales.info()"
   ]
  },
  {
   "cell_type": "code",
   "execution_count": 9,
   "id": "7c4127d6",
   "metadata": {
    "ExecuteTime": {
     "end_time": "2022-12-22T18:50:24.875517Z",
     "start_time": "2022-12-22T18:50:24.813494Z"
    }
   },
   "outputs": [
    {
     "data": {
      "text/plain": [
       "OrderDate                0\n",
       "StockDate                0\n",
       "OrderNumber              0\n",
       "ProductKey               0\n",
       "ProductCategoryKey       0\n",
       "CategoryName             0\n",
       "ProductSubcategoryKey    0\n",
       "SubcategoryName          0\n",
       "ProductCost              0\n",
       "ProductPrice             0\n",
       "CustomerKey              0\n",
       "TerritoryKey             0\n",
       "Region                   0\n",
       "Country                  0\n",
       "Continent                0\n",
       "OrderLineItem            0\n",
       "OrderQuantity            0\n",
       "OrderValue               0\n",
       "OrderProfit              0\n",
       "year                     0\n",
       "month                    0\n",
       "week                     0\n",
       "dtype: int64"
      ]
     },
     "execution_count": 9,
     "metadata": {},
     "output_type": "execute_result"
    }
   ],
   "source": [
    "#checking null values\n",
    "sales.isnull().sum()"
   ]
  },
  {
   "cell_type": "code",
   "execution_count": 10,
   "id": "6367ac9d",
   "metadata": {
    "ExecuteTime": {
     "end_time": "2022-12-22T18:50:24.939522Z",
     "start_time": "2022-12-22T18:50:24.877517Z"
    }
   },
   "outputs": [
    {
     "data": {
      "text/plain": [
       "0"
      ]
     },
     "execution_count": 10,
     "metadata": {},
     "output_type": "execute_result"
    }
   ],
   "source": [
    "#check for duplicates\n",
    "sales.duplicated().sum()"
   ]
  },
  {
   "cell_type": "code",
   "execution_count": 11,
   "id": "04cd7683",
   "metadata": {
    "ExecuteTime": {
     "end_time": "2022-12-22T18:50:24.955533Z",
     "start_time": "2022-12-22T18:50:24.941523Z"
    }
   },
   "outputs": [
    {
     "data": {
      "text/html": [
       "<div>\n",
       "<style scoped>\n",
       "    .dataframe tbody tr th:only-of-type {\n",
       "        vertical-align: middle;\n",
       "    }\n",
       "\n",
       "    .dataframe tbody tr th {\n",
       "        vertical-align: top;\n",
       "    }\n",
       "\n",
       "    .dataframe thead th {\n",
       "        text-align: right;\n",
       "    }\n",
       "</style>\n",
       "<table border=\"1\" class=\"dataframe\">\n",
       "  <thead>\n",
       "    <tr style=\"text-align: right;\">\n",
       "      <th></th>\n",
       "      <th>Unnamed: 0</th>\n",
       "      <th>index</th>\n",
       "      <th>CustomerID</th>\n",
       "      <th>FirstName</th>\n",
       "      <th>LastName</th>\n",
       "      <th>AddressLine1</th>\n",
       "      <th>City</th>\n",
       "      <th>StateProvinceName</th>\n",
       "      <th>CountryRegionName</th>\n",
       "      <th>PostalCode</th>\n",
       "      <th>...</th>\n",
       "      <th>Education</th>\n",
       "      <th>Occupation</th>\n",
       "      <th>Gender</th>\n",
       "      <th>MaritalStatus</th>\n",
       "      <th>HomeOwnerFlag</th>\n",
       "      <th>NumberCarsOwned</th>\n",
       "      <th>NumberChildrenAtHome</th>\n",
       "      <th>TotalChildren</th>\n",
       "      <th>YearlyIncome</th>\n",
       "      <th>Age</th>\n",
       "    </tr>\n",
       "  </thead>\n",
       "  <tbody>\n",
       "    <tr>\n",
       "      <th>0</th>\n",
       "      <td>0</td>\n",
       "      <td>0</td>\n",
       "      <td>11000</td>\n",
       "      <td>Jon</td>\n",
       "      <td>Yang</td>\n",
       "      <td>3761 N. 14th St</td>\n",
       "      <td>Rockhampton</td>\n",
       "      <td>Queensland</td>\n",
       "      <td>Australia</td>\n",
       "      <td>4700</td>\n",
       "      <td>...</td>\n",
       "      <td>Bachelors</td>\n",
       "      <td>Professional</td>\n",
       "      <td>M</td>\n",
       "      <td>M</td>\n",
       "      <td>1</td>\n",
       "      <td>0</td>\n",
       "      <td>0</td>\n",
       "      <td>2</td>\n",
       "      <td>137947</td>\n",
       "      <td>51.0</td>\n",
       "    </tr>\n",
       "    <tr>\n",
       "      <th>1</th>\n",
       "      <td>1</td>\n",
       "      <td>1</td>\n",
       "      <td>11001</td>\n",
       "      <td>Eugene</td>\n",
       "      <td>Huang</td>\n",
       "      <td>2243 W St.</td>\n",
       "      <td>Seaford</td>\n",
       "      <td>Victoria</td>\n",
       "      <td>Australia</td>\n",
       "      <td>3198</td>\n",
       "      <td>...</td>\n",
       "      <td>Bachelors</td>\n",
       "      <td>Professional</td>\n",
       "      <td>M</td>\n",
       "      <td>S</td>\n",
       "      <td>0</td>\n",
       "      <td>1</td>\n",
       "      <td>3</td>\n",
       "      <td>3</td>\n",
       "      <td>101141</td>\n",
       "      <td>52.0</td>\n",
       "    </tr>\n",
       "    <tr>\n",
       "      <th>2</th>\n",
       "      <td>2</td>\n",
       "      <td>2</td>\n",
       "      <td>11002</td>\n",
       "      <td>Ruben</td>\n",
       "      <td>Torres</td>\n",
       "      <td>5844 Linden Land</td>\n",
       "      <td>Hobart</td>\n",
       "      <td>Tasmania</td>\n",
       "      <td>Australia</td>\n",
       "      <td>7001</td>\n",
       "      <td>...</td>\n",
       "      <td>Bachelors</td>\n",
       "      <td>Professional</td>\n",
       "      <td>M</td>\n",
       "      <td>M</td>\n",
       "      <td>1</td>\n",
       "      <td>1</td>\n",
       "      <td>3</td>\n",
       "      <td>3</td>\n",
       "      <td>91945</td>\n",
       "      <td>51.0</td>\n",
       "    </tr>\n",
       "    <tr>\n",
       "      <th>3</th>\n",
       "      <td>3</td>\n",
       "      <td>3</td>\n",
       "      <td>11003</td>\n",
       "      <td>Christy</td>\n",
       "      <td>Zhu</td>\n",
       "      <td>1825 Village Pl.</td>\n",
       "      <td>North Ryde</td>\n",
       "      <td>New South Wales</td>\n",
       "      <td>Australia</td>\n",
       "      <td>2113</td>\n",
       "      <td>...</td>\n",
       "      <td>Bachelors</td>\n",
       "      <td>Professional</td>\n",
       "      <td>F</td>\n",
       "      <td>S</td>\n",
       "      <td>0</td>\n",
       "      <td>1</td>\n",
       "      <td>0</td>\n",
       "      <td>0</td>\n",
       "      <td>86688</td>\n",
       "      <td>49.0</td>\n",
       "    </tr>\n",
       "    <tr>\n",
       "      <th>4</th>\n",
       "      <td>4</td>\n",
       "      <td>4</td>\n",
       "      <td>11004</td>\n",
       "      <td>Elizabeth</td>\n",
       "      <td>Johnson</td>\n",
       "      <td>7553 Harness Circle</td>\n",
       "      <td>Wollongong</td>\n",
       "      <td>New South Wales</td>\n",
       "      <td>Australia</td>\n",
       "      <td>2500</td>\n",
       "      <td>...</td>\n",
       "      <td>Bachelors</td>\n",
       "      <td>Professional</td>\n",
       "      <td>F</td>\n",
       "      <td>S</td>\n",
       "      <td>1</td>\n",
       "      <td>4</td>\n",
       "      <td>5</td>\n",
       "      <td>5</td>\n",
       "      <td>92771</td>\n",
       "      <td>48.0</td>\n",
       "    </tr>\n",
       "  </tbody>\n",
       "</table>\n",
       "<p>5 rows × 22 columns</p>\n",
       "</div>"
      ],
      "text/plain": [
       "   Unnamed: 0  index  CustomerID  FirstName LastName         AddressLine1  \\\n",
       "0           0      0       11000        Jon     Yang      3761 N. 14th St   \n",
       "1           1      1       11001     Eugene    Huang           2243 W St.   \n",
       "2           2      2       11002      Ruben   Torres     5844 Linden Land   \n",
       "3           3      3       11003    Christy      Zhu     1825 Village Pl.   \n",
       "4           4      4       11004  Elizabeth  Johnson  7553 Harness Circle   \n",
       "\n",
       "          City StateProvinceName CountryRegionName PostalCode  ...  \\\n",
       "0  Rockhampton        Queensland         Australia       4700  ...   \n",
       "1      Seaford          Victoria         Australia       3198  ...   \n",
       "2       Hobart          Tasmania         Australia       7001  ...   \n",
       "3   North Ryde   New South Wales         Australia       2113  ...   \n",
       "4   Wollongong   New South Wales         Australia       2500  ...   \n",
       "\n",
       "    Education    Occupation Gender MaritalStatus HomeOwnerFlag  \\\n",
       "0  Bachelors   Professional      M             M             1   \n",
       "1  Bachelors   Professional      M             S             0   \n",
       "2  Bachelors   Professional      M             M             1   \n",
       "3  Bachelors   Professional      F             S             0   \n",
       "4  Bachelors   Professional      F             S             1   \n",
       "\n",
       "  NumberCarsOwned  NumberChildrenAtHome  TotalChildren  YearlyIncome   Age  \n",
       "0               0                     0              2        137947  51.0  \n",
       "1               1                     3              3        101141  52.0  \n",
       "2               1                     3              3         91945  51.0  \n",
       "3               1                     0              0         86688  49.0  \n",
       "4               4                     5              5         92771  48.0  \n",
       "\n",
       "[5 rows x 22 columns]"
      ]
     },
     "execution_count": 11,
     "metadata": {},
     "output_type": "execute_result"
    }
   ],
   "source": [
    "customers.head()"
   ]
  },
  {
   "cell_type": "code",
   "execution_count": 12,
   "id": "3d3c1a36",
   "metadata": {
    "ExecuteTime": {
     "end_time": "2022-12-22T18:50:24.971529Z",
     "start_time": "2022-12-22T18:50:24.956525Z"
    }
   },
   "outputs": [
    {
     "data": {
      "text/plain": [
       "Index(['Unnamed: 0', 'index', 'CustomerID', 'FirstName', 'LastName',\n",
       "       'AddressLine1', 'City', 'StateProvinceName', 'CountryRegionName',\n",
       "       'PostalCode', 'PhoneNumber', 'BirthDate', 'Education', 'Occupation',\n",
       "       'Gender', 'MaritalStatus', 'HomeOwnerFlag', 'NumberCarsOwned',\n",
       "       'NumberChildrenAtHome', 'TotalChildren', 'YearlyIncome', 'Age'],\n",
       "      dtype='object')"
      ]
     },
     "execution_count": 12,
     "metadata": {},
     "output_type": "execute_result"
    }
   ],
   "source": [
    "customers.columns"
   ]
  },
  {
   "cell_type": "code",
   "execution_count": 13,
   "id": "ce7f3f32",
   "metadata": {
    "ExecuteTime": {
     "end_time": "2022-12-22T18:50:24.986548Z",
     "start_time": "2022-12-22T18:50:24.973540Z"
    }
   },
   "outputs": [
    {
     "data": {
      "text/html": [
       "<div>\n",
       "<style scoped>\n",
       "    .dataframe tbody tr th:only-of-type {\n",
       "        vertical-align: middle;\n",
       "    }\n",
       "\n",
       "    .dataframe tbody tr th {\n",
       "        vertical-align: top;\n",
       "    }\n",
       "\n",
       "    .dataframe thead th {\n",
       "        text-align: right;\n",
       "    }\n",
       "</style>\n",
       "<table border=\"1\" class=\"dataframe\">\n",
       "  <thead>\n",
       "    <tr style=\"text-align: right;\">\n",
       "      <th></th>\n",
       "      <th>CustomerID</th>\n",
       "      <th>FirstName</th>\n",
       "      <th>LastName</th>\n",
       "      <th>AddressLine1</th>\n",
       "      <th>City</th>\n",
       "      <th>StateProvinceName</th>\n",
       "      <th>CountryRegionName</th>\n",
       "      <th>PostalCode</th>\n",
       "      <th>PhoneNumber</th>\n",
       "      <th>BirthDate</th>\n",
       "      <th>Education</th>\n",
       "      <th>Occupation</th>\n",
       "      <th>Gender</th>\n",
       "      <th>MaritalStatus</th>\n",
       "      <th>HomeOwnerFlag</th>\n",
       "      <th>NumberCarsOwned</th>\n",
       "      <th>NumberChildrenAtHome</th>\n",
       "      <th>TotalChildren</th>\n",
       "      <th>YearlyIncome</th>\n",
       "      <th>Age</th>\n",
       "    </tr>\n",
       "  </thead>\n",
       "  <tbody>\n",
       "    <tr>\n",
       "      <th>0</th>\n",
       "      <td>11000</td>\n",
       "      <td>Jon</td>\n",
       "      <td>Yang</td>\n",
       "      <td>3761 N. 14th St</td>\n",
       "      <td>Rockhampton</td>\n",
       "      <td>Queensland</td>\n",
       "      <td>Australia</td>\n",
       "      <td>4700</td>\n",
       "      <td>1 (11) 500 555-0162</td>\n",
       "      <td>1966-04-08</td>\n",
       "      <td>Bachelors</td>\n",
       "      <td>Professional</td>\n",
       "      <td>M</td>\n",
       "      <td>M</td>\n",
       "      <td>1</td>\n",
       "      <td>0</td>\n",
       "      <td>0</td>\n",
       "      <td>2</td>\n",
       "      <td>137947</td>\n",
       "      <td>51.0</td>\n",
       "    </tr>\n",
       "    <tr>\n",
       "      <th>1</th>\n",
       "      <td>11001</td>\n",
       "      <td>Eugene</td>\n",
       "      <td>Huang</td>\n",
       "      <td>2243 W St.</td>\n",
       "      <td>Seaford</td>\n",
       "      <td>Victoria</td>\n",
       "      <td>Australia</td>\n",
       "      <td>3198</td>\n",
       "      <td>1 (11) 500 555-0110</td>\n",
       "      <td>1965-05-14</td>\n",
       "      <td>Bachelors</td>\n",
       "      <td>Professional</td>\n",
       "      <td>M</td>\n",
       "      <td>S</td>\n",
       "      <td>0</td>\n",
       "      <td>1</td>\n",
       "      <td>3</td>\n",
       "      <td>3</td>\n",
       "      <td>101141</td>\n",
       "      <td>52.0</td>\n",
       "    </tr>\n",
       "    <tr>\n",
       "      <th>2</th>\n",
       "      <td>11002</td>\n",
       "      <td>Ruben</td>\n",
       "      <td>Torres</td>\n",
       "      <td>5844 Linden Land</td>\n",
       "      <td>Hobart</td>\n",
       "      <td>Tasmania</td>\n",
       "      <td>Australia</td>\n",
       "      <td>7001</td>\n",
       "      <td>1 (11) 500 555-0184</td>\n",
       "      <td>1965-08-12</td>\n",
       "      <td>Bachelors</td>\n",
       "      <td>Professional</td>\n",
       "      <td>M</td>\n",
       "      <td>M</td>\n",
       "      <td>1</td>\n",
       "      <td>1</td>\n",
       "      <td>3</td>\n",
       "      <td>3</td>\n",
       "      <td>91945</td>\n",
       "      <td>51.0</td>\n",
       "    </tr>\n",
       "    <tr>\n",
       "      <th>3</th>\n",
       "      <td>11003</td>\n",
       "      <td>Christy</td>\n",
       "      <td>Zhu</td>\n",
       "      <td>1825 Village Pl.</td>\n",
       "      <td>North Ryde</td>\n",
       "      <td>New South Wales</td>\n",
       "      <td>Australia</td>\n",
       "      <td>2113</td>\n",
       "      <td>1 (11) 500 555-0162</td>\n",
       "      <td>1968-02-15</td>\n",
       "      <td>Bachelors</td>\n",
       "      <td>Professional</td>\n",
       "      <td>F</td>\n",
       "      <td>S</td>\n",
       "      <td>0</td>\n",
       "      <td>1</td>\n",
       "      <td>0</td>\n",
       "      <td>0</td>\n",
       "      <td>86688</td>\n",
       "      <td>49.0</td>\n",
       "    </tr>\n",
       "    <tr>\n",
       "      <th>4</th>\n",
       "      <td>11004</td>\n",
       "      <td>Elizabeth</td>\n",
       "      <td>Johnson</td>\n",
       "      <td>7553 Harness Circle</td>\n",
       "      <td>Wollongong</td>\n",
       "      <td>New South Wales</td>\n",
       "      <td>Australia</td>\n",
       "      <td>2500</td>\n",
       "      <td>1 (11) 500 555-0131</td>\n",
       "      <td>1968-08-08</td>\n",
       "      <td>Bachelors</td>\n",
       "      <td>Professional</td>\n",
       "      <td>F</td>\n",
       "      <td>S</td>\n",
       "      <td>1</td>\n",
       "      <td>4</td>\n",
       "      <td>5</td>\n",
       "      <td>5</td>\n",
       "      <td>92771</td>\n",
       "      <td>48.0</td>\n",
       "    </tr>\n",
       "  </tbody>\n",
       "</table>\n",
       "</div>"
      ],
      "text/plain": [
       "   CustomerID  FirstName LastName         AddressLine1         City  \\\n",
       "0       11000        Jon     Yang      3761 N. 14th St  Rockhampton   \n",
       "1       11001     Eugene    Huang           2243 W St.      Seaford   \n",
       "2       11002      Ruben   Torres     5844 Linden Land       Hobart   \n",
       "3       11003    Christy      Zhu     1825 Village Pl.   North Ryde   \n",
       "4       11004  Elizabeth  Johnson  7553 Harness Circle   Wollongong   \n",
       "\n",
       "  StateProvinceName CountryRegionName PostalCode          PhoneNumber  \\\n",
       "0        Queensland         Australia       4700  1 (11) 500 555-0162   \n",
       "1          Victoria         Australia       3198  1 (11) 500 555-0110   \n",
       "2          Tasmania         Australia       7001  1 (11) 500 555-0184   \n",
       "3   New South Wales         Australia       2113  1 (11) 500 555-0162   \n",
       "4   New South Wales         Australia       2500  1 (11) 500 555-0131   \n",
       "\n",
       "    BirthDate   Education    Occupation Gender MaritalStatus  HomeOwnerFlag  \\\n",
       "0  1966-04-08  Bachelors   Professional      M             M              1   \n",
       "1  1965-05-14  Bachelors   Professional      M             S              0   \n",
       "2  1965-08-12  Bachelors   Professional      M             M              1   \n",
       "3  1968-02-15  Bachelors   Professional      F             S              0   \n",
       "4  1968-08-08  Bachelors   Professional      F             S              1   \n",
       "\n",
       "   NumberCarsOwned  NumberChildrenAtHome  TotalChildren  YearlyIncome   Age  \n",
       "0                0                     0              2        137947  51.0  \n",
       "1                1                     3              3        101141  52.0  \n",
       "2                1                     3              3         91945  51.0  \n",
       "3                1                     0              0         86688  49.0  \n",
       "4                4                     5              5         92771  48.0  "
      ]
     },
     "execution_count": 13,
     "metadata": {},
     "output_type": "execute_result"
    }
   ],
   "source": [
    "customers.drop(['Unnamed: 0', 'index'], axis=1, inplace=True)\n",
    "customers.head()"
   ]
  },
  {
   "cell_type": "code",
   "execution_count": 14,
   "id": "755187a1",
   "metadata": {
    "ExecuteTime": {
     "end_time": "2022-12-22T18:50:25.033543Z",
     "start_time": "2022-12-22T18:50:24.987536Z"
    }
   },
   "outputs": [
    {
     "name": "stdout",
     "output_type": "stream",
     "text": [
      "<class 'pandas.core.frame.DataFrame'>\n",
      "RangeIndex: 16921 entries, 0 to 16920\n",
      "Data columns (total 20 columns):\n",
      " #   Column                Non-Null Count  Dtype  \n",
      "---  ------                --------------  -----  \n",
      " 0   CustomerID            16921 non-null  int64  \n",
      " 1   FirstName             16921 non-null  object \n",
      " 2   LastName              16921 non-null  object \n",
      " 3   AddressLine1          16921 non-null  object \n",
      " 4   City                  16921 non-null  object \n",
      " 5   StateProvinceName     16921 non-null  object \n",
      " 6   CountryRegionName     16921 non-null  object \n",
      " 7   PostalCode            16921 non-null  object \n",
      " 8   PhoneNumber           16921 non-null  object \n",
      " 9   BirthDate             16921 non-null  object \n",
      " 10  Education             16921 non-null  object \n",
      " 11  Occupation            16921 non-null  object \n",
      " 12  Gender                16921 non-null  object \n",
      " 13  MaritalStatus         16921 non-null  object \n",
      " 14  HomeOwnerFlag         16921 non-null  int64  \n",
      " 15  NumberCarsOwned       16921 non-null  int64  \n",
      " 16  NumberChildrenAtHome  16921 non-null  int64  \n",
      " 17  TotalChildren         16921 non-null  int64  \n",
      " 18  YearlyIncome          16921 non-null  int64  \n",
      " 19  Age                   16921 non-null  float64\n",
      "dtypes: float64(1), int64(6), object(13)\n",
      "memory usage: 2.6+ MB\n"
     ]
    }
   ],
   "source": [
    "customers.info()"
   ]
  },
  {
   "cell_type": "code",
   "execution_count": 15,
   "id": "ee757890",
   "metadata": {
    "ExecuteTime": {
     "end_time": "2022-12-22T18:50:25.064556Z",
     "start_time": "2022-12-22T18:50:25.034551Z"
    }
   },
   "outputs": [
    {
     "data": {
      "text/plain": [
       "CustomerID              0\n",
       "FirstName               0\n",
       "LastName                0\n",
       "AddressLine1            0\n",
       "City                    0\n",
       "StateProvinceName       0\n",
       "CountryRegionName       0\n",
       "PostalCode              0\n",
       "PhoneNumber             0\n",
       "BirthDate               0\n",
       "Education               0\n",
       "Occupation              0\n",
       "Gender                  0\n",
       "MaritalStatus           0\n",
       "HomeOwnerFlag           0\n",
       "NumberCarsOwned         0\n",
       "NumberChildrenAtHome    0\n",
       "TotalChildren           0\n",
       "YearlyIncome            0\n",
       "Age                     0\n",
       "dtype: int64"
      ]
     },
     "execution_count": 15,
     "metadata": {},
     "output_type": "execute_result"
    }
   ],
   "source": [
    "customers.isnull().sum()"
   ]
  },
  {
   "cell_type": "code",
   "execution_count": 16,
   "id": "e9cdd989",
   "metadata": {
    "ExecuteTime": {
     "end_time": "2022-12-22T18:50:25.095563Z",
     "start_time": "2022-12-22T18:50:25.065556Z"
    }
   },
   "outputs": [
    {
     "data": {
      "text/plain": [
       "0"
      ]
     },
     "execution_count": 16,
     "metadata": {},
     "output_type": "execute_result"
    }
   ],
   "source": [
    "customers.duplicated().sum()"
   ]
  },
  {
   "cell_type": "code",
   "execution_count": 17,
   "id": "cf567522",
   "metadata": {
    "ExecuteTime": {
     "end_time": "2022-12-22T18:50:25.111559Z",
     "start_time": "2022-12-22T18:50:25.097563Z"
    }
   },
   "outputs": [
    {
     "data": {
      "text/html": [
       "<div>\n",
       "<style scoped>\n",
       "    .dataframe tbody tr th:only-of-type {\n",
       "        vertical-align: middle;\n",
       "    }\n",
       "\n",
       "    .dataframe tbody tr th {\n",
       "        vertical-align: top;\n",
       "    }\n",
       "\n",
       "    .dataframe thead th {\n",
       "        text-align: right;\n",
       "    }\n",
       "</style>\n",
       "<table border=\"1\" class=\"dataframe\">\n",
       "  <thead>\n",
       "    <tr style=\"text-align: right;\">\n",
       "      <th></th>\n",
       "      <th>Unnamed: 0</th>\n",
       "      <th>Education</th>\n",
       "      <th>Occupation</th>\n",
       "      <th>Gender</th>\n",
       "      <th>MaritalStatus</th>\n",
       "      <th>HomeOwnerFlag</th>\n",
       "      <th>NumberCarsOwned</th>\n",
       "      <th>NumberChildrenAtHome</th>\n",
       "      <th>TotalChildren</th>\n",
       "      <th>Country_Australia</th>\n",
       "      <th>Country_Canada</th>\n",
       "      <th>Country_France</th>\n",
       "      <th>Country_Germany</th>\n",
       "      <th>Country_United Kingdom</th>\n",
       "      <th>Country_United States</th>\n",
       "      <th>Age</th>\n",
       "      <th>YearlyIncome</th>\n",
       "      <th>CustomerID</th>\n",
       "    </tr>\n",
       "  </thead>\n",
       "  <tbody>\n",
       "    <tr>\n",
       "      <th>0</th>\n",
       "      <td>0</td>\n",
       "      <td>4</td>\n",
       "      <td>4</td>\n",
       "      <td>0</td>\n",
       "      <td>0</td>\n",
       "      <td>1</td>\n",
       "      <td>0</td>\n",
       "      <td>0</td>\n",
       "      <td>2</td>\n",
       "      <td>1</td>\n",
       "      <td>0</td>\n",
       "      <td>0</td>\n",
       "      <td>0</td>\n",
       "      <td>0</td>\n",
       "      <td>0</td>\n",
       "      <td>0.306122</td>\n",
       "      <td>0.686872</td>\n",
       "      <td>11000</td>\n",
       "    </tr>\n",
       "    <tr>\n",
       "      <th>1</th>\n",
       "      <td>1</td>\n",
       "      <td>4</td>\n",
       "      <td>4</td>\n",
       "      <td>0</td>\n",
       "      <td>1</td>\n",
       "      <td>0</td>\n",
       "      <td>1</td>\n",
       "      <td>3</td>\n",
       "      <td>3</td>\n",
       "      <td>1</td>\n",
       "      <td>0</td>\n",
       "      <td>0</td>\n",
       "      <td>0</td>\n",
       "      <td>0</td>\n",
       "      <td>0</td>\n",
       "      <td>0.326531</td>\n",
       "      <td>0.490079</td>\n",
       "      <td>11001</td>\n",
       "    </tr>\n",
       "    <tr>\n",
       "      <th>2</th>\n",
       "      <td>2</td>\n",
       "      <td>4</td>\n",
       "      <td>4</td>\n",
       "      <td>0</td>\n",
       "      <td>0</td>\n",
       "      <td>1</td>\n",
       "      <td>1</td>\n",
       "      <td>3</td>\n",
       "      <td>3</td>\n",
       "      <td>1</td>\n",
       "      <td>0</td>\n",
       "      <td>0</td>\n",
       "      <td>0</td>\n",
       "      <td>0</td>\n",
       "      <td>0</td>\n",
       "      <td>0.306122</td>\n",
       "      <td>0.440910</td>\n",
       "      <td>11002</td>\n",
       "    </tr>\n",
       "    <tr>\n",
       "      <th>3</th>\n",
       "      <td>3</td>\n",
       "      <td>4</td>\n",
       "      <td>4</td>\n",
       "      <td>1</td>\n",
       "      <td>1</td>\n",
       "      <td>0</td>\n",
       "      <td>1</td>\n",
       "      <td>0</td>\n",
       "      <td>0</td>\n",
       "      <td>1</td>\n",
       "      <td>0</td>\n",
       "      <td>0</td>\n",
       "      <td>0</td>\n",
       "      <td>0</td>\n",
       "      <td>0</td>\n",
       "      <td>0.265306</td>\n",
       "      <td>0.412802</td>\n",
       "      <td>11003</td>\n",
       "    </tr>\n",
       "    <tr>\n",
       "      <th>4</th>\n",
       "      <td>4</td>\n",
       "      <td>4</td>\n",
       "      <td>4</td>\n",
       "      <td>1</td>\n",
       "      <td>1</td>\n",
       "      <td>1</td>\n",
       "      <td>4</td>\n",
       "      <td>5</td>\n",
       "      <td>5</td>\n",
       "      <td>1</td>\n",
       "      <td>0</td>\n",
       "      <td>0</td>\n",
       "      <td>0</td>\n",
       "      <td>0</td>\n",
       "      <td>0</td>\n",
       "      <td>0.244898</td>\n",
       "      <td>0.445327</td>\n",
       "      <td>11004</td>\n",
       "    </tr>\n",
       "  </tbody>\n",
       "</table>\n",
       "</div>"
      ],
      "text/plain": [
       "   Unnamed: 0  Education  Occupation  Gender  MaritalStatus  HomeOwnerFlag  \\\n",
       "0           0          4           4       0              0              1   \n",
       "1           1          4           4       0              1              0   \n",
       "2           2          4           4       0              0              1   \n",
       "3           3          4           4       1              1              0   \n",
       "4           4          4           4       1              1              1   \n",
       "\n",
       "   NumberCarsOwned  NumberChildrenAtHome  TotalChildren  Country_Australia  \\\n",
       "0                0                     0              2                  1   \n",
       "1                1                     3              3                  1   \n",
       "2                1                     3              3                  1   \n",
       "3                1                     0              0                  1   \n",
       "4                4                     5              5                  1   \n",
       "\n",
       "   Country_Canada  Country_France  Country_Germany  Country_United Kingdom  \\\n",
       "0               0               0                0                       0   \n",
       "1               0               0                0                       0   \n",
       "2               0               0                0                       0   \n",
       "3               0               0                0                       0   \n",
       "4               0               0                0                       0   \n",
       "\n",
       "   Country_United States       Age  YearlyIncome  CustomerID  \n",
       "0                      0  0.306122      0.686872       11000  \n",
       "1                      0  0.326531      0.490079       11001  \n",
       "2                      0  0.306122      0.440910       11002  \n",
       "3                      0  0.265306      0.412802       11003  \n",
       "4                      0  0.244898      0.445327       11004  "
      ]
     },
     "execution_count": 17,
     "metadata": {},
     "output_type": "execute_result"
    }
   ],
   "source": [
    "cust_scaled.head()"
   ]
  },
  {
   "cell_type": "code",
   "execution_count": 18,
   "id": "3585c8c1",
   "metadata": {
    "ExecuteTime": {
     "end_time": "2022-12-22T18:50:25.127563Z",
     "start_time": "2022-12-22T18:50:25.112562Z"
    }
   },
   "outputs": [
    {
     "data": {
      "text/plain": [
       "Index(['Unnamed: 0', 'Education', 'Occupation', 'Gender', 'MaritalStatus',\n",
       "       'HomeOwnerFlag', 'NumberCarsOwned', 'NumberChildrenAtHome',\n",
       "       'TotalChildren', 'Country_Australia', 'Country_Canada',\n",
       "       'Country_France', 'Country_Germany', 'Country_United Kingdom',\n",
       "       'Country_United States', 'Age', 'YearlyIncome', 'CustomerID'],\n",
       "      dtype='object')"
      ]
     },
     "execution_count": 18,
     "metadata": {},
     "output_type": "execute_result"
    }
   ],
   "source": [
    "cust_scaled.columns"
   ]
  },
  {
   "cell_type": "code",
   "execution_count": 19,
   "id": "206d971c",
   "metadata": {
    "ExecuteTime": {
     "end_time": "2022-12-22T18:50:25.142568Z",
     "start_time": "2022-12-22T18:50:25.129563Z"
    }
   },
   "outputs": [
    {
     "data": {
      "text/plain": [
       "Index(['Education', 'Occupation', 'Gender', 'MaritalStatus', 'HomeOwnerFlag',\n",
       "       'NumberCarsOwned', 'NumberChildrenAtHome', 'TotalChildren',\n",
       "       'Country_Australia', 'Country_Canada', 'Country_France',\n",
       "       'Country_Germany', 'Country_United Kingdom', 'Country_United States',\n",
       "       'Age', 'YearlyIncome', 'CustomerID'],\n",
       "      dtype='object')"
      ]
     },
     "execution_count": 19,
     "metadata": {},
     "output_type": "execute_result"
    }
   ],
   "source": [
    "cust_scaled.drop(['Unnamed: 0'],axis=1,inplace=True)\n",
    "cust_scaled.columns"
   ]
  },
  {
   "cell_type": "code",
   "execution_count": 20,
   "id": "c9891ef5",
   "metadata": {
    "ExecuteTime": {
     "end_time": "2022-12-22T18:50:25.157853Z",
     "start_time": "2022-12-22T18:50:25.144568Z"
    }
   },
   "outputs": [
    {
     "name": "stdout",
     "output_type": "stream",
     "text": [
      "<class 'pandas.core.frame.DataFrame'>\n",
      "RangeIndex: 16837 entries, 0 to 16836\n",
      "Data columns (total 17 columns):\n",
      " #   Column                  Non-Null Count  Dtype  \n",
      "---  ------                  --------------  -----  \n",
      " 0   Education               16837 non-null  int64  \n",
      " 1   Occupation              16837 non-null  int64  \n",
      " 2   Gender                  16837 non-null  int64  \n",
      " 3   MaritalStatus           16837 non-null  int64  \n",
      " 4   HomeOwnerFlag           16837 non-null  int64  \n",
      " 5   NumberCarsOwned         16837 non-null  int64  \n",
      " 6   NumberChildrenAtHome    16837 non-null  int64  \n",
      " 7   TotalChildren           16837 non-null  int64  \n",
      " 8   Country_Australia       16837 non-null  int64  \n",
      " 9   Country_Canada          16837 non-null  int64  \n",
      " 10  Country_France          16837 non-null  int64  \n",
      " 11  Country_Germany         16837 non-null  int64  \n",
      " 12  Country_United Kingdom  16837 non-null  int64  \n",
      " 13  Country_United States   16837 non-null  int64  \n",
      " 14  Age                     16837 non-null  float64\n",
      " 15  YearlyIncome            16837 non-null  float64\n",
      " 16  CustomerID              16837 non-null  int64  \n",
      "dtypes: float64(2), int64(15)\n",
      "memory usage: 2.2 MB\n"
     ]
    }
   ],
   "source": [
    "cust_scaled.info()"
   ]
  },
  {
   "cell_type": "code",
   "execution_count": 21,
   "id": "3d8b5c54",
   "metadata": {
    "ExecuteTime": {
     "end_time": "2022-12-22T18:50:25.172868Z",
     "start_time": "2022-12-22T18:50:25.159864Z"
    }
   },
   "outputs": [
    {
     "data": {
      "text/plain": [
       "Education                 0\n",
       "Occupation                0\n",
       "Gender                    0\n",
       "MaritalStatus             0\n",
       "HomeOwnerFlag             0\n",
       "NumberCarsOwned           0\n",
       "NumberChildrenAtHome      0\n",
       "TotalChildren             0\n",
       "Country_Australia         0\n",
       "Country_Canada            0\n",
       "Country_France            0\n",
       "Country_Germany           0\n",
       "Country_United Kingdom    0\n",
       "Country_United States     0\n",
       "Age                       0\n",
       "YearlyIncome              0\n",
       "CustomerID                0\n",
       "dtype: int64"
      ]
     },
     "execution_count": 21,
     "metadata": {},
     "output_type": "execute_result"
    }
   ],
   "source": [
    "cust_scaled.isnull().sum()"
   ]
  },
  {
   "cell_type": "code",
   "execution_count": 22,
   "id": "d3e8fd2c",
   "metadata": {
    "ExecuteTime": {
     "end_time": "2022-12-22T18:50:25.188876Z",
     "start_time": "2022-12-22T18:50:25.173861Z"
    }
   },
   "outputs": [
    {
     "data": {
      "text/plain": [
       "0"
      ]
     },
     "execution_count": 22,
     "metadata": {},
     "output_type": "execute_result"
    }
   ],
   "source": [
    "cust_scaled.duplicated().sum()"
   ]
  },
  {
   "cell_type": "markdown",
   "id": "a3759fba",
   "metadata": {},
   "source": [
    "# Data Prep"
   ]
  },
  {
   "cell_type": "markdown",
   "id": "bdc9976b",
   "metadata": {},
   "source": [
    "## Target Columns"
   ]
  },
  {
   "cell_type": "raw",
   "id": "d464bd37",
   "metadata": {},
   "source": [
    "To do the classification we need details for each customer along with a flag saying did they purchase yes or no"
   ]
  },
  {
   "cell_type": "code",
   "execution_count": 23,
   "id": "b4d1133d",
   "metadata": {
    "ExecuteTime": {
     "end_time": "2022-12-22T18:50:25.204886Z",
     "start_time": "2022-12-22T18:50:25.190871Z"
    }
   },
   "outputs": [
    {
     "data": {
      "text/plain": [
       "Index(['OrderDate', 'StockDate', 'OrderNumber', 'ProductKey',\n",
       "       'ProductCategoryKey', 'CategoryName', 'ProductSubcategoryKey',\n",
       "       'SubcategoryName', 'ProductCost', 'ProductPrice', 'CustomerKey',\n",
       "       'TerritoryKey', 'Region', 'Country', 'Continent', 'OrderLineItem',\n",
       "       'OrderQuantity', 'OrderValue', 'OrderProfit', 'year', 'month', 'week'],\n",
       "      dtype='object')"
      ]
     },
     "execution_count": 23,
     "metadata": {},
     "output_type": "execute_result"
    }
   ],
   "source": [
    "sales.columns"
   ]
  },
  {
   "cell_type": "code",
   "execution_count": 24,
   "id": "6f4df870",
   "metadata": {
    "ExecuteTime": {
     "end_time": "2022-12-22T18:50:25.220877Z",
     "start_time": "2022-12-22T18:50:25.206874Z"
    }
   },
   "outputs": [
    {
     "data": {
      "text/plain": [
       "CustomerKey\n",
       "11000    4656.3896\n",
       "11001    2821.2122\n",
       "11002    4466.8124\n",
       "11003    4532.9866\n",
       "11004    4568.0838\n",
       "           ...    \n",
       "29479    2049.0982\n",
       "29480    2471.6068\n",
       "29481    3374.9900\n",
       "29482    2049.0982\n",
       "29483    2049.0982\n",
       "Name: OrderValue, Length: 17416, dtype: float64"
      ]
     },
     "execution_count": 24,
     "metadata": {},
     "output_type": "execute_result"
    }
   ],
   "source": [
    "#get customers total purchases\n",
    "\n",
    "custspend = sales.groupby(\"CustomerKey\")[\"OrderValue\"].sum()\n",
    "custspend"
   ]
  },
  {
   "cell_type": "code",
   "execution_count": 25,
   "id": "3b29fe4a",
   "metadata": {
    "ExecuteTime": {
     "end_time": "2022-12-22T18:50:25.236883Z",
     "start_time": "2022-12-22T18:50:25.221878Z"
    }
   },
   "outputs": [
    {
     "data": {
      "text/html": [
       "<div>\n",
       "<style scoped>\n",
       "    .dataframe tbody tr th:only-of-type {\n",
       "        vertical-align: middle;\n",
       "    }\n",
       "\n",
       "    .dataframe tbody tr th {\n",
       "        vertical-align: top;\n",
       "    }\n",
       "\n",
       "    .dataframe thead th {\n",
       "        text-align: right;\n",
       "    }\n",
       "</style>\n",
       "<table border=\"1\" class=\"dataframe\">\n",
       "  <thead>\n",
       "    <tr style=\"text-align: right;\">\n",
       "      <th></th>\n",
       "      <th>CustomerKey</th>\n",
       "      <th>OrderValue</th>\n",
       "    </tr>\n",
       "  </thead>\n",
       "  <tbody>\n",
       "    <tr>\n",
       "      <th>0</th>\n",
       "      <td>11000</td>\n",
       "      <td>4656.3896</td>\n",
       "    </tr>\n",
       "    <tr>\n",
       "      <th>1</th>\n",
       "      <td>11001</td>\n",
       "      <td>2821.2122</td>\n",
       "    </tr>\n",
       "    <tr>\n",
       "      <th>2</th>\n",
       "      <td>11002</td>\n",
       "      <td>4466.8124</td>\n",
       "    </tr>\n",
       "    <tr>\n",
       "      <th>3</th>\n",
       "      <td>11003</td>\n",
       "      <td>4532.9866</td>\n",
       "    </tr>\n",
       "    <tr>\n",
       "      <th>4</th>\n",
       "      <td>11004</td>\n",
       "      <td>4568.0838</td>\n",
       "    </tr>\n",
       "    <tr>\n",
       "      <th>...</th>\n",
       "      <td>...</td>\n",
       "      <td>...</td>\n",
       "    </tr>\n",
       "    <tr>\n",
       "      <th>17411</th>\n",
       "      <td>29479</td>\n",
       "      <td>2049.0982</td>\n",
       "    </tr>\n",
       "    <tr>\n",
       "      <th>17412</th>\n",
       "      <td>29480</td>\n",
       "      <td>2471.6068</td>\n",
       "    </tr>\n",
       "    <tr>\n",
       "      <th>17413</th>\n",
       "      <td>29481</td>\n",
       "      <td>3374.9900</td>\n",
       "    </tr>\n",
       "    <tr>\n",
       "      <th>17414</th>\n",
       "      <td>29482</td>\n",
       "      <td>2049.0982</td>\n",
       "    </tr>\n",
       "    <tr>\n",
       "      <th>17415</th>\n",
       "      <td>29483</td>\n",
       "      <td>2049.0982</td>\n",
       "    </tr>\n",
       "  </tbody>\n",
       "</table>\n",
       "<p>17416 rows × 2 columns</p>\n",
       "</div>"
      ],
      "text/plain": [
       "       CustomerKey  OrderValue\n",
       "0            11000   4656.3896\n",
       "1            11001   2821.2122\n",
       "2            11002   4466.8124\n",
       "3            11003   4532.9866\n",
       "4            11004   4568.0838\n",
       "...            ...         ...\n",
       "17411        29479   2049.0982\n",
       "17412        29480   2471.6068\n",
       "17413        29481   3374.9900\n",
       "17414        29482   2049.0982\n",
       "17415        29483   2049.0982\n",
       "\n",
       "[17416 rows x 2 columns]"
      ]
     },
     "execution_count": 25,
     "metadata": {},
     "output_type": "execute_result"
    }
   ],
   "source": [
    "custspend = pd.DataFrame(custspend)\n",
    "custspend.reset_index(inplace=True)\n",
    "custspend"
   ]
  },
  {
   "cell_type": "code",
   "execution_count": 26,
   "id": "da635495",
   "metadata": {
    "ExecuteTime": {
     "end_time": "2022-12-22T18:50:25.252879Z",
     "start_time": "2022-12-22T18:50:25.238876Z"
    }
   },
   "outputs": [
    {
     "data": {
      "text/plain": [
       "(16921, 20)"
      ]
     },
     "execution_count": 26,
     "metadata": {},
     "output_type": "execute_result"
    }
   ],
   "source": [
    "customers.shape"
   ]
  },
  {
   "cell_type": "code",
   "execution_count": 27,
   "id": "9e6ec0b7",
   "metadata": {
    "ExecuteTime": {
     "end_time": "2022-12-22T18:50:25.268888Z",
     "start_time": "2022-12-22T18:50:25.256880Z"
    }
   },
   "outputs": [
    {
     "data": {
      "text/plain": [
       "16900"
      ]
     },
     "execution_count": 27,
     "metadata": {},
     "output_type": "execute_result"
    }
   ],
   "source": [
    "customers[\"CustomerID\"].nunique()"
   ]
  },
  {
   "cell_type": "code",
   "execution_count": 28,
   "id": "c5d9fcff",
   "metadata": {
    "ExecuteTime": {
     "end_time": "2022-12-22T18:50:25.284892Z",
     "start_time": "2022-12-22T18:50:25.269887Z"
    }
   },
   "outputs": [
    {
     "data": {
      "text/plain": [
       "17416"
      ]
     },
     "execution_count": 28,
     "metadata": {},
     "output_type": "execute_result"
    }
   ],
   "source": [
    "custspend[\"CustomerKey\"].nunique()"
   ]
  },
  {
   "cell_type": "code",
   "execution_count": 29,
   "id": "fa73907e",
   "metadata": {
    "ExecuteTime": {
     "end_time": "2022-12-22T18:50:25.300889Z",
     "start_time": "2022-12-22T18:50:25.286888Z"
    }
   },
   "outputs": [],
   "source": [
    "custspend.rename(columns={\"CustomerKey\":\"CustomerID\"}, inplace=True)"
   ]
  },
  {
   "cell_type": "code",
   "execution_count": 30,
   "id": "8e50bec7",
   "metadata": {
    "ExecuteTime": {
     "end_time": "2022-12-22T18:50:25.316893Z",
     "start_time": "2022-12-22T18:50:25.302891Z"
    }
   },
   "outputs": [],
   "source": [
    "check = pd.merge(customers,custspend, on=\"CustomerID\", how=\"left\")"
   ]
  },
  {
   "cell_type": "code",
   "execution_count": 31,
   "id": "8a993501",
   "metadata": {
    "ExecuteTime": {
     "end_time": "2022-12-22T18:50:25.348404Z",
     "start_time": "2022-12-22T18:50:25.318893Z"
    }
   },
   "outputs": [
    {
     "data": {
      "text/html": [
       "<div>\n",
       "<style scoped>\n",
       "    .dataframe tbody tr th:only-of-type {\n",
       "        vertical-align: middle;\n",
       "    }\n",
       "\n",
       "    .dataframe tbody tr th {\n",
       "        vertical-align: top;\n",
       "    }\n",
       "\n",
       "    .dataframe thead th {\n",
       "        text-align: right;\n",
       "    }\n",
       "</style>\n",
       "<table border=\"1\" class=\"dataframe\">\n",
       "  <thead>\n",
       "    <tr style=\"text-align: right;\">\n",
       "      <th></th>\n",
       "      <th>CustomerID</th>\n",
       "      <th>FirstName</th>\n",
       "      <th>LastName</th>\n",
       "      <th>AddressLine1</th>\n",
       "      <th>City</th>\n",
       "      <th>StateProvinceName</th>\n",
       "      <th>CountryRegionName</th>\n",
       "      <th>PostalCode</th>\n",
       "      <th>PhoneNumber</th>\n",
       "      <th>BirthDate</th>\n",
       "      <th>...</th>\n",
       "      <th>Occupation</th>\n",
       "      <th>Gender</th>\n",
       "      <th>MaritalStatus</th>\n",
       "      <th>HomeOwnerFlag</th>\n",
       "      <th>NumberCarsOwned</th>\n",
       "      <th>NumberChildrenAtHome</th>\n",
       "      <th>TotalChildren</th>\n",
       "      <th>YearlyIncome</th>\n",
       "      <th>Age</th>\n",
       "      <th>OrderValue</th>\n",
       "    </tr>\n",
       "  </thead>\n",
       "  <tbody>\n",
       "    <tr>\n",
       "      <th>0</th>\n",
       "      <td>11000</td>\n",
       "      <td>Jon</td>\n",
       "      <td>Yang</td>\n",
       "      <td>3761 N. 14th St</td>\n",
       "      <td>Rockhampton</td>\n",
       "      <td>Queensland</td>\n",
       "      <td>Australia</td>\n",
       "      <td>4700</td>\n",
       "      <td>1 (11) 500 555-0162</td>\n",
       "      <td>1966-04-08</td>\n",
       "      <td>...</td>\n",
       "      <td>Professional</td>\n",
       "      <td>M</td>\n",
       "      <td>M</td>\n",
       "      <td>1</td>\n",
       "      <td>0</td>\n",
       "      <td>0</td>\n",
       "      <td>2</td>\n",
       "      <td>137947</td>\n",
       "      <td>51.0</td>\n",
       "      <td>4656.3896</td>\n",
       "    </tr>\n",
       "    <tr>\n",
       "      <th>1</th>\n",
       "      <td>11001</td>\n",
       "      <td>Eugene</td>\n",
       "      <td>Huang</td>\n",
       "      <td>2243 W St.</td>\n",
       "      <td>Seaford</td>\n",
       "      <td>Victoria</td>\n",
       "      <td>Australia</td>\n",
       "      <td>3198</td>\n",
       "      <td>1 (11) 500 555-0110</td>\n",
       "      <td>1965-05-14</td>\n",
       "      <td>...</td>\n",
       "      <td>Professional</td>\n",
       "      <td>M</td>\n",
       "      <td>S</td>\n",
       "      <td>0</td>\n",
       "      <td>1</td>\n",
       "      <td>3</td>\n",
       "      <td>3</td>\n",
       "      <td>101141</td>\n",
       "      <td>52.0</td>\n",
       "      <td>2821.2122</td>\n",
       "    </tr>\n",
       "    <tr>\n",
       "      <th>2</th>\n",
       "      <td>11002</td>\n",
       "      <td>Ruben</td>\n",
       "      <td>Torres</td>\n",
       "      <td>5844 Linden Land</td>\n",
       "      <td>Hobart</td>\n",
       "      <td>Tasmania</td>\n",
       "      <td>Australia</td>\n",
       "      <td>7001</td>\n",
       "      <td>1 (11) 500 555-0184</td>\n",
       "      <td>1965-08-12</td>\n",
       "      <td>...</td>\n",
       "      <td>Professional</td>\n",
       "      <td>M</td>\n",
       "      <td>M</td>\n",
       "      <td>1</td>\n",
       "      <td>1</td>\n",
       "      <td>3</td>\n",
       "      <td>3</td>\n",
       "      <td>91945</td>\n",
       "      <td>51.0</td>\n",
       "      <td>4466.8124</td>\n",
       "    </tr>\n",
       "    <tr>\n",
       "      <th>3</th>\n",
       "      <td>11003</td>\n",
       "      <td>Christy</td>\n",
       "      <td>Zhu</td>\n",
       "      <td>1825 Village Pl.</td>\n",
       "      <td>North Ryde</td>\n",
       "      <td>New South Wales</td>\n",
       "      <td>Australia</td>\n",
       "      <td>2113</td>\n",
       "      <td>1 (11) 500 555-0162</td>\n",
       "      <td>1968-02-15</td>\n",
       "      <td>...</td>\n",
       "      <td>Professional</td>\n",
       "      <td>F</td>\n",
       "      <td>S</td>\n",
       "      <td>0</td>\n",
       "      <td>1</td>\n",
       "      <td>0</td>\n",
       "      <td>0</td>\n",
       "      <td>86688</td>\n",
       "      <td>49.0</td>\n",
       "      <td>4532.9866</td>\n",
       "    </tr>\n",
       "    <tr>\n",
       "      <th>4</th>\n",
       "      <td>11004</td>\n",
       "      <td>Elizabeth</td>\n",
       "      <td>Johnson</td>\n",
       "      <td>7553 Harness Circle</td>\n",
       "      <td>Wollongong</td>\n",
       "      <td>New South Wales</td>\n",
       "      <td>Australia</td>\n",
       "      <td>2500</td>\n",
       "      <td>1 (11) 500 555-0131</td>\n",
       "      <td>1968-08-08</td>\n",
       "      <td>...</td>\n",
       "      <td>Professional</td>\n",
       "      <td>F</td>\n",
       "      <td>S</td>\n",
       "      <td>1</td>\n",
       "      <td>4</td>\n",
       "      <td>5</td>\n",
       "      <td>5</td>\n",
       "      <td>92771</td>\n",
       "      <td>48.0</td>\n",
       "      <td>4568.0838</td>\n",
       "    </tr>\n",
       "    <tr>\n",
       "      <th>...</th>\n",
       "      <td>...</td>\n",
       "      <td>...</td>\n",
       "      <td>...</td>\n",
       "      <td>...</td>\n",
       "      <td>...</td>\n",
       "      <td>...</td>\n",
       "      <td>...</td>\n",
       "      <td>...</td>\n",
       "      <td>...</td>\n",
       "      <td>...</td>\n",
       "      <td>...</td>\n",
       "      <td>...</td>\n",
       "      <td>...</td>\n",
       "      <td>...</td>\n",
       "      <td>...</td>\n",
       "      <td>...</td>\n",
       "      <td>...</td>\n",
       "      <td>...</td>\n",
       "      <td>...</td>\n",
       "      <td>...</td>\n",
       "      <td>...</td>\n",
       "    </tr>\n",
       "    <tr>\n",
       "      <th>16916</th>\n",
       "      <td>24211</td>\n",
       "      <td>Sharon</td>\n",
       "      <td>Shan</td>\n",
       "      <td>5850 Westwood Dr</td>\n",
       "      <td>Peterborough</td>\n",
       "      <td>England</td>\n",
       "      <td>United Kingdom</td>\n",
       "      <td>PB12</td>\n",
       "      <td>1 (11) 500 555-0145</td>\n",
       "      <td>1969-01-18</td>\n",
       "      <td>...</td>\n",
       "      <td>Skilled Manual</td>\n",
       "      <td>F</td>\n",
       "      <td>S</td>\n",
       "      <td>0</td>\n",
       "      <td>0</td>\n",
       "      <td>0</td>\n",
       "      <td>0</td>\n",
       "      <td>97084</td>\n",
       "      <td>48.0</td>\n",
       "      <td>1048.5048</td>\n",
       "    </tr>\n",
       "    <tr>\n",
       "      <th>16917</th>\n",
       "      <td>23627</td>\n",
       "      <td>Adrienne</td>\n",
       "      <td>Navarro</td>\n",
       "      <td>Buergermeister-ulrich-str 900</td>\n",
       "      <td>Erlangen</td>\n",
       "      <td>Bayern</td>\n",
       "      <td>Germany</td>\n",
       "      <td>91054</td>\n",
       "      <td>1 (11) 500 555-0123</td>\n",
       "      <td>1950-04-26</td>\n",
       "      <td>...</td>\n",
       "      <td>Management</td>\n",
       "      <td>F</td>\n",
       "      <td>S</td>\n",
       "      <td>0</td>\n",
       "      <td>4</td>\n",
       "      <td>4</td>\n",
       "      <td>4</td>\n",
       "      <td>110762</td>\n",
       "      <td>67.0</td>\n",
       "      <td>45.6142</td>\n",
       "    </tr>\n",
       "    <tr>\n",
       "      <th>16918</th>\n",
       "      <td>14500</td>\n",
       "      <td>Jasmine</td>\n",
       "      <td>Ward</td>\n",
       "      <td>1707 Willowwood Ct.</td>\n",
       "      <td>Torrance</td>\n",
       "      <td>California</td>\n",
       "      <td>United States</td>\n",
       "      <td>90505</td>\n",
       "      <td>202-555-0117</td>\n",
       "      <td>1937-11-18</td>\n",
       "      <td>...</td>\n",
       "      <td>Management</td>\n",
       "      <td>F</td>\n",
       "      <td>S</td>\n",
       "      <td>0</td>\n",
       "      <td>4</td>\n",
       "      <td>3</td>\n",
       "      <td>3</td>\n",
       "      <td>138097</td>\n",
       "      <td>79.0</td>\n",
       "      <td>NaN</td>\n",
       "    </tr>\n",
       "    <tr>\n",
       "      <th>16919</th>\n",
       "      <td>22223</td>\n",
       "      <td>Gabrielle</td>\n",
       "      <td>Parker</td>\n",
       "      <td>6857 Medina Drive</td>\n",
       "      <td>Mill Valley</td>\n",
       "      <td>California</td>\n",
       "      <td>United States</td>\n",
       "      <td>94941</td>\n",
       "      <td>213-555-0111</td>\n",
       "      <td>1957-04-11</td>\n",
       "      <td>...</td>\n",
       "      <td>Professional</td>\n",
       "      <td>F</td>\n",
       "      <td>M</td>\n",
       "      <td>1</td>\n",
       "      <td>1</td>\n",
       "      <td>0</td>\n",
       "      <td>2</td>\n",
       "      <td>101465</td>\n",
       "      <td>60.0</td>\n",
       "      <td>69.9600</td>\n",
       "    </tr>\n",
       "    <tr>\n",
       "      <th>16920</th>\n",
       "      <td>29068</td>\n",
       "      <td>Cassandra</td>\n",
       "      <td>Madan</td>\n",
       "      <td>9409 Cedar Point Loop</td>\n",
       "      <td>Matraville</td>\n",
       "      <td>New South Wales</td>\n",
       "      <td>Australia</td>\n",
       "      <td>2036</td>\n",
       "      <td>1 (11) 500 555-0129</td>\n",
       "      <td>1947-03-18</td>\n",
       "      <td>...</td>\n",
       "      <td>Skilled Manual</td>\n",
       "      <td>F</td>\n",
       "      <td>S</td>\n",
       "      <td>0</td>\n",
       "      <td>2</td>\n",
       "      <td>0</td>\n",
       "      <td>4</td>\n",
       "      <td>19108</td>\n",
       "      <td>70.0</td>\n",
       "      <td>759.6384</td>\n",
       "    </tr>\n",
       "  </tbody>\n",
       "</table>\n",
       "<p>16921 rows × 21 columns</p>\n",
       "</div>"
      ],
      "text/plain": [
       "       CustomerID  FirstName LastName                   AddressLine1  \\\n",
       "0           11000        Jon     Yang                3761 N. 14th St   \n",
       "1           11001     Eugene    Huang                     2243 W St.   \n",
       "2           11002      Ruben   Torres               5844 Linden Land   \n",
       "3           11003    Christy      Zhu               1825 Village Pl.   \n",
       "4           11004  Elizabeth  Johnson            7553 Harness Circle   \n",
       "...           ...        ...      ...                            ...   \n",
       "16916       24211     Sharon     Shan               5850 Westwood Dr   \n",
       "16917       23627   Adrienne  Navarro  Buergermeister-ulrich-str 900   \n",
       "16918       14500    Jasmine     Ward            1707 Willowwood Ct.   \n",
       "16919       22223  Gabrielle   Parker              6857 Medina Drive   \n",
       "16920       29068  Cassandra    Madan          9409 Cedar Point Loop   \n",
       "\n",
       "               City StateProvinceName CountryRegionName PostalCode  \\\n",
       "0       Rockhampton        Queensland         Australia       4700   \n",
       "1           Seaford          Victoria         Australia       3198   \n",
       "2            Hobart          Tasmania         Australia       7001   \n",
       "3        North Ryde   New South Wales         Australia       2113   \n",
       "4        Wollongong   New South Wales         Australia       2500   \n",
       "...             ...               ...               ...        ...   \n",
       "16916  Peterborough           England    United Kingdom       PB12   \n",
       "16917      Erlangen            Bayern           Germany      91054   \n",
       "16918      Torrance        California     United States      90505   \n",
       "16919   Mill Valley        California     United States      94941   \n",
       "16920    Matraville   New South Wales         Australia       2036   \n",
       "\n",
       "               PhoneNumber   BirthDate  ...      Occupation Gender  \\\n",
       "0      1 (11) 500 555-0162  1966-04-08  ...    Professional      M   \n",
       "1      1 (11) 500 555-0110  1965-05-14  ...    Professional      M   \n",
       "2      1 (11) 500 555-0184  1965-08-12  ...    Professional      M   \n",
       "3      1 (11) 500 555-0162  1968-02-15  ...    Professional      F   \n",
       "4      1 (11) 500 555-0131  1968-08-08  ...    Professional      F   \n",
       "...                    ...         ...  ...             ...    ...   \n",
       "16916  1 (11) 500 555-0145  1969-01-18  ...  Skilled Manual      F   \n",
       "16917  1 (11) 500 555-0123  1950-04-26  ...      Management      F   \n",
       "16918         202-555-0117  1937-11-18  ...      Management      F   \n",
       "16919         213-555-0111  1957-04-11  ...    Professional      F   \n",
       "16920  1 (11) 500 555-0129  1947-03-18  ...  Skilled Manual      F   \n",
       "\n",
       "      MaritalStatus HomeOwnerFlag  NumberCarsOwned  NumberChildrenAtHome  \\\n",
       "0                 M             1                0                     0   \n",
       "1                 S             0                1                     3   \n",
       "2                 M             1                1                     3   \n",
       "3                 S             0                1                     0   \n",
       "4                 S             1                4                     5   \n",
       "...             ...           ...              ...                   ...   \n",
       "16916             S             0                0                     0   \n",
       "16917             S             0                4                     4   \n",
       "16918             S             0                4                     3   \n",
       "16919             M             1                1                     0   \n",
       "16920             S             0                2                     0   \n",
       "\n",
       "       TotalChildren  YearlyIncome   Age  OrderValue  \n",
       "0                  2        137947  51.0   4656.3896  \n",
       "1                  3        101141  52.0   2821.2122  \n",
       "2                  3         91945  51.0   4466.8124  \n",
       "3                  0         86688  49.0   4532.9866  \n",
       "4                  5         92771  48.0   4568.0838  \n",
       "...              ...           ...   ...         ...  \n",
       "16916              0         97084  48.0   1048.5048  \n",
       "16917              4        110762  67.0     45.6142  \n",
       "16918              3        138097  79.0         NaN  \n",
       "16919              2        101465  60.0     69.9600  \n",
       "16920              4         19108  70.0    759.6384  \n",
       "\n",
       "[16921 rows x 21 columns]"
      ]
     },
     "execution_count": 31,
     "metadata": {},
     "output_type": "execute_result"
    }
   ],
   "source": [
    "check"
   ]
  },
  {
   "cell_type": "code",
   "execution_count": 32,
   "id": "29fba4db",
   "metadata": {
    "ExecuteTime": {
     "end_time": "2022-12-22T18:50:25.380510Z",
     "start_time": "2022-12-22T18:50:25.349405Z"
    }
   },
   "outputs": [
    {
     "data": {
      "text/plain": [
       "CustomerID                0\n",
       "FirstName                 0\n",
       "LastName                  0\n",
       "AddressLine1              0\n",
       "City                      0\n",
       "StateProvinceName         0\n",
       "CountryRegionName         0\n",
       "PostalCode                0\n",
       "PhoneNumber               0\n",
       "BirthDate                 0\n",
       "Education                 0\n",
       "Occupation                0\n",
       "Gender                    0\n",
       "MaritalStatus             0\n",
       "HomeOwnerFlag             0\n",
       "NumberCarsOwned           0\n",
       "NumberChildrenAtHome      0\n",
       "TotalChildren             0\n",
       "YearlyIncome              0\n",
       "Age                       0\n",
       "OrderValue              984\n",
       "dtype: int64"
      ]
     },
     "execution_count": 32,
     "metadata": {},
     "output_type": "execute_result"
    }
   ],
   "source": [
    "check.isnull().sum()"
   ]
  },
  {
   "cell_type": "code",
   "execution_count": 33,
   "id": "903d1486",
   "metadata": {
    "ExecuteTime": {
     "end_time": "2022-12-22T18:50:25.395511Z",
     "start_time": "2022-12-22T18:50:25.382508Z"
    }
   },
   "outputs": [
    {
     "name": "stdout",
     "output_type": "stream",
     "text": [
      "<class 'pandas.core.frame.DataFrame'>\n",
      "RangeIndex: 17416 entries, 0 to 17415\n",
      "Data columns (total 2 columns):\n",
      " #   Column      Non-Null Count  Dtype  \n",
      "---  ------      --------------  -----  \n",
      " 0   CustomerID  17416 non-null  int64  \n",
      " 1   OrderValue  17416 non-null  float64\n",
      "dtypes: float64(1), int64(1)\n",
      "memory usage: 272.2 KB\n"
     ]
    }
   ],
   "source": [
    "custspend.info()"
   ]
  },
  {
   "cell_type": "code",
   "execution_count": 34,
   "id": "885d70df",
   "metadata": {
    "ExecuteTime": {
     "end_time": "2022-12-22T18:50:25.411515Z",
     "start_time": "2022-12-22T18:50:25.396513Z"
    }
   },
   "outputs": [],
   "source": [
    "cust_scaled_spend = pd.merge(cust_scaled,custspend, on=\"CustomerID\", how=\"left\")"
   ]
  },
  {
   "cell_type": "code",
   "execution_count": 35,
   "id": "517b1b92",
   "metadata": {
    "ExecuteTime": {
     "end_time": "2022-12-22T18:50:25.426518Z",
     "start_time": "2022-12-22T18:50:25.412518Z"
    }
   },
   "outputs": [
    {
     "data": {
      "text/html": [
       "<div>\n",
       "<style scoped>\n",
       "    .dataframe tbody tr th:only-of-type {\n",
       "        vertical-align: middle;\n",
       "    }\n",
       "\n",
       "    .dataframe tbody tr th {\n",
       "        vertical-align: top;\n",
       "    }\n",
       "\n",
       "    .dataframe thead th {\n",
       "        text-align: right;\n",
       "    }\n",
       "</style>\n",
       "<table border=\"1\" class=\"dataframe\">\n",
       "  <thead>\n",
       "    <tr style=\"text-align: right;\">\n",
       "      <th></th>\n",
       "      <th>Education</th>\n",
       "      <th>Occupation</th>\n",
       "      <th>Gender</th>\n",
       "      <th>MaritalStatus</th>\n",
       "      <th>HomeOwnerFlag</th>\n",
       "      <th>NumberCarsOwned</th>\n",
       "      <th>NumberChildrenAtHome</th>\n",
       "      <th>TotalChildren</th>\n",
       "      <th>Country_Australia</th>\n",
       "      <th>Country_Canada</th>\n",
       "      <th>Country_France</th>\n",
       "      <th>Country_Germany</th>\n",
       "      <th>Country_United Kingdom</th>\n",
       "      <th>Country_United States</th>\n",
       "      <th>Age</th>\n",
       "      <th>YearlyIncome</th>\n",
       "      <th>CustomerID</th>\n",
       "      <th>OrderValue</th>\n",
       "    </tr>\n",
       "  </thead>\n",
       "  <tbody>\n",
       "    <tr>\n",
       "      <th>0</th>\n",
       "      <td>4</td>\n",
       "      <td>4</td>\n",
       "      <td>0</td>\n",
       "      <td>0</td>\n",
       "      <td>1</td>\n",
       "      <td>0</td>\n",
       "      <td>0</td>\n",
       "      <td>2</td>\n",
       "      <td>1</td>\n",
       "      <td>0</td>\n",
       "      <td>0</td>\n",
       "      <td>0</td>\n",
       "      <td>0</td>\n",
       "      <td>0</td>\n",
       "      <td>0.306122</td>\n",
       "      <td>0.686872</td>\n",
       "      <td>11000</td>\n",
       "      <td>4656.3896</td>\n",
       "    </tr>\n",
       "    <tr>\n",
       "      <th>1</th>\n",
       "      <td>4</td>\n",
       "      <td>4</td>\n",
       "      <td>0</td>\n",
       "      <td>1</td>\n",
       "      <td>0</td>\n",
       "      <td>1</td>\n",
       "      <td>3</td>\n",
       "      <td>3</td>\n",
       "      <td>1</td>\n",
       "      <td>0</td>\n",
       "      <td>0</td>\n",
       "      <td>0</td>\n",
       "      <td>0</td>\n",
       "      <td>0</td>\n",
       "      <td>0.326531</td>\n",
       "      <td>0.490079</td>\n",
       "      <td>11001</td>\n",
       "      <td>2821.2122</td>\n",
       "    </tr>\n",
       "    <tr>\n",
       "      <th>2</th>\n",
       "      <td>4</td>\n",
       "      <td>4</td>\n",
       "      <td>0</td>\n",
       "      <td>0</td>\n",
       "      <td>1</td>\n",
       "      <td>1</td>\n",
       "      <td>3</td>\n",
       "      <td>3</td>\n",
       "      <td>1</td>\n",
       "      <td>0</td>\n",
       "      <td>0</td>\n",
       "      <td>0</td>\n",
       "      <td>0</td>\n",
       "      <td>0</td>\n",
       "      <td>0.306122</td>\n",
       "      <td>0.440910</td>\n",
       "      <td>11002</td>\n",
       "      <td>4466.8124</td>\n",
       "    </tr>\n",
       "    <tr>\n",
       "      <th>3</th>\n",
       "      <td>4</td>\n",
       "      <td>4</td>\n",
       "      <td>1</td>\n",
       "      <td>1</td>\n",
       "      <td>0</td>\n",
       "      <td>1</td>\n",
       "      <td>0</td>\n",
       "      <td>0</td>\n",
       "      <td>1</td>\n",
       "      <td>0</td>\n",
       "      <td>0</td>\n",
       "      <td>0</td>\n",
       "      <td>0</td>\n",
       "      <td>0</td>\n",
       "      <td>0.265306</td>\n",
       "      <td>0.412802</td>\n",
       "      <td>11003</td>\n",
       "      <td>4532.9866</td>\n",
       "    </tr>\n",
       "    <tr>\n",
       "      <th>4</th>\n",
       "      <td>4</td>\n",
       "      <td>4</td>\n",
       "      <td>1</td>\n",
       "      <td>1</td>\n",
       "      <td>1</td>\n",
       "      <td>4</td>\n",
       "      <td>5</td>\n",
       "      <td>5</td>\n",
       "      <td>1</td>\n",
       "      <td>0</td>\n",
       "      <td>0</td>\n",
       "      <td>0</td>\n",
       "      <td>0</td>\n",
       "      <td>0</td>\n",
       "      <td>0.244898</td>\n",
       "      <td>0.445327</td>\n",
       "      <td>11004</td>\n",
       "      <td>4568.0838</td>\n",
       "    </tr>\n",
       "  </tbody>\n",
       "</table>\n",
       "</div>"
      ],
      "text/plain": [
       "   Education  Occupation  Gender  MaritalStatus  HomeOwnerFlag  \\\n",
       "0          4           4       0              0              1   \n",
       "1          4           4       0              1              0   \n",
       "2          4           4       0              0              1   \n",
       "3          4           4       1              1              0   \n",
       "4          4           4       1              1              1   \n",
       "\n",
       "   NumberCarsOwned  NumberChildrenAtHome  TotalChildren  Country_Australia  \\\n",
       "0                0                     0              2                  1   \n",
       "1                1                     3              3                  1   \n",
       "2                1                     3              3                  1   \n",
       "3                1                     0              0                  1   \n",
       "4                4                     5              5                  1   \n",
       "\n",
       "   Country_Canada  Country_France  Country_Germany  Country_United Kingdom  \\\n",
       "0               0               0                0                       0   \n",
       "1               0               0                0                       0   \n",
       "2               0               0                0                       0   \n",
       "3               0               0                0                       0   \n",
       "4               0               0                0                       0   \n",
       "\n",
       "   Country_United States       Age  YearlyIncome  CustomerID  OrderValue  \n",
       "0                      0  0.306122      0.686872       11000   4656.3896  \n",
       "1                      0  0.326531      0.490079       11001   2821.2122  \n",
       "2                      0  0.306122      0.440910       11002   4466.8124  \n",
       "3                      0  0.265306      0.412802       11003   4532.9866  \n",
       "4                      0  0.244898      0.445327       11004   4568.0838  "
      ]
     },
     "execution_count": 35,
     "metadata": {},
     "output_type": "execute_result"
    }
   ],
   "source": [
    "cust_scaled_spend.head()"
   ]
  },
  {
   "cell_type": "code",
   "execution_count": 36,
   "id": "428cf601",
   "metadata": {
    "ExecuteTime": {
     "end_time": "2022-12-22T18:50:25.442521Z",
     "start_time": "2022-12-22T18:50:25.427521Z"
    }
   },
   "outputs": [
    {
     "data": {
      "text/plain": [
       "976"
      ]
     },
     "execution_count": 36,
     "metadata": {},
     "output_type": "execute_result"
    }
   ],
   "source": [
    "#checking customers that didn't spend anything\n",
    "cust_scaled_spend[\"OrderValue\"].isnull().sum()"
   ]
  },
  {
   "cell_type": "code",
   "execution_count": 37,
   "id": "5975e8a9",
   "metadata": {
    "ExecuteTime": {
     "end_time": "2022-12-22T18:50:25.490546Z",
     "start_time": "2022-12-22T18:50:25.444523Z"
    }
   },
   "outputs": [],
   "source": [
    "#replace them with zeros\n",
    "cust_scaled_spend[\"OrderValue\"].fillna(0, inplace=True)"
   ]
  },
  {
   "cell_type": "code",
   "execution_count": 38,
   "id": "a1f8a243",
   "metadata": {
    "ExecuteTime": {
     "end_time": "2022-12-22T18:50:25.506549Z",
     "start_time": "2022-12-22T18:50:25.492533Z"
    }
   },
   "outputs": [
    {
     "data": {
      "text/plain": [
       "0"
      ]
     },
     "execution_count": 38,
     "metadata": {},
     "output_type": "execute_result"
    }
   ],
   "source": [
    "cust_scaled_spend[\"OrderValue\"].isnull().sum()"
   ]
  },
  {
   "cell_type": "code",
   "execution_count": 39,
   "id": "9b1f8159",
   "metadata": {
    "ExecuteTime": {
     "end_time": "2022-12-22T18:50:25.522549Z",
     "start_time": "2022-12-22T18:50:25.508544Z"
    }
   },
   "outputs": [
    {
     "data": {
      "text/html": [
       "<div>\n",
       "<style scoped>\n",
       "    .dataframe tbody tr th:only-of-type {\n",
       "        vertical-align: middle;\n",
       "    }\n",
       "\n",
       "    .dataframe tbody tr th {\n",
       "        vertical-align: top;\n",
       "    }\n",
       "\n",
       "    .dataframe thead th {\n",
       "        text-align: right;\n",
       "    }\n",
       "</style>\n",
       "<table border=\"1\" class=\"dataframe\">\n",
       "  <thead>\n",
       "    <tr style=\"text-align: right;\">\n",
       "      <th></th>\n",
       "      <th>Education</th>\n",
       "      <th>Occupation</th>\n",
       "      <th>Gender</th>\n",
       "      <th>MaritalStatus</th>\n",
       "      <th>HomeOwnerFlag</th>\n",
       "      <th>NumberCarsOwned</th>\n",
       "      <th>NumberChildrenAtHome</th>\n",
       "      <th>TotalChildren</th>\n",
       "      <th>Country_Australia</th>\n",
       "      <th>Country_Canada</th>\n",
       "      <th>Country_France</th>\n",
       "      <th>Country_Germany</th>\n",
       "      <th>Country_United Kingdom</th>\n",
       "      <th>Country_United States</th>\n",
       "      <th>Age</th>\n",
       "      <th>YearlyIncome</th>\n",
       "      <th>CustomerID</th>\n",
       "      <th>OrderValue</th>\n",
       "      <th>PurchasedFlag</th>\n",
       "    </tr>\n",
       "  </thead>\n",
       "  <tbody>\n",
       "    <tr>\n",
       "      <th>0</th>\n",
       "      <td>4</td>\n",
       "      <td>4</td>\n",
       "      <td>0</td>\n",
       "      <td>0</td>\n",
       "      <td>1</td>\n",
       "      <td>0</td>\n",
       "      <td>0</td>\n",
       "      <td>2</td>\n",
       "      <td>1</td>\n",
       "      <td>0</td>\n",
       "      <td>0</td>\n",
       "      <td>0</td>\n",
       "      <td>0</td>\n",
       "      <td>0</td>\n",
       "      <td>0.306122</td>\n",
       "      <td>0.686872</td>\n",
       "      <td>11000</td>\n",
       "      <td>4656.3896</td>\n",
       "      <td>1</td>\n",
       "    </tr>\n",
       "    <tr>\n",
       "      <th>1</th>\n",
       "      <td>4</td>\n",
       "      <td>4</td>\n",
       "      <td>0</td>\n",
       "      <td>1</td>\n",
       "      <td>0</td>\n",
       "      <td>1</td>\n",
       "      <td>3</td>\n",
       "      <td>3</td>\n",
       "      <td>1</td>\n",
       "      <td>0</td>\n",
       "      <td>0</td>\n",
       "      <td>0</td>\n",
       "      <td>0</td>\n",
       "      <td>0</td>\n",
       "      <td>0.326531</td>\n",
       "      <td>0.490079</td>\n",
       "      <td>11001</td>\n",
       "      <td>2821.2122</td>\n",
       "      <td>1</td>\n",
       "    </tr>\n",
       "    <tr>\n",
       "      <th>2</th>\n",
       "      <td>4</td>\n",
       "      <td>4</td>\n",
       "      <td>0</td>\n",
       "      <td>0</td>\n",
       "      <td>1</td>\n",
       "      <td>1</td>\n",
       "      <td>3</td>\n",
       "      <td>3</td>\n",
       "      <td>1</td>\n",
       "      <td>0</td>\n",
       "      <td>0</td>\n",
       "      <td>0</td>\n",
       "      <td>0</td>\n",
       "      <td>0</td>\n",
       "      <td>0.306122</td>\n",
       "      <td>0.440910</td>\n",
       "      <td>11002</td>\n",
       "      <td>4466.8124</td>\n",
       "      <td>1</td>\n",
       "    </tr>\n",
       "    <tr>\n",
       "      <th>3</th>\n",
       "      <td>4</td>\n",
       "      <td>4</td>\n",
       "      <td>1</td>\n",
       "      <td>1</td>\n",
       "      <td>0</td>\n",
       "      <td>1</td>\n",
       "      <td>0</td>\n",
       "      <td>0</td>\n",
       "      <td>1</td>\n",
       "      <td>0</td>\n",
       "      <td>0</td>\n",
       "      <td>0</td>\n",
       "      <td>0</td>\n",
       "      <td>0</td>\n",
       "      <td>0.265306</td>\n",
       "      <td>0.412802</td>\n",
       "      <td>11003</td>\n",
       "      <td>4532.9866</td>\n",
       "      <td>1</td>\n",
       "    </tr>\n",
       "    <tr>\n",
       "      <th>4</th>\n",
       "      <td>4</td>\n",
       "      <td>4</td>\n",
       "      <td>1</td>\n",
       "      <td>1</td>\n",
       "      <td>1</td>\n",
       "      <td>4</td>\n",
       "      <td>5</td>\n",
       "      <td>5</td>\n",
       "      <td>1</td>\n",
       "      <td>0</td>\n",
       "      <td>0</td>\n",
       "      <td>0</td>\n",
       "      <td>0</td>\n",
       "      <td>0</td>\n",
       "      <td>0.244898</td>\n",
       "      <td>0.445327</td>\n",
       "      <td>11004</td>\n",
       "      <td>4568.0838</td>\n",
       "      <td>1</td>\n",
       "    </tr>\n",
       "  </tbody>\n",
       "</table>\n",
       "</div>"
      ],
      "text/plain": [
       "   Education  Occupation  Gender  MaritalStatus  HomeOwnerFlag  \\\n",
       "0          4           4       0              0              1   \n",
       "1          4           4       0              1              0   \n",
       "2          4           4       0              0              1   \n",
       "3          4           4       1              1              0   \n",
       "4          4           4       1              1              1   \n",
       "\n",
       "   NumberCarsOwned  NumberChildrenAtHome  TotalChildren  Country_Australia  \\\n",
       "0                0                     0              2                  1   \n",
       "1                1                     3              3                  1   \n",
       "2                1                     3              3                  1   \n",
       "3                1                     0              0                  1   \n",
       "4                4                     5              5                  1   \n",
       "\n",
       "   Country_Canada  Country_France  Country_Germany  Country_United Kingdom  \\\n",
       "0               0               0                0                       0   \n",
       "1               0               0                0                       0   \n",
       "2               0               0                0                       0   \n",
       "3               0               0                0                       0   \n",
       "4               0               0                0                       0   \n",
       "\n",
       "   Country_United States       Age  YearlyIncome  CustomerID  OrderValue  \\\n",
       "0                      0  0.306122      0.686872       11000   4656.3896   \n",
       "1                      0  0.326531      0.490079       11001   2821.2122   \n",
       "2                      0  0.306122      0.440910       11002   4466.8124   \n",
       "3                      0  0.265306      0.412802       11003   4532.9866   \n",
       "4                      0  0.244898      0.445327       11004   4568.0838   \n",
       "\n",
       "   PurchasedFlag  \n",
       "0              1  \n",
       "1              1  \n",
       "2              1  \n",
       "3              1  \n",
       "4              1  "
      ]
     },
     "execution_count": 39,
     "metadata": {},
     "output_type": "execute_result"
    }
   ],
   "source": [
    "cust_scaled_spend[\"PurchasedFlag\"] = np.where(cust_scaled_spend[\"OrderValue\"]==0,0,1)\n",
    "cust_scaled_spend.head()"
   ]
  },
  {
   "cell_type": "code",
   "execution_count": 40,
   "id": "066d2c45",
   "metadata": {
    "ExecuteTime": {
     "end_time": "2022-12-22T18:50:25.538557Z",
     "start_time": "2022-12-22T18:50:25.523543Z"
    }
   },
   "outputs": [
    {
     "data": {
      "text/plain": [
       "1    15861\n",
       "0      976\n",
       "Name: PurchasedFlag, dtype: int64"
      ]
     },
     "execution_count": 40,
     "metadata": {},
     "output_type": "execute_result"
    }
   ],
   "source": [
    "cust_scaled_spend[\"PurchasedFlag\"].value_counts()"
   ]
  },
  {
   "cell_type": "code",
   "execution_count": 41,
   "id": "88d44ff5",
   "metadata": {
    "ExecuteTime": {
     "end_time": "2022-12-22T18:50:25.554567Z",
     "start_time": "2022-12-22T18:50:25.540544Z"
    }
   },
   "outputs": [
    {
     "data": {
      "text/plain": [
       "0.05796757142008671"
      ]
     },
     "execution_count": 41,
     "metadata": {},
     "output_type": "execute_result"
    }
   ],
   "source": [
    "976/(15861+976) # data is imbalanced but let's try a classifier without balancing first"
   ]
  },
  {
   "cell_type": "markdown",
   "id": "00d7ebfb",
   "metadata": {},
   "source": [
    "# Which customers will purchase from this brand? Purchase yes or no classification"
   ]
  },
  {
   "cell_type": "markdown",
   "id": "612cf8db",
   "metadata": {},
   "source": [
    "## Logistic Regression - Imbalanced data"
   ]
  },
  {
   "cell_type": "code",
   "execution_count": 42,
   "id": "5d16d421",
   "metadata": {
    "ExecuteTime": {
     "end_time": "2022-12-22T18:50:25.570570Z",
     "start_time": "2022-12-22T18:50:25.556555Z"
    }
   },
   "outputs": [
    {
     "data": {
      "text/plain": [
       "Index(['Education', 'Occupation', 'Gender', 'MaritalStatus', 'HomeOwnerFlag',\n",
       "       'NumberCarsOwned', 'NumberChildrenAtHome', 'TotalChildren',\n",
       "       'Country_Australia', 'Country_Canada', 'Country_France',\n",
       "       'Country_Germany', 'Country_United Kingdom', 'Country_United States',\n",
       "       'Age', 'YearlyIncome', 'CustomerID', 'OrderValue', 'PurchasedFlag'],\n",
       "      dtype='object')"
      ]
     },
     "execution_count": 42,
     "metadata": {},
     "output_type": "execute_result"
    }
   ],
   "source": [
    "cust_scaled_spend.columns"
   ]
  },
  {
   "cell_type": "code",
   "execution_count": 43,
   "id": "106a5cb8",
   "metadata": {
    "ExecuteTime": {
     "end_time": "2022-12-22T18:50:25.586574Z",
     "start_time": "2022-12-22T18:50:25.572551Z"
    }
   },
   "outputs": [],
   "source": [
    "# first split target and features\n",
    "X = cust_scaled_spend.drop(['CustomerID', 'OrderValue', 'PurchasedFlag'],axis=1)\n",
    "y = cust_scaled_spend['PurchasedFlag']"
   ]
  },
  {
   "cell_type": "code",
   "execution_count": 44,
   "id": "83297624",
   "metadata": {
    "ExecuteTime": {
     "end_time": "2022-12-22T18:50:25.602558Z",
     "start_time": "2022-12-22T18:50:25.588556Z"
    }
   },
   "outputs": [
    {
     "data": {
      "text/html": [
       "<div>\n",
       "<style scoped>\n",
       "    .dataframe tbody tr th:only-of-type {\n",
       "        vertical-align: middle;\n",
       "    }\n",
       "\n",
       "    .dataframe tbody tr th {\n",
       "        vertical-align: top;\n",
       "    }\n",
       "\n",
       "    .dataframe thead th {\n",
       "        text-align: right;\n",
       "    }\n",
       "</style>\n",
       "<table border=\"1\" class=\"dataframe\">\n",
       "  <thead>\n",
       "    <tr style=\"text-align: right;\">\n",
       "      <th></th>\n",
       "      <th>Education</th>\n",
       "      <th>Occupation</th>\n",
       "      <th>Gender</th>\n",
       "      <th>MaritalStatus</th>\n",
       "      <th>HomeOwnerFlag</th>\n",
       "      <th>NumberCarsOwned</th>\n",
       "      <th>NumberChildrenAtHome</th>\n",
       "      <th>TotalChildren</th>\n",
       "      <th>Country_Australia</th>\n",
       "      <th>Country_Canada</th>\n",
       "      <th>Country_France</th>\n",
       "      <th>Country_Germany</th>\n",
       "      <th>Country_United Kingdom</th>\n",
       "      <th>Country_United States</th>\n",
       "      <th>Age</th>\n",
       "      <th>YearlyIncome</th>\n",
       "    </tr>\n",
       "  </thead>\n",
       "  <tbody>\n",
       "    <tr>\n",
       "      <th>0</th>\n",
       "      <td>4</td>\n",
       "      <td>4</td>\n",
       "      <td>0</td>\n",
       "      <td>0</td>\n",
       "      <td>1</td>\n",
       "      <td>0</td>\n",
       "      <td>0</td>\n",
       "      <td>2</td>\n",
       "      <td>1</td>\n",
       "      <td>0</td>\n",
       "      <td>0</td>\n",
       "      <td>0</td>\n",
       "      <td>0</td>\n",
       "      <td>0</td>\n",
       "      <td>0.306122</td>\n",
       "      <td>0.686872</td>\n",
       "    </tr>\n",
       "    <tr>\n",
       "      <th>1</th>\n",
       "      <td>4</td>\n",
       "      <td>4</td>\n",
       "      <td>0</td>\n",
       "      <td>1</td>\n",
       "      <td>0</td>\n",
       "      <td>1</td>\n",
       "      <td>3</td>\n",
       "      <td>3</td>\n",
       "      <td>1</td>\n",
       "      <td>0</td>\n",
       "      <td>0</td>\n",
       "      <td>0</td>\n",
       "      <td>0</td>\n",
       "      <td>0</td>\n",
       "      <td>0.326531</td>\n",
       "      <td>0.490079</td>\n",
       "    </tr>\n",
       "    <tr>\n",
       "      <th>2</th>\n",
       "      <td>4</td>\n",
       "      <td>4</td>\n",
       "      <td>0</td>\n",
       "      <td>0</td>\n",
       "      <td>1</td>\n",
       "      <td>1</td>\n",
       "      <td>3</td>\n",
       "      <td>3</td>\n",
       "      <td>1</td>\n",
       "      <td>0</td>\n",
       "      <td>0</td>\n",
       "      <td>0</td>\n",
       "      <td>0</td>\n",
       "      <td>0</td>\n",
       "      <td>0.306122</td>\n",
       "      <td>0.440910</td>\n",
       "    </tr>\n",
       "    <tr>\n",
       "      <th>3</th>\n",
       "      <td>4</td>\n",
       "      <td>4</td>\n",
       "      <td>1</td>\n",
       "      <td>1</td>\n",
       "      <td>0</td>\n",
       "      <td>1</td>\n",
       "      <td>0</td>\n",
       "      <td>0</td>\n",
       "      <td>1</td>\n",
       "      <td>0</td>\n",
       "      <td>0</td>\n",
       "      <td>0</td>\n",
       "      <td>0</td>\n",
       "      <td>0</td>\n",
       "      <td>0.265306</td>\n",
       "      <td>0.412802</td>\n",
       "    </tr>\n",
       "    <tr>\n",
       "      <th>4</th>\n",
       "      <td>4</td>\n",
       "      <td>4</td>\n",
       "      <td>1</td>\n",
       "      <td>1</td>\n",
       "      <td>1</td>\n",
       "      <td>4</td>\n",
       "      <td>5</td>\n",
       "      <td>5</td>\n",
       "      <td>1</td>\n",
       "      <td>0</td>\n",
       "      <td>0</td>\n",
       "      <td>0</td>\n",
       "      <td>0</td>\n",
       "      <td>0</td>\n",
       "      <td>0.244898</td>\n",
       "      <td>0.445327</td>\n",
       "    </tr>\n",
       "    <tr>\n",
       "      <th>...</th>\n",
       "      <td>...</td>\n",
       "      <td>...</td>\n",
       "      <td>...</td>\n",
       "      <td>...</td>\n",
       "      <td>...</td>\n",
       "      <td>...</td>\n",
       "      <td>...</td>\n",
       "      <td>...</td>\n",
       "      <td>...</td>\n",
       "      <td>...</td>\n",
       "      <td>...</td>\n",
       "      <td>...</td>\n",
       "      <td>...</td>\n",
       "      <td>...</td>\n",
       "      <td>...</td>\n",
       "      <td>...</td>\n",
       "    </tr>\n",
       "    <tr>\n",
       "      <th>16832</th>\n",
       "      <td>5</td>\n",
       "      <td>3</td>\n",
       "      <td>1</td>\n",
       "      <td>1</td>\n",
       "      <td>0</td>\n",
       "      <td>0</td>\n",
       "      <td>0</td>\n",
       "      <td>0</td>\n",
       "      <td>0</td>\n",
       "      <td>0</td>\n",
       "      <td>0</td>\n",
       "      <td>0</td>\n",
       "      <td>1</td>\n",
       "      <td>0</td>\n",
       "      <td>0.244898</td>\n",
       "      <td>0.468387</td>\n",
       "    </tr>\n",
       "    <tr>\n",
       "      <th>16833</th>\n",
       "      <td>3</td>\n",
       "      <td>5</td>\n",
       "      <td>1</td>\n",
       "      <td>1</td>\n",
       "      <td>0</td>\n",
       "      <td>4</td>\n",
       "      <td>4</td>\n",
       "      <td>4</td>\n",
       "      <td>0</td>\n",
       "      <td>0</td>\n",
       "      <td>0</td>\n",
       "      <td>1</td>\n",
       "      <td>0</td>\n",
       "      <td>0</td>\n",
       "      <td>0.632653</td>\n",
       "      <td>0.541520</td>\n",
       "    </tr>\n",
       "    <tr>\n",
       "      <th>16834</th>\n",
       "      <td>4</td>\n",
       "      <td>5</td>\n",
       "      <td>1</td>\n",
       "      <td>1</td>\n",
       "      <td>0</td>\n",
       "      <td>4</td>\n",
       "      <td>3</td>\n",
       "      <td>3</td>\n",
       "      <td>0</td>\n",
       "      <td>0</td>\n",
       "      <td>0</td>\n",
       "      <td>0</td>\n",
       "      <td>0</td>\n",
       "      <td>1</td>\n",
       "      <td>0.877551</td>\n",
       "      <td>0.687674</td>\n",
       "    </tr>\n",
       "    <tr>\n",
       "      <th>16835</th>\n",
       "      <td>3</td>\n",
       "      <td>4</td>\n",
       "      <td>1</td>\n",
       "      <td>0</td>\n",
       "      <td>1</td>\n",
       "      <td>1</td>\n",
       "      <td>0</td>\n",
       "      <td>2</td>\n",
       "      <td>0</td>\n",
       "      <td>0</td>\n",
       "      <td>0</td>\n",
       "      <td>0</td>\n",
       "      <td>0</td>\n",
       "      <td>1</td>\n",
       "      <td>0.489796</td>\n",
       "      <td>0.491811</td>\n",
       "    </tr>\n",
       "    <tr>\n",
       "      <th>16836</th>\n",
       "      <td>2</td>\n",
       "      <td>3</td>\n",
       "      <td>1</td>\n",
       "      <td>1</td>\n",
       "      <td>0</td>\n",
       "      <td>2</td>\n",
       "      <td>0</td>\n",
       "      <td>4</td>\n",
       "      <td>1</td>\n",
       "      <td>0</td>\n",
       "      <td>0</td>\n",
       "      <td>0</td>\n",
       "      <td>0</td>\n",
       "      <td>0</td>\n",
       "      <td>0.693878</td>\n",
       "      <td>0.051468</td>\n",
       "    </tr>\n",
       "  </tbody>\n",
       "</table>\n",
       "<p>16837 rows × 16 columns</p>\n",
       "</div>"
      ],
      "text/plain": [
       "       Education  Occupation  Gender  MaritalStatus  HomeOwnerFlag  \\\n",
       "0              4           4       0              0              1   \n",
       "1              4           4       0              1              0   \n",
       "2              4           4       0              0              1   \n",
       "3              4           4       1              1              0   \n",
       "4              4           4       1              1              1   \n",
       "...          ...         ...     ...            ...            ...   \n",
       "16832          5           3       1              1              0   \n",
       "16833          3           5       1              1              0   \n",
       "16834          4           5       1              1              0   \n",
       "16835          3           4       1              0              1   \n",
       "16836          2           3       1              1              0   \n",
       "\n",
       "       NumberCarsOwned  NumberChildrenAtHome  TotalChildren  \\\n",
       "0                    0                     0              2   \n",
       "1                    1                     3              3   \n",
       "2                    1                     3              3   \n",
       "3                    1                     0              0   \n",
       "4                    4                     5              5   \n",
       "...                ...                   ...            ...   \n",
       "16832                0                     0              0   \n",
       "16833                4                     4              4   \n",
       "16834                4                     3              3   \n",
       "16835                1                     0              2   \n",
       "16836                2                     0              4   \n",
       "\n",
       "       Country_Australia  Country_Canada  Country_France  Country_Germany  \\\n",
       "0                      1               0               0                0   \n",
       "1                      1               0               0                0   \n",
       "2                      1               0               0                0   \n",
       "3                      1               0               0                0   \n",
       "4                      1               0               0                0   \n",
       "...                  ...             ...             ...              ...   \n",
       "16832                  0               0               0                0   \n",
       "16833                  0               0               0                1   \n",
       "16834                  0               0               0                0   \n",
       "16835                  0               0               0                0   \n",
       "16836                  1               0               0                0   \n",
       "\n",
       "       Country_United Kingdom  Country_United States       Age  YearlyIncome  \n",
       "0                           0                      0  0.306122      0.686872  \n",
       "1                           0                      0  0.326531      0.490079  \n",
       "2                           0                      0  0.306122      0.440910  \n",
       "3                           0                      0  0.265306      0.412802  \n",
       "4                           0                      0  0.244898      0.445327  \n",
       "...                       ...                    ...       ...           ...  \n",
       "16832                       1                      0  0.244898      0.468387  \n",
       "16833                       0                      0  0.632653      0.541520  \n",
       "16834                       0                      1  0.877551      0.687674  \n",
       "16835                       0                      1  0.489796      0.491811  \n",
       "16836                       0                      0  0.693878      0.051468  \n",
       "\n",
       "[16837 rows x 16 columns]"
      ]
     },
     "execution_count": 44,
     "metadata": {},
     "output_type": "execute_result"
    }
   ],
   "source": [
    "X"
   ]
  },
  {
   "cell_type": "code",
   "execution_count": 45,
   "id": "253fd85f",
   "metadata": {
    "ExecuteTime": {
     "end_time": "2022-12-22T18:50:25.618575Z",
     "start_time": "2022-12-22T18:50:25.603561Z"
    }
   },
   "outputs": [
    {
     "data": {
      "text/plain": [
       "0        1\n",
       "1        1\n",
       "2        1\n",
       "3        1\n",
       "4        1\n",
       "        ..\n",
       "16832    1\n",
       "16833    1\n",
       "16834    0\n",
       "16835    1\n",
       "16836    1\n",
       "Name: PurchasedFlag, Length: 16837, dtype: int32"
      ]
     },
     "execution_count": 45,
     "metadata": {},
     "output_type": "execute_result"
    }
   ],
   "source": [
    "y"
   ]
  },
  {
   "cell_type": "code",
   "execution_count": 46,
   "id": "cf39815c",
   "metadata": {
    "ExecuteTime": {
     "end_time": "2022-12-22T18:50:25.634568Z",
     "start_time": "2022-12-22T18:50:25.620564Z"
    }
   },
   "outputs": [],
   "source": [
    "#split the data\n",
    "\n",
    "Xtrain, Xtest, ytrain, ytest = train_test_split(X, y, test_size=0.3, random_state=66)"
   ]
  },
  {
   "cell_type": "code",
   "execution_count": 47,
   "id": "9b8e18b4",
   "metadata": {
    "ExecuteTime": {
     "end_time": "2022-12-22T18:50:25.649576Z",
     "start_time": "2022-12-22T18:50:25.636568Z"
    }
   },
   "outputs": [
    {
     "data": {
      "text/html": [
       "<div>\n",
       "<style scoped>\n",
       "    .dataframe tbody tr th:only-of-type {\n",
       "        vertical-align: middle;\n",
       "    }\n",
       "\n",
       "    .dataframe tbody tr th {\n",
       "        vertical-align: top;\n",
       "    }\n",
       "\n",
       "    .dataframe thead th {\n",
       "        text-align: right;\n",
       "    }\n",
       "</style>\n",
       "<table border=\"1\" class=\"dataframe\">\n",
       "  <thead>\n",
       "    <tr style=\"text-align: right;\">\n",
       "      <th></th>\n",
       "      <th>Education</th>\n",
       "      <th>Occupation</th>\n",
       "      <th>Gender</th>\n",
       "      <th>MaritalStatus</th>\n",
       "      <th>HomeOwnerFlag</th>\n",
       "      <th>NumberCarsOwned</th>\n",
       "      <th>NumberChildrenAtHome</th>\n",
       "      <th>TotalChildren</th>\n",
       "      <th>Country_Australia</th>\n",
       "      <th>Country_Canada</th>\n",
       "      <th>Country_France</th>\n",
       "      <th>Country_Germany</th>\n",
       "      <th>Country_United Kingdom</th>\n",
       "      <th>Country_United States</th>\n",
       "      <th>Age</th>\n",
       "      <th>YearlyIncome</th>\n",
       "    </tr>\n",
       "  </thead>\n",
       "  <tbody>\n",
       "    <tr>\n",
       "      <th>5324</th>\n",
       "      <td>4</td>\n",
       "      <td>3</td>\n",
       "      <td>1</td>\n",
       "      <td>1</td>\n",
       "      <td>1</td>\n",
       "      <td>1</td>\n",
       "      <td>5</td>\n",
       "      <td>5</td>\n",
       "      <td>0</td>\n",
       "      <td>0</td>\n",
       "      <td>0</td>\n",
       "      <td>0</td>\n",
       "      <td>0</td>\n",
       "      <td>1</td>\n",
       "      <td>0.346939</td>\n",
       "      <td>0.384759</td>\n",
       "    </tr>\n",
       "    <tr>\n",
       "      <th>3096</th>\n",
       "      <td>3</td>\n",
       "      <td>4</td>\n",
       "      <td>1</td>\n",
       "      <td>0</td>\n",
       "      <td>1</td>\n",
       "      <td>4</td>\n",
       "      <td>2</td>\n",
       "      <td>3</td>\n",
       "      <td>0</td>\n",
       "      <td>0</td>\n",
       "      <td>0</td>\n",
       "      <td>0</td>\n",
       "      <td>0</td>\n",
       "      <td>1</td>\n",
       "      <td>0.408163</td>\n",
       "      <td>0.560918</td>\n",
       "    </tr>\n",
       "    <tr>\n",
       "      <th>4021</th>\n",
       "      <td>4</td>\n",
       "      <td>3</td>\n",
       "      <td>1</td>\n",
       "      <td>1</td>\n",
       "      <td>1</td>\n",
       "      <td>3</td>\n",
       "      <td>4</td>\n",
       "      <td>4</td>\n",
       "      <td>0</td>\n",
       "      <td>0</td>\n",
       "      <td>0</td>\n",
       "      <td>0</td>\n",
       "      <td>0</td>\n",
       "      <td>1</td>\n",
       "      <td>0.346939</td>\n",
       "      <td>0.207893</td>\n",
       "    </tr>\n",
       "    <tr>\n",
       "      <th>7178</th>\n",
       "      <td>1</td>\n",
       "      <td>3</td>\n",
       "      <td>1</td>\n",
       "      <td>0</td>\n",
       "      <td>1</td>\n",
       "      <td>4</td>\n",
       "      <td>1</td>\n",
       "      <td>5</td>\n",
       "      <td>0</td>\n",
       "      <td>0</td>\n",
       "      <td>1</td>\n",
       "      <td>0</td>\n",
       "      <td>0</td>\n",
       "      <td>0</td>\n",
       "      <td>0.673469</td>\n",
       "      <td>0.424854</td>\n",
       "    </tr>\n",
       "    <tr>\n",
       "      <th>1906</th>\n",
       "      <td>4</td>\n",
       "      <td>4</td>\n",
       "      <td>0</td>\n",
       "      <td>1</td>\n",
       "      <td>1</td>\n",
       "      <td>1</td>\n",
       "      <td>0</td>\n",
       "      <td>1</td>\n",
       "      <td>1</td>\n",
       "      <td>0</td>\n",
       "      <td>0</td>\n",
       "      <td>0</td>\n",
       "      <td>0</td>\n",
       "      <td>0</td>\n",
       "      <td>0.448980</td>\n",
       "      <td>0.665538</td>\n",
       "    </tr>\n",
       "    <tr>\n",
       "      <th>...</th>\n",
       "      <td>...</td>\n",
       "      <td>...</td>\n",
       "      <td>...</td>\n",
       "      <td>...</td>\n",
       "      <td>...</td>\n",
       "      <td>...</td>\n",
       "      <td>...</td>\n",
       "      <td>...</td>\n",
       "      <td>...</td>\n",
       "      <td>...</td>\n",
       "      <td>...</td>\n",
       "      <td>...</td>\n",
       "      <td>...</td>\n",
       "      <td>...</td>\n",
       "      <td>...</td>\n",
       "      <td>...</td>\n",
       "    </tr>\n",
       "    <tr>\n",
       "      <th>5008</th>\n",
       "      <td>4</td>\n",
       "      <td>5</td>\n",
       "      <td>1</td>\n",
       "      <td>0</td>\n",
       "      <td>1</td>\n",
       "      <td>2</td>\n",
       "      <td>0</td>\n",
       "      <td>5</td>\n",
       "      <td>0</td>\n",
       "      <td>0</td>\n",
       "      <td>0</td>\n",
       "      <td>0</td>\n",
       "      <td>0</td>\n",
       "      <td>1</td>\n",
       "      <td>0.775510</td>\n",
       "      <td>0.573970</td>\n",
       "    </tr>\n",
       "    <tr>\n",
       "      <th>9165</th>\n",
       "      <td>5</td>\n",
       "      <td>5</td>\n",
       "      <td>1</td>\n",
       "      <td>1</td>\n",
       "      <td>1</td>\n",
       "      <td>2</td>\n",
       "      <td>0</td>\n",
       "      <td>3</td>\n",
       "      <td>0</td>\n",
       "      <td>0</td>\n",
       "      <td>0</td>\n",
       "      <td>0</td>\n",
       "      <td>0</td>\n",
       "      <td>1</td>\n",
       "      <td>0.795918</td>\n",
       "      <td>0.511798</td>\n",
       "    </tr>\n",
       "    <tr>\n",
       "      <th>5199</th>\n",
       "      <td>4</td>\n",
       "      <td>5</td>\n",
       "      <td>1</td>\n",
       "      <td>0</td>\n",
       "      <td>1</td>\n",
       "      <td>2</td>\n",
       "      <td>3</td>\n",
       "      <td>3</td>\n",
       "      <td>0</td>\n",
       "      <td>0</td>\n",
       "      <td>0</td>\n",
       "      <td>0</td>\n",
       "      <td>0</td>\n",
       "      <td>1</td>\n",
       "      <td>0.387755</td>\n",
       "      <td>0.661924</td>\n",
       "    </tr>\n",
       "    <tr>\n",
       "      <th>8243</th>\n",
       "      <td>5</td>\n",
       "      <td>5</td>\n",
       "      <td>1</td>\n",
       "      <td>1</td>\n",
       "      <td>1</td>\n",
       "      <td>1</td>\n",
       "      <td>0</td>\n",
       "      <td>2</td>\n",
       "      <td>1</td>\n",
       "      <td>0</td>\n",
       "      <td>0</td>\n",
       "      <td>0</td>\n",
       "      <td>0</td>\n",
       "      <td>0</td>\n",
       "      <td>0.775510</td>\n",
       "      <td>0.425410</td>\n",
       "    </tr>\n",
       "    <tr>\n",
       "      <th>8823</th>\n",
       "      <td>1</td>\n",
       "      <td>1</td>\n",
       "      <td>0</td>\n",
       "      <td>1</td>\n",
       "      <td>0</td>\n",
       "      <td>2</td>\n",
       "      <td>0</td>\n",
       "      <td>0</td>\n",
       "      <td>0</td>\n",
       "      <td>0</td>\n",
       "      <td>1</td>\n",
       "      <td>0</td>\n",
       "      <td>0</td>\n",
       "      <td>0</td>\n",
       "      <td>0.122449</td>\n",
       "      <td>0.124259</td>\n",
       "    </tr>\n",
       "  </tbody>\n",
       "</table>\n",
       "<p>11785 rows × 16 columns</p>\n",
       "</div>"
      ],
      "text/plain": [
       "      Education  Occupation  Gender  MaritalStatus  HomeOwnerFlag  \\\n",
       "5324          4           3       1              1              1   \n",
       "3096          3           4       1              0              1   \n",
       "4021          4           3       1              1              1   \n",
       "7178          1           3       1              0              1   \n",
       "1906          4           4       0              1              1   \n",
       "...         ...         ...     ...            ...            ...   \n",
       "5008          4           5       1              0              1   \n",
       "9165          5           5       1              1              1   \n",
       "5199          4           5       1              0              1   \n",
       "8243          5           5       1              1              1   \n",
       "8823          1           1       0              1              0   \n",
       "\n",
       "      NumberCarsOwned  NumberChildrenAtHome  TotalChildren  Country_Australia  \\\n",
       "5324                1                     5              5                  0   \n",
       "3096                4                     2              3                  0   \n",
       "4021                3                     4              4                  0   \n",
       "7178                4                     1              5                  0   \n",
       "1906                1                     0              1                  1   \n",
       "...               ...                   ...            ...                ...   \n",
       "5008                2                     0              5                  0   \n",
       "9165                2                     0              3                  0   \n",
       "5199                2                     3              3                  0   \n",
       "8243                1                     0              2                  1   \n",
       "8823                2                     0              0                  0   \n",
       "\n",
       "      Country_Canada  Country_France  Country_Germany  Country_United Kingdom  \\\n",
       "5324               0               0                0                       0   \n",
       "3096               0               0                0                       0   \n",
       "4021               0               0                0                       0   \n",
       "7178               0               1                0                       0   \n",
       "1906               0               0                0                       0   \n",
       "...              ...             ...              ...                     ...   \n",
       "5008               0               0                0                       0   \n",
       "9165               0               0                0                       0   \n",
       "5199               0               0                0                       0   \n",
       "8243               0               0                0                       0   \n",
       "8823               0               1                0                       0   \n",
       "\n",
       "      Country_United States       Age  YearlyIncome  \n",
       "5324                      1  0.346939      0.384759  \n",
       "3096                      1  0.408163      0.560918  \n",
       "4021                      1  0.346939      0.207893  \n",
       "7178                      0  0.673469      0.424854  \n",
       "1906                      0  0.448980      0.665538  \n",
       "...                     ...       ...           ...  \n",
       "5008                      1  0.775510      0.573970  \n",
       "9165                      1  0.795918      0.511798  \n",
       "5199                      1  0.387755      0.661924  \n",
       "8243                      0  0.775510      0.425410  \n",
       "8823                      0  0.122449      0.124259  \n",
       "\n",
       "[11785 rows x 16 columns]"
      ]
     },
     "execution_count": 47,
     "metadata": {},
     "output_type": "execute_result"
    }
   ],
   "source": [
    "Xtrain"
   ]
  },
  {
   "cell_type": "code",
   "execution_count": 48,
   "id": "ce328526",
   "metadata": {
    "ExecuteTime": {
     "end_time": "2022-12-22T18:50:25.664575Z",
     "start_time": "2022-12-22T18:50:25.651579Z"
    }
   },
   "outputs": [
    {
     "data": {
      "text/html": [
       "<div>\n",
       "<style scoped>\n",
       "    .dataframe tbody tr th:only-of-type {\n",
       "        vertical-align: middle;\n",
       "    }\n",
       "\n",
       "    .dataframe tbody tr th {\n",
       "        vertical-align: top;\n",
       "    }\n",
       "\n",
       "    .dataframe thead th {\n",
       "        text-align: right;\n",
       "    }\n",
       "</style>\n",
       "<table border=\"1\" class=\"dataframe\">\n",
       "  <thead>\n",
       "    <tr style=\"text-align: right;\">\n",
       "      <th></th>\n",
       "      <th>Education</th>\n",
       "      <th>Occupation</th>\n",
       "      <th>Gender</th>\n",
       "      <th>MaritalStatus</th>\n",
       "      <th>HomeOwnerFlag</th>\n",
       "      <th>NumberCarsOwned</th>\n",
       "      <th>NumberChildrenAtHome</th>\n",
       "      <th>TotalChildren</th>\n",
       "      <th>Country_Australia</th>\n",
       "      <th>Country_Canada</th>\n",
       "      <th>Country_France</th>\n",
       "      <th>Country_Germany</th>\n",
       "      <th>Country_United Kingdom</th>\n",
       "      <th>Country_United States</th>\n",
       "      <th>Age</th>\n",
       "      <th>YearlyIncome</th>\n",
       "    </tr>\n",
       "  </thead>\n",
       "  <tbody>\n",
       "    <tr>\n",
       "      <th>16044</th>\n",
       "      <td>3</td>\n",
       "      <td>3</td>\n",
       "      <td>0</td>\n",
       "      <td>0</td>\n",
       "      <td>1</td>\n",
       "      <td>1</td>\n",
       "      <td>0</td>\n",
       "      <td>1</td>\n",
       "      <td>0</td>\n",
       "      <td>0</td>\n",
       "      <td>0</td>\n",
       "      <td>0</td>\n",
       "      <td>0</td>\n",
       "      <td>1</td>\n",
       "      <td>0.367347</td>\n",
       "      <td>0.355576</td>\n",
       "    </tr>\n",
       "    <tr>\n",
       "      <th>9646</th>\n",
       "      <td>5</td>\n",
       "      <td>5</td>\n",
       "      <td>0</td>\n",
       "      <td>0</td>\n",
       "      <td>1</td>\n",
       "      <td>2</td>\n",
       "      <td>0</td>\n",
       "      <td>2</td>\n",
       "      <td>0</td>\n",
       "      <td>0</td>\n",
       "      <td>0</td>\n",
       "      <td>0</td>\n",
       "      <td>0</td>\n",
       "      <td>1</td>\n",
       "      <td>0.938776</td>\n",
       "      <td>0.414021</td>\n",
       "    </tr>\n",
       "    <tr>\n",
       "      <th>4931</th>\n",
       "      <td>2</td>\n",
       "      <td>1</td>\n",
       "      <td>0</td>\n",
       "      <td>0</td>\n",
       "      <td>1</td>\n",
       "      <td>1</td>\n",
       "      <td>1</td>\n",
       "      <td>1</td>\n",
       "      <td>0</td>\n",
       "      <td>0</td>\n",
       "      <td>1</td>\n",
       "      <td>0</td>\n",
       "      <td>0</td>\n",
       "      <td>0</td>\n",
       "      <td>0.224490</td>\n",
       "      <td>0.062782</td>\n",
       "    </tr>\n",
       "    <tr>\n",
       "      <th>550</th>\n",
       "      <td>1</td>\n",
       "      <td>1</td>\n",
       "      <td>0</td>\n",
       "      <td>0</td>\n",
       "      <td>0</td>\n",
       "      <td>1</td>\n",
       "      <td>0</td>\n",
       "      <td>0</td>\n",
       "      <td>0</td>\n",
       "      <td>0</td>\n",
       "      <td>1</td>\n",
       "      <td>0</td>\n",
       "      <td>0</td>\n",
       "      <td>0</td>\n",
       "      <td>0.142857</td>\n",
       "      <td>0.044822</td>\n",
       "    </tr>\n",
       "    <tr>\n",
       "      <th>3643</th>\n",
       "      <td>5</td>\n",
       "      <td>3</td>\n",
       "      <td>1</td>\n",
       "      <td>1</td>\n",
       "      <td>1</td>\n",
       "      <td>0</td>\n",
       "      <td>0</td>\n",
       "      <td>0</td>\n",
       "      <td>0</td>\n",
       "      <td>0</td>\n",
       "      <td>0</td>\n",
       "      <td>0</td>\n",
       "      <td>1</td>\n",
       "      <td>0</td>\n",
       "      <td>0.244898</td>\n",
       "      <td>0.252100</td>\n",
       "    </tr>\n",
       "    <tr>\n",
       "      <th>...</th>\n",
       "      <td>...</td>\n",
       "      <td>...</td>\n",
       "      <td>...</td>\n",
       "      <td>...</td>\n",
       "      <td>...</td>\n",
       "      <td>...</td>\n",
       "      <td>...</td>\n",
       "      <td>...</td>\n",
       "      <td>...</td>\n",
       "      <td>...</td>\n",
       "      <td>...</td>\n",
       "      <td>...</td>\n",
       "      <td>...</td>\n",
       "      <td>...</td>\n",
       "      <td>...</td>\n",
       "      <td>...</td>\n",
       "    </tr>\n",
       "    <tr>\n",
       "      <th>841</th>\n",
       "      <td>3</td>\n",
       "      <td>3</td>\n",
       "      <td>0</td>\n",
       "      <td>0</td>\n",
       "      <td>0</td>\n",
       "      <td>2</td>\n",
       "      <td>0</td>\n",
       "      <td>0</td>\n",
       "      <td>0</td>\n",
       "      <td>0</td>\n",
       "      <td>0</td>\n",
       "      <td>0</td>\n",
       "      <td>0</td>\n",
       "      <td>1</td>\n",
       "      <td>0.081633</td>\n",
       "      <td>0.261660</td>\n",
       "    </tr>\n",
       "    <tr>\n",
       "      <th>14214</th>\n",
       "      <td>4</td>\n",
       "      <td>3</td>\n",
       "      <td>1</td>\n",
       "      <td>0</td>\n",
       "      <td>1</td>\n",
       "      <td>0</td>\n",
       "      <td>1</td>\n",
       "      <td>1</td>\n",
       "      <td>0</td>\n",
       "      <td>0</td>\n",
       "      <td>0</td>\n",
       "      <td>0</td>\n",
       "      <td>0</td>\n",
       "      <td>1</td>\n",
       "      <td>0.204082</td>\n",
       "      <td>0.189832</td>\n",
       "    </tr>\n",
       "    <tr>\n",
       "      <th>6416</th>\n",
       "      <td>2</td>\n",
       "      <td>5</td>\n",
       "      <td>1</td>\n",
       "      <td>1</td>\n",
       "      <td>1</td>\n",
       "      <td>3</td>\n",
       "      <td>5</td>\n",
       "      <td>5</td>\n",
       "      <td>1</td>\n",
       "      <td>0</td>\n",
       "      <td>0</td>\n",
       "      <td>0</td>\n",
       "      <td>0</td>\n",
       "      <td>0</td>\n",
       "      <td>0.204082</td>\n",
       "      <td>0.509974</td>\n",
       "    </tr>\n",
       "    <tr>\n",
       "      <th>545</th>\n",
       "      <td>2</td>\n",
       "      <td>1</td>\n",
       "      <td>1</td>\n",
       "      <td>1</td>\n",
       "      <td>0</td>\n",
       "      <td>1</td>\n",
       "      <td>0</td>\n",
       "      <td>0</td>\n",
       "      <td>0</td>\n",
       "      <td>0</td>\n",
       "      <td>0</td>\n",
       "      <td>1</td>\n",
       "      <td>0</td>\n",
       "      <td>0</td>\n",
       "      <td>0.081633</td>\n",
       "      <td>0.037395</td>\n",
       "    </tr>\n",
       "    <tr>\n",
       "      <th>7657</th>\n",
       "      <td>3</td>\n",
       "      <td>3</td>\n",
       "      <td>0</td>\n",
       "      <td>1</td>\n",
       "      <td>1</td>\n",
       "      <td>1</td>\n",
       "      <td>0</td>\n",
       "      <td>1</td>\n",
       "      <td>1</td>\n",
       "      <td>0</td>\n",
       "      <td>0</td>\n",
       "      <td>0</td>\n",
       "      <td>0</td>\n",
       "      <td>0</td>\n",
       "      <td>0.489796</td>\n",
       "      <td>0.364259</td>\n",
       "    </tr>\n",
       "  </tbody>\n",
       "</table>\n",
       "<p>5052 rows × 16 columns</p>\n",
       "</div>"
      ],
      "text/plain": [
       "       Education  Occupation  Gender  MaritalStatus  HomeOwnerFlag  \\\n",
       "16044          3           3       0              0              1   \n",
       "9646           5           5       0              0              1   \n",
       "4931           2           1       0              0              1   \n",
       "550            1           1       0              0              0   \n",
       "3643           5           3       1              1              1   \n",
       "...          ...         ...     ...            ...            ...   \n",
       "841            3           3       0              0              0   \n",
       "14214          4           3       1              0              1   \n",
       "6416           2           5       1              1              1   \n",
       "545            2           1       1              1              0   \n",
       "7657           3           3       0              1              1   \n",
       "\n",
       "       NumberCarsOwned  NumberChildrenAtHome  TotalChildren  \\\n",
       "16044                1                     0              1   \n",
       "9646                 2                     0              2   \n",
       "4931                 1                     1              1   \n",
       "550                  1                     0              0   \n",
       "3643                 0                     0              0   \n",
       "...                ...                   ...            ...   \n",
       "841                  2                     0              0   \n",
       "14214                0                     1              1   \n",
       "6416                 3                     5              5   \n",
       "545                  1                     0              0   \n",
       "7657                 1                     0              1   \n",
       "\n",
       "       Country_Australia  Country_Canada  Country_France  Country_Germany  \\\n",
       "16044                  0               0               0                0   \n",
       "9646                   0               0               0                0   \n",
       "4931                   0               0               1                0   \n",
       "550                    0               0               1                0   \n",
       "3643                   0               0               0                0   \n",
       "...                  ...             ...             ...              ...   \n",
       "841                    0               0               0                0   \n",
       "14214                  0               0               0                0   \n",
       "6416                   1               0               0                0   \n",
       "545                    0               0               0                1   \n",
       "7657                   1               0               0                0   \n",
       "\n",
       "       Country_United Kingdom  Country_United States       Age  YearlyIncome  \n",
       "16044                       0                      1  0.367347      0.355576  \n",
       "9646                        0                      1  0.938776      0.414021  \n",
       "4931                        0                      0  0.224490      0.062782  \n",
       "550                         0                      0  0.142857      0.044822  \n",
       "3643                        1                      0  0.244898      0.252100  \n",
       "...                       ...                    ...       ...           ...  \n",
       "841                         0                      1  0.081633      0.261660  \n",
       "14214                       0                      1  0.204082      0.189832  \n",
       "6416                        0                      0  0.204082      0.509974  \n",
       "545                         0                      0  0.081633      0.037395  \n",
       "7657                        0                      0  0.489796      0.364259  \n",
       "\n",
       "[5052 rows x 16 columns]"
      ]
     },
     "execution_count": 48,
     "metadata": {},
     "output_type": "execute_result"
    }
   ],
   "source": [
    "Xtest"
   ]
  },
  {
   "cell_type": "code",
   "execution_count": 49,
   "id": "d35544d5",
   "metadata": {
    "ExecuteTime": {
     "end_time": "2022-12-22T18:50:25.760613Z",
     "start_time": "2022-12-22T18:50:25.666575Z"
    }
   },
   "outputs": [
    {
     "data": {
      "text/html": [
       "<style>#sk-container-id-1 {color: black;background-color: white;}#sk-container-id-1 pre{padding: 0;}#sk-container-id-1 div.sk-toggleable {background-color: white;}#sk-container-id-1 label.sk-toggleable__label {cursor: pointer;display: block;width: 100%;margin-bottom: 0;padding: 0.3em;box-sizing: border-box;text-align: center;}#sk-container-id-1 label.sk-toggleable__label-arrow:before {content: \"▸\";float: left;margin-right: 0.25em;color: #696969;}#sk-container-id-1 label.sk-toggleable__label-arrow:hover:before {color: black;}#sk-container-id-1 div.sk-estimator:hover label.sk-toggleable__label-arrow:before {color: black;}#sk-container-id-1 div.sk-toggleable__content {max-height: 0;max-width: 0;overflow: hidden;text-align: left;background-color: #f0f8ff;}#sk-container-id-1 div.sk-toggleable__content pre {margin: 0.2em;color: black;border-radius: 0.25em;background-color: #f0f8ff;}#sk-container-id-1 input.sk-toggleable__control:checked~div.sk-toggleable__content {max-height: 200px;max-width: 100%;overflow: auto;}#sk-container-id-1 input.sk-toggleable__control:checked~label.sk-toggleable__label-arrow:before {content: \"▾\";}#sk-container-id-1 div.sk-estimator input.sk-toggleable__control:checked~label.sk-toggleable__label {background-color: #d4ebff;}#sk-container-id-1 div.sk-label input.sk-toggleable__control:checked~label.sk-toggleable__label {background-color: #d4ebff;}#sk-container-id-1 input.sk-hidden--visually {border: 0;clip: rect(1px 1px 1px 1px);clip: rect(1px, 1px, 1px, 1px);height: 1px;margin: -1px;overflow: hidden;padding: 0;position: absolute;width: 1px;}#sk-container-id-1 div.sk-estimator {font-family: monospace;background-color: #f0f8ff;border: 1px dotted black;border-radius: 0.25em;box-sizing: border-box;margin-bottom: 0.5em;}#sk-container-id-1 div.sk-estimator:hover {background-color: #d4ebff;}#sk-container-id-1 div.sk-parallel-item::after {content: \"\";width: 100%;border-bottom: 1px solid gray;flex-grow: 1;}#sk-container-id-1 div.sk-label:hover label.sk-toggleable__label {background-color: #d4ebff;}#sk-container-id-1 div.sk-serial::before {content: \"\";position: absolute;border-left: 1px solid gray;box-sizing: border-box;top: 0;bottom: 0;left: 50%;z-index: 0;}#sk-container-id-1 div.sk-serial {display: flex;flex-direction: column;align-items: center;background-color: white;padding-right: 0.2em;padding-left: 0.2em;position: relative;}#sk-container-id-1 div.sk-item {position: relative;z-index: 1;}#sk-container-id-1 div.sk-parallel {display: flex;align-items: stretch;justify-content: center;background-color: white;position: relative;}#sk-container-id-1 div.sk-item::before, #sk-container-id-1 div.sk-parallel-item::before {content: \"\";position: absolute;border-left: 1px solid gray;box-sizing: border-box;top: 0;bottom: 0;left: 50%;z-index: -1;}#sk-container-id-1 div.sk-parallel-item {display: flex;flex-direction: column;z-index: 1;position: relative;background-color: white;}#sk-container-id-1 div.sk-parallel-item:first-child::after {align-self: flex-end;width: 50%;}#sk-container-id-1 div.sk-parallel-item:last-child::after {align-self: flex-start;width: 50%;}#sk-container-id-1 div.sk-parallel-item:only-child::after {width: 0;}#sk-container-id-1 div.sk-dashed-wrapped {border: 1px dashed gray;margin: 0 0.4em 0.5em 0.4em;box-sizing: border-box;padding-bottom: 0.4em;background-color: white;}#sk-container-id-1 div.sk-label label {font-family: monospace;font-weight: bold;display: inline-block;line-height: 1.2em;}#sk-container-id-1 div.sk-label-container {text-align: center;}#sk-container-id-1 div.sk-container {/* jupyter's `normalize.less` sets `[hidden] { display: none; }` but bootstrap.min.css set `[hidden] { display: none !important; }` so we also need the `!important` here to be able to override the default hidden behavior on the sphinx rendered scikit-learn.org. See: https://github.com/scikit-learn/scikit-learn/issues/21755 */display: inline-block !important;position: relative;}#sk-container-id-1 div.sk-text-repr-fallback {display: none;}</style><div id=\"sk-container-id-1\" class=\"sk-top-container\"><div class=\"sk-text-repr-fallback\"><pre>LogisticRegression(random_state=66)</pre><b>In a Jupyter environment, please rerun this cell to show the HTML representation or trust the notebook. <br />On GitHub, the HTML representation is unable to render, please try loading this page with nbviewer.org.</b></div><div class=\"sk-container\" hidden><div class=\"sk-item\"><div class=\"sk-estimator sk-toggleable\"><input class=\"sk-toggleable__control sk-hidden--visually\" id=\"sk-estimator-id-1\" type=\"checkbox\" checked><label for=\"sk-estimator-id-1\" class=\"sk-toggleable__label sk-toggleable__label-arrow\">LogisticRegression</label><div class=\"sk-toggleable__content\"><pre>LogisticRegression(random_state=66)</pre></div></div></div></div></div>"
      ],
      "text/plain": [
       "LogisticRegression(random_state=66)"
      ]
     },
     "execution_count": 49,
     "metadata": {},
     "output_type": "execute_result"
    }
   ],
   "source": [
    "#start and fit the model\n",
    "\n",
    "logreg = LogisticRegression(random_state=66)\n",
    "\n",
    "logreg.fit(Xtrain, ytrain)"
   ]
  },
  {
   "cell_type": "code",
   "execution_count": 50,
   "id": "2dc6dd59",
   "metadata": {
    "ExecuteTime": {
     "end_time": "2022-12-22T18:50:25.776616Z",
     "start_time": "2022-12-22T18:50:25.762599Z"
    }
   },
   "outputs": [],
   "source": [
    "#make purchase flag predictions\n",
    "ypred = logreg.predict(Xtest)"
   ]
  },
  {
   "cell_type": "code",
   "execution_count": 51,
   "id": "2d82c62d",
   "metadata": {
    "ExecuteTime": {
     "end_time": "2022-12-22T18:50:25.792614Z",
     "start_time": "2022-12-22T18:50:25.778597Z"
    }
   },
   "outputs": [
    {
     "data": {
      "text/plain": [
       "array([1, 1, 1, ..., 1, 1, 1])"
      ]
     },
     "execution_count": 51,
     "metadata": {},
     "output_type": "execute_result"
    }
   ],
   "source": [
    "ypred"
   ]
  },
  {
   "cell_type": "markdown",
   "id": "1421ba00",
   "metadata": {
    "ExecuteTime": {
     "end_time": "2022-12-15T17:14:03.750840Z",
     "start_time": "2022-12-15T17:14:03.723667Z"
    }
   },
   "source": [
    "### Evaluate the model"
   ]
  },
  {
   "cell_type": "code",
   "execution_count": 52,
   "id": "aeef9739",
   "metadata": {
    "ExecuteTime": {
     "end_time": "2022-12-22T18:50:25.808624Z",
     "start_time": "2022-12-22T18:50:25.793604Z"
    }
   },
   "outputs": [],
   "source": [
    "# make fucntions for evaluation\n",
    "\n",
    "def C_metrics_train(model, X_train, y_train):\n",
    "    scoring = {'acc': 'accuracy',\n",
    "           'prec_macro': 'precision_macro',\n",
    "           'rec_macro': 'recall_macro',\n",
    "           'f1_macro': 'f1_macro'}\n",
    "    \n",
    "    scores = cross_validate(model, X_train, y_train, cv=10, scoring=scoring)\n",
    "    ypredTrain = model.predict(X_train)\n",
    "    Acc_train = scores['test_acc'].mean()\n",
    "    Precision_train = scores['test_prec_macro'].mean()\n",
    "    Recall_train = scores['test_rec_macro'].mean()\n",
    "    F1_train = scores['test_f1_macro'].mean()\n",
    "    conf_matrix_train = confusion_matrix(y_train, ypredTrain)\n",
    "    from sklearn.metrics import classification_report\n",
    "    statist_train = []\n",
    "   \n",
    "    list_metrics = [Acc_train, Precision_train, Recall_train, F1_train]\n",
    "    statist_train.append(list_metrics)\n",
    "    statist_train = pd.DataFrame(statist_train,columns = ['Accuracy', 'Precision', 'Recall', 'f1'], index = ['Train'])\n",
    "    \n",
    "    print('-')\n",
    "    print('TRAIN results')\n",
    "    print('-')\n",
    "    print('Confusion Matrix \\n', conf_matrix_train)\n",
    "    return statist_train"
   ]
  },
  {
   "cell_type": "code",
   "execution_count": 53,
   "id": "45011624",
   "metadata": {
    "ExecuteTime": {
     "end_time": "2022-12-22T18:50:25.824627Z",
     "start_time": "2022-12-22T18:50:25.810605Z"
    }
   },
   "outputs": [],
   "source": [
    "def C_metrics_test(model, X_test, y_test):\n",
    "    \n",
    "    scoring = {'acc': 'accuracy',\n",
    "           'prec_macro': 'precision_macro',\n",
    "           'rec_macro': 'recall_macro',\n",
    "           'f1_macro': 'f1_macro'}\n",
    "    \n",
    "    scores = cross_validate(model, X_test, y_test, cv=10, scoring=scoring)\n",
    "    ypredtest = model.predict(X_test)\n",
    "    report = classification_report(y_test, ypredtest,zero_division=0, output_dict=True)\n",
    "    report = pd.DataFrame(report).T\n",
    "    \n",
    "    Acc_test = report.loc['accuracy', :].mean()  \n",
    "    Rest_metrics = report.iloc[:-3,:]\n",
    "    \n",
    "    Precision_test = Rest_metrics.loc[:,'precision'].mean()\n",
    "    Recall_test = Rest_metrics.loc[:,'recall'].mean()\n",
    "    F1_test = Rest_metrics.loc[:,'f1-score'].mean()\n",
    "    conf_matrix_test = confusion_matrix(y_test, ypredtest)\n",
    "    \n",
    "    statist_test = []\n",
    "   \n",
    "    list_metrics = [Acc_test, Precision_test, Recall_test, F1_test]\n",
    "    statist_test.append(list_metrics)\n",
    "    statist_test = pd.DataFrame(statist_test,columns = ['Accuracy', 'Precision', 'Recall', 'f1'], index = ['test'])\n",
    "     \n",
    "    print('-')\n",
    "    print('TEST results')\n",
    "    print('-')\n",
    "    print('Confusion Matrix \\n', conf_matrix_test)\n",
    "    print(' Classification report \\n', Rest_metrics)\n",
    "    return statist_test"
   ]
  },
  {
   "cell_type": "code",
   "execution_count": 54,
   "id": "23df51e8",
   "metadata": {
    "ExecuteTime": {
     "end_time": "2022-12-22T18:50:25.840631Z",
     "start_time": "2022-12-22T18:50:25.826612Z"
    }
   },
   "outputs": [],
   "source": [
    "def C_Allmetrics(model,X_train,y_train,X_test,y_test):\n",
    "    \n",
    "    stats_train = C_metrics_train(model, X_train,y_train)\n",
    "    stats_test = C_metrics_test(model, X_test,y_test)\n",
    "    final_metrics = pd.concat([stats_train,stats_test])\n",
    "    print()\n",
    "    print('Summary of the Metrics')\n",
    "    print(final_metrics)\n",
    "    return final_metrics"
   ]
  },
  {
   "cell_type": "code",
   "execution_count": 55,
   "id": "0c842f2d",
   "metadata": {
    "ExecuteTime": {
     "end_time": "2022-12-22T18:50:26.844359Z",
     "start_time": "2022-12-22T18:50:25.843612Z"
    }
   },
   "outputs": [
    {
     "name": "stdout",
     "output_type": "stream",
     "text": [
      "-\n",
      "TRAIN results\n",
      "-\n",
      "Confusion Matrix \n",
      " [[    0   668]\n",
      " [    0 11117]]\n",
      "-\n",
      "TEST results\n",
      "-\n",
      "Confusion Matrix \n",
      " [[   0  308]\n",
      " [   0 4744]]\n",
      " Classification report \n",
      "    precision  recall  f1-score  support\n",
      "0   0.000000     0.0  0.000000    308.0\n",
      "1   0.939034     1.0  0.968559   4744.0\n",
      "\n",
      "Summary of the Metrics\n",
      "       Accuracy  Precision  Recall        f1\n",
      "Train  0.943318   0.471659     0.5  0.485416\n",
      "test   0.939034   0.469517     0.5  0.484279\n"
     ]
    },
    {
     "data": {
      "text/html": [
       "<div>\n",
       "<style scoped>\n",
       "    .dataframe tbody tr th:only-of-type {\n",
       "        vertical-align: middle;\n",
       "    }\n",
       "\n",
       "    .dataframe tbody tr th {\n",
       "        vertical-align: top;\n",
       "    }\n",
       "\n",
       "    .dataframe thead th {\n",
       "        text-align: right;\n",
       "    }\n",
       "</style>\n",
       "<table border=\"1\" class=\"dataframe\">\n",
       "  <thead>\n",
       "    <tr style=\"text-align: right;\">\n",
       "      <th></th>\n",
       "      <th>Accuracy</th>\n",
       "      <th>Precision</th>\n",
       "      <th>Recall</th>\n",
       "      <th>f1</th>\n",
       "    </tr>\n",
       "  </thead>\n",
       "  <tbody>\n",
       "    <tr>\n",
       "      <th>Train</th>\n",
       "      <td>0.943318</td>\n",
       "      <td>0.471659</td>\n",
       "      <td>0.5</td>\n",
       "      <td>0.485416</td>\n",
       "    </tr>\n",
       "    <tr>\n",
       "      <th>test</th>\n",
       "      <td>0.939034</td>\n",
       "      <td>0.469517</td>\n",
       "      <td>0.5</td>\n",
       "      <td>0.484279</td>\n",
       "    </tr>\n",
       "  </tbody>\n",
       "</table>\n",
       "</div>"
      ],
      "text/plain": [
       "       Accuracy  Precision  Recall        f1\n",
       "Train  0.943318   0.471659     0.5  0.485416\n",
       "test   0.939034   0.469517     0.5  0.484279"
      ]
     },
     "execution_count": 55,
     "metadata": {},
     "output_type": "execute_result"
    }
   ],
   "source": [
    "#evaluate the model\n",
    "\n",
    "C_Allmetrics(logreg,Xtrain,ytrain,Xtest,ytest)"
   ]
  },
  {
   "cell_type": "raw",
   "id": "e9f9ae24",
   "metadata": {},
   "source": [
    "terrible performance, it just classified every customer as purchase yes"
   ]
  },
  {
   "cell_type": "markdown",
   "id": "98062414",
   "metadata": {},
   "source": [
    "## Log Reg - balanced data"
   ]
  },
  {
   "cell_type": "markdown",
   "id": "d17b4157",
   "metadata": {},
   "source": [
    "### SMOTE"
   ]
  },
  {
   "cell_type": "code",
   "execution_count": 56,
   "id": "1804773b",
   "metadata": {
    "ExecuteTime": {
     "end_time": "2022-12-22T18:50:27.004394Z",
     "start_time": "2022-12-22T18:50:26.846360Z"
    }
   },
   "outputs": [],
   "source": [
    "#balance the data using SMOTE\n",
    "smote = SMOTE(random_state=66)\n",
    "\n",
    "Xsm, ysm = smote.fit_resample(X, y)"
   ]
  },
  {
   "cell_type": "code",
   "execution_count": 57,
   "id": "c164e9e0",
   "metadata": {
    "ExecuteTime": {
     "end_time": "2022-12-22T18:50:27.020402Z",
     "start_time": "2022-12-22T18:50:27.005397Z"
    }
   },
   "outputs": [
    {
     "name": "stdout",
     "output_type": "stream",
     "text": [
      "\n",
      "Before OVER-sampling\n",
      " 1    15861\n",
      "0      976\n",
      "Name: PurchasedFlag, dtype: int64\n",
      "\n",
      "After OVER-sampling\n",
      " 1    15861\n",
      "0    15861\n",
      "Name: PurchasedFlag, dtype: int64\n"
     ]
    }
   ],
   "source": [
    "print('\\nBefore OVER-sampling\\n', y.value_counts())\n",
    "print('\\nAfter OVER-sampling\\n', ysm.value_counts())"
   ]
  },
  {
   "cell_type": "markdown",
   "id": "dd908d27",
   "metadata": {},
   "source": [
    "### Re build the model"
   ]
  },
  {
   "cell_type": "code",
   "execution_count": 58,
   "id": "f3df048c",
   "metadata": {
    "ExecuteTime": {
     "end_time": "2022-12-22T18:50:27.036402Z",
     "start_time": "2022-12-22T18:50:27.022401Z"
    }
   },
   "outputs": [],
   "source": [
    "#split the data\n",
    "\n",
    "X_train, X_test, y_train, y_test = train_test_split(Xsm, ysm, test_size=0.3, random_state=66)"
   ]
  },
  {
   "cell_type": "code",
   "execution_count": 59,
   "id": "07826116",
   "metadata": {
    "ExecuteTime": {
     "end_time": "2022-12-22T18:50:27.180437Z",
     "start_time": "2022-12-22T18:50:27.038403Z"
    }
   },
   "outputs": [
    {
     "data": {
      "text/html": [
       "<style>#sk-container-id-2 {color: black;background-color: white;}#sk-container-id-2 pre{padding: 0;}#sk-container-id-2 div.sk-toggleable {background-color: white;}#sk-container-id-2 label.sk-toggleable__label {cursor: pointer;display: block;width: 100%;margin-bottom: 0;padding: 0.3em;box-sizing: border-box;text-align: center;}#sk-container-id-2 label.sk-toggleable__label-arrow:before {content: \"▸\";float: left;margin-right: 0.25em;color: #696969;}#sk-container-id-2 label.sk-toggleable__label-arrow:hover:before {color: black;}#sk-container-id-2 div.sk-estimator:hover label.sk-toggleable__label-arrow:before {color: black;}#sk-container-id-2 div.sk-toggleable__content {max-height: 0;max-width: 0;overflow: hidden;text-align: left;background-color: #f0f8ff;}#sk-container-id-2 div.sk-toggleable__content pre {margin: 0.2em;color: black;border-radius: 0.25em;background-color: #f0f8ff;}#sk-container-id-2 input.sk-toggleable__control:checked~div.sk-toggleable__content {max-height: 200px;max-width: 100%;overflow: auto;}#sk-container-id-2 input.sk-toggleable__control:checked~label.sk-toggleable__label-arrow:before {content: \"▾\";}#sk-container-id-2 div.sk-estimator input.sk-toggleable__control:checked~label.sk-toggleable__label {background-color: #d4ebff;}#sk-container-id-2 div.sk-label input.sk-toggleable__control:checked~label.sk-toggleable__label {background-color: #d4ebff;}#sk-container-id-2 input.sk-hidden--visually {border: 0;clip: rect(1px 1px 1px 1px);clip: rect(1px, 1px, 1px, 1px);height: 1px;margin: -1px;overflow: hidden;padding: 0;position: absolute;width: 1px;}#sk-container-id-2 div.sk-estimator {font-family: monospace;background-color: #f0f8ff;border: 1px dotted black;border-radius: 0.25em;box-sizing: border-box;margin-bottom: 0.5em;}#sk-container-id-2 div.sk-estimator:hover {background-color: #d4ebff;}#sk-container-id-2 div.sk-parallel-item::after {content: \"\";width: 100%;border-bottom: 1px solid gray;flex-grow: 1;}#sk-container-id-2 div.sk-label:hover label.sk-toggleable__label {background-color: #d4ebff;}#sk-container-id-2 div.sk-serial::before {content: \"\";position: absolute;border-left: 1px solid gray;box-sizing: border-box;top: 0;bottom: 0;left: 50%;z-index: 0;}#sk-container-id-2 div.sk-serial {display: flex;flex-direction: column;align-items: center;background-color: white;padding-right: 0.2em;padding-left: 0.2em;position: relative;}#sk-container-id-2 div.sk-item {position: relative;z-index: 1;}#sk-container-id-2 div.sk-parallel {display: flex;align-items: stretch;justify-content: center;background-color: white;position: relative;}#sk-container-id-2 div.sk-item::before, #sk-container-id-2 div.sk-parallel-item::before {content: \"\";position: absolute;border-left: 1px solid gray;box-sizing: border-box;top: 0;bottom: 0;left: 50%;z-index: -1;}#sk-container-id-2 div.sk-parallel-item {display: flex;flex-direction: column;z-index: 1;position: relative;background-color: white;}#sk-container-id-2 div.sk-parallel-item:first-child::after {align-self: flex-end;width: 50%;}#sk-container-id-2 div.sk-parallel-item:last-child::after {align-self: flex-start;width: 50%;}#sk-container-id-2 div.sk-parallel-item:only-child::after {width: 0;}#sk-container-id-2 div.sk-dashed-wrapped {border: 1px dashed gray;margin: 0 0.4em 0.5em 0.4em;box-sizing: border-box;padding-bottom: 0.4em;background-color: white;}#sk-container-id-2 div.sk-label label {font-family: monospace;font-weight: bold;display: inline-block;line-height: 1.2em;}#sk-container-id-2 div.sk-label-container {text-align: center;}#sk-container-id-2 div.sk-container {/* jupyter's `normalize.less` sets `[hidden] { display: none; }` but bootstrap.min.css set `[hidden] { display: none !important; }` so we also need the `!important` here to be able to override the default hidden behavior on the sphinx rendered scikit-learn.org. See: https://github.com/scikit-learn/scikit-learn/issues/21755 */display: inline-block !important;position: relative;}#sk-container-id-2 div.sk-text-repr-fallback {display: none;}</style><div id=\"sk-container-id-2\" class=\"sk-top-container\"><div class=\"sk-text-repr-fallback\"><pre>LogisticRegression(random_state=66)</pre><b>In a Jupyter environment, please rerun this cell to show the HTML representation or trust the notebook. <br />On GitHub, the HTML representation is unable to render, please try loading this page with nbviewer.org.</b></div><div class=\"sk-container\" hidden><div class=\"sk-item\"><div class=\"sk-estimator sk-toggleable\"><input class=\"sk-toggleable__control sk-hidden--visually\" id=\"sk-estimator-id-2\" type=\"checkbox\" checked><label for=\"sk-estimator-id-2\" class=\"sk-toggleable__label sk-toggleable__label-arrow\">LogisticRegression</label><div class=\"sk-toggleable__content\"><pre>LogisticRegression(random_state=66)</pre></div></div></div></div></div>"
      ],
      "text/plain": [
       "LogisticRegression(random_state=66)"
      ]
     },
     "execution_count": 59,
     "metadata": {},
     "output_type": "execute_result"
    }
   ],
   "source": [
    "#instantiate and fit the model\n",
    "\n",
    "logreg2 = LogisticRegression(random_state=66)\n",
    "\n",
    "logreg2.fit(X_train, y_train)\n"
   ]
  },
  {
   "cell_type": "code",
   "execution_count": 60,
   "id": "1c958e3e",
   "metadata": {
    "ExecuteTime": {
     "end_time": "2022-12-22T18:50:27.196438Z",
     "start_time": "2022-12-22T18:50:27.182438Z"
    }
   },
   "outputs": [],
   "source": [
    "#make purchase flag predictions\n",
    "ypred2 = logreg2.predict(X_test)"
   ]
  },
  {
   "cell_type": "code",
   "execution_count": 61,
   "id": "b10c9584",
   "metadata": {
    "ExecuteTime": {
     "end_time": "2022-12-22T18:50:27.212443Z",
     "start_time": "2022-12-22T18:50:27.198440Z"
    }
   },
   "outputs": [
    {
     "data": {
      "text/plain": [
       "array([0, 1, 1, ..., 1, 0, 1])"
      ]
     },
     "execution_count": 61,
     "metadata": {},
     "output_type": "execute_result"
    }
   ],
   "source": [
    "ypred2"
   ]
  },
  {
   "cell_type": "code",
   "execution_count": 62,
   "id": "d31854bd",
   "metadata": {
    "ExecuteTime": {
     "end_time": "2022-12-22T18:50:28.784874Z",
     "start_time": "2022-12-22T18:50:27.214443Z"
    }
   },
   "outputs": [
    {
     "name": "stdout",
     "output_type": "stream",
     "text": [
      "-\n",
      "TRAIN results\n",
      "-\n",
      "Confusion Matrix \n",
      " [[7144 3973]\n",
      " [3616 7472]]\n",
      "-\n",
      "TEST results\n",
      "-\n",
      "Confusion Matrix \n",
      " [[3008 1736]\n",
      " [1538 3235]]\n",
      " Classification report \n",
      "    precision    recall  f1-score  support\n",
      "0   0.661681  0.634064  0.647578   4744.0\n",
      "1   0.650774  0.677771  0.663998   4773.0\n",
      "\n",
      "Summary of the Metrics\n",
      "       Accuracy  Precision    Recall        f1\n",
      "Train  0.657014   0.657227  0.657035  0.656915\n",
      "test   0.655984   0.656228  0.655917  0.655788\n"
     ]
    },
    {
     "data": {
      "text/html": [
       "<div>\n",
       "<style scoped>\n",
       "    .dataframe tbody tr th:only-of-type {\n",
       "        vertical-align: middle;\n",
       "    }\n",
       "\n",
       "    .dataframe tbody tr th {\n",
       "        vertical-align: top;\n",
       "    }\n",
       "\n",
       "    .dataframe thead th {\n",
       "        text-align: right;\n",
       "    }\n",
       "</style>\n",
       "<table border=\"1\" class=\"dataframe\">\n",
       "  <thead>\n",
       "    <tr style=\"text-align: right;\">\n",
       "      <th></th>\n",
       "      <th>Accuracy</th>\n",
       "      <th>Precision</th>\n",
       "      <th>Recall</th>\n",
       "      <th>f1</th>\n",
       "    </tr>\n",
       "  </thead>\n",
       "  <tbody>\n",
       "    <tr>\n",
       "      <th>Train</th>\n",
       "      <td>0.657014</td>\n",
       "      <td>0.657227</td>\n",
       "      <td>0.657035</td>\n",
       "      <td>0.656915</td>\n",
       "    </tr>\n",
       "    <tr>\n",
       "      <th>test</th>\n",
       "      <td>0.655984</td>\n",
       "      <td>0.656228</td>\n",
       "      <td>0.655917</td>\n",
       "      <td>0.655788</td>\n",
       "    </tr>\n",
       "  </tbody>\n",
       "</table>\n",
       "</div>"
      ],
      "text/plain": [
       "       Accuracy  Precision    Recall        f1\n",
       "Train  0.657014   0.657227  0.657035  0.656915\n",
       "test   0.655984   0.656228  0.655917  0.655788"
      ]
     },
     "execution_count": 62,
     "metadata": {},
     "output_type": "execute_result"
    }
   ],
   "source": [
    "C_Allmetrics(logreg2, X_train, y_train, X_test, y_test)"
   ]
  },
  {
   "cell_type": "raw",
   "id": "9b0bdbf2",
   "metadata": {},
   "source": [
    "a lot better but f1 of 0.66 is not great"
   ]
  },
  {
   "cell_type": "markdown",
   "id": "7b320861",
   "metadata": {},
   "source": [
    "## Random Forest - imbalanced"
   ]
  },
  {
   "cell_type": "code",
   "execution_count": 63,
   "id": "9bf3ae73",
   "metadata": {
    "ExecuteTime": {
     "end_time": "2022-12-22T18:50:28.800878Z",
     "start_time": "2022-12-22T18:50:28.786868Z"
    }
   },
   "outputs": [],
   "source": [
    "# variables and split: using the same"
   ]
  },
  {
   "cell_type": "code",
   "execution_count": 64,
   "id": "d6aa8be2",
   "metadata": {
    "ExecuteTime": {
     "end_time": "2022-12-22T18:50:29.633061Z",
     "start_time": "2022-12-22T18:50:28.802873Z"
    }
   },
   "outputs": [
    {
     "data": {
      "text/html": [
       "<style>#sk-container-id-3 {color: black;background-color: white;}#sk-container-id-3 pre{padding: 0;}#sk-container-id-3 div.sk-toggleable {background-color: white;}#sk-container-id-3 label.sk-toggleable__label {cursor: pointer;display: block;width: 100%;margin-bottom: 0;padding: 0.3em;box-sizing: border-box;text-align: center;}#sk-container-id-3 label.sk-toggleable__label-arrow:before {content: \"▸\";float: left;margin-right: 0.25em;color: #696969;}#sk-container-id-3 label.sk-toggleable__label-arrow:hover:before {color: black;}#sk-container-id-3 div.sk-estimator:hover label.sk-toggleable__label-arrow:before {color: black;}#sk-container-id-3 div.sk-toggleable__content {max-height: 0;max-width: 0;overflow: hidden;text-align: left;background-color: #f0f8ff;}#sk-container-id-3 div.sk-toggleable__content pre {margin: 0.2em;color: black;border-radius: 0.25em;background-color: #f0f8ff;}#sk-container-id-3 input.sk-toggleable__control:checked~div.sk-toggleable__content {max-height: 200px;max-width: 100%;overflow: auto;}#sk-container-id-3 input.sk-toggleable__control:checked~label.sk-toggleable__label-arrow:before {content: \"▾\";}#sk-container-id-3 div.sk-estimator input.sk-toggleable__control:checked~label.sk-toggleable__label {background-color: #d4ebff;}#sk-container-id-3 div.sk-label input.sk-toggleable__control:checked~label.sk-toggleable__label {background-color: #d4ebff;}#sk-container-id-3 input.sk-hidden--visually {border: 0;clip: rect(1px 1px 1px 1px);clip: rect(1px, 1px, 1px, 1px);height: 1px;margin: -1px;overflow: hidden;padding: 0;position: absolute;width: 1px;}#sk-container-id-3 div.sk-estimator {font-family: monospace;background-color: #f0f8ff;border: 1px dotted black;border-radius: 0.25em;box-sizing: border-box;margin-bottom: 0.5em;}#sk-container-id-3 div.sk-estimator:hover {background-color: #d4ebff;}#sk-container-id-3 div.sk-parallel-item::after {content: \"\";width: 100%;border-bottom: 1px solid gray;flex-grow: 1;}#sk-container-id-3 div.sk-label:hover label.sk-toggleable__label {background-color: #d4ebff;}#sk-container-id-3 div.sk-serial::before {content: \"\";position: absolute;border-left: 1px solid gray;box-sizing: border-box;top: 0;bottom: 0;left: 50%;z-index: 0;}#sk-container-id-3 div.sk-serial {display: flex;flex-direction: column;align-items: center;background-color: white;padding-right: 0.2em;padding-left: 0.2em;position: relative;}#sk-container-id-3 div.sk-item {position: relative;z-index: 1;}#sk-container-id-3 div.sk-parallel {display: flex;align-items: stretch;justify-content: center;background-color: white;position: relative;}#sk-container-id-3 div.sk-item::before, #sk-container-id-3 div.sk-parallel-item::before {content: \"\";position: absolute;border-left: 1px solid gray;box-sizing: border-box;top: 0;bottom: 0;left: 50%;z-index: -1;}#sk-container-id-3 div.sk-parallel-item {display: flex;flex-direction: column;z-index: 1;position: relative;background-color: white;}#sk-container-id-3 div.sk-parallel-item:first-child::after {align-self: flex-end;width: 50%;}#sk-container-id-3 div.sk-parallel-item:last-child::after {align-self: flex-start;width: 50%;}#sk-container-id-3 div.sk-parallel-item:only-child::after {width: 0;}#sk-container-id-3 div.sk-dashed-wrapped {border: 1px dashed gray;margin: 0 0.4em 0.5em 0.4em;box-sizing: border-box;padding-bottom: 0.4em;background-color: white;}#sk-container-id-3 div.sk-label label {font-family: monospace;font-weight: bold;display: inline-block;line-height: 1.2em;}#sk-container-id-3 div.sk-label-container {text-align: center;}#sk-container-id-3 div.sk-container {/* jupyter's `normalize.less` sets `[hidden] { display: none; }` but bootstrap.min.css set `[hidden] { display: none !important; }` so we also need the `!important` here to be able to override the default hidden behavior on the sphinx rendered scikit-learn.org. See: https://github.com/scikit-learn/scikit-learn/issues/21755 */display: inline-block !important;position: relative;}#sk-container-id-3 div.sk-text-repr-fallback {display: none;}</style><div id=\"sk-container-id-3\" class=\"sk-top-container\"><div class=\"sk-text-repr-fallback\"><pre>RandomForestClassifier(random_state=66)</pre><b>In a Jupyter environment, please rerun this cell to show the HTML representation or trust the notebook. <br />On GitHub, the HTML representation is unable to render, please try loading this page with nbviewer.org.</b></div><div class=\"sk-container\" hidden><div class=\"sk-item\"><div class=\"sk-estimator sk-toggleable\"><input class=\"sk-toggleable__control sk-hidden--visually\" id=\"sk-estimator-id-3\" type=\"checkbox\" checked><label for=\"sk-estimator-id-3\" class=\"sk-toggleable__label sk-toggleable__label-arrow\">RandomForestClassifier</label><div class=\"sk-toggleable__content\"><pre>RandomForestClassifier(random_state=66)</pre></div></div></div></div></div>"
      ],
      "text/plain": [
       "RandomForestClassifier(random_state=66)"
      ]
     },
     "execution_count": 64,
     "metadata": {},
     "output_type": "execute_result"
    }
   ],
   "source": [
    "#instantiate and fit\n",
    "\n",
    "rand_forest = RandomForestClassifier(n_estimators=100, random_state=66)\n",
    "\n",
    "rand_forest.fit(Xtrain, ytrain)"
   ]
  },
  {
   "cell_type": "code",
   "execution_count": 65,
   "id": "6856c869",
   "metadata": {
    "ExecuteTime": {
     "end_time": "2022-12-22T18:50:29.758560Z",
     "start_time": "2022-12-22T18:50:29.635064Z"
    }
   },
   "outputs": [
    {
     "data": {
      "text/plain": [
       "array([1, 1, 1, ..., 1, 1, 1])"
      ]
     },
     "execution_count": 65,
     "metadata": {},
     "output_type": "execute_result"
    }
   ],
   "source": [
    "#predictions\n",
    "ypred_rf = rand_forest.predict(Xtest)\n",
    "ypred_rf"
   ]
  },
  {
   "cell_type": "code",
   "execution_count": 66,
   "id": "2be40758",
   "metadata": {
    "ExecuteTime": {
     "end_time": "2022-12-22T18:50:42.362178Z",
     "start_time": "2022-12-22T18:50:29.760565Z"
    },
    "scrolled": false
   },
   "outputs": [
    {
     "name": "stdout",
     "output_type": "stream",
     "text": [
      "-\n",
      "TRAIN results\n",
      "-\n",
      "Confusion Matrix \n",
      " [[  667     1]\n",
      " [    0 11117]]\n",
      "-\n",
      "TEST results\n",
      "-\n",
      "Confusion Matrix \n",
      " [[   8  300]\n",
      " [  52 4692]]\n",
      " Classification report \n",
      "    precision    recall  f1-score  support\n",
      "0   0.133333  0.025974  0.043478    308.0\n",
      "1   0.939904  0.989039  0.963846   4744.0\n",
      "\n",
      "Summary of the Metrics\n",
      "       Accuracy  Precision    Recall        f1\n",
      "Train  0.933220   0.525303  0.505913  0.502124\n",
      "test   0.930325   0.536619  0.507506  0.503662\n"
     ]
    },
    {
     "data": {
      "text/html": [
       "<div>\n",
       "<style scoped>\n",
       "    .dataframe tbody tr th:only-of-type {\n",
       "        vertical-align: middle;\n",
       "    }\n",
       "\n",
       "    .dataframe tbody tr th {\n",
       "        vertical-align: top;\n",
       "    }\n",
       "\n",
       "    .dataframe thead th {\n",
       "        text-align: right;\n",
       "    }\n",
       "</style>\n",
       "<table border=\"1\" class=\"dataframe\">\n",
       "  <thead>\n",
       "    <tr style=\"text-align: right;\">\n",
       "      <th></th>\n",
       "      <th>Accuracy</th>\n",
       "      <th>Precision</th>\n",
       "      <th>Recall</th>\n",
       "      <th>f1</th>\n",
       "    </tr>\n",
       "  </thead>\n",
       "  <tbody>\n",
       "    <tr>\n",
       "      <th>Train</th>\n",
       "      <td>0.933220</td>\n",
       "      <td>0.525303</td>\n",
       "      <td>0.505913</td>\n",
       "      <td>0.502124</td>\n",
       "    </tr>\n",
       "    <tr>\n",
       "      <th>test</th>\n",
       "      <td>0.930325</td>\n",
       "      <td>0.536619</td>\n",
       "      <td>0.507506</td>\n",
       "      <td>0.503662</td>\n",
       "    </tr>\n",
       "  </tbody>\n",
       "</table>\n",
       "</div>"
      ],
      "text/plain": [
       "       Accuracy  Precision    Recall        f1\n",
       "Train  0.933220   0.525303  0.505913  0.502124\n",
       "test   0.930325   0.536619  0.507506  0.503662"
      ]
     },
     "execution_count": 66,
     "metadata": {},
     "output_type": "execute_result"
    }
   ],
   "source": [
    "#evaluate\n",
    "\n",
    "C_Allmetrics(rand_forest, Xtrain, ytrain, Xtest, ytest)"
   ]
  },
  {
   "cell_type": "raw",
   "id": "2fb8cd99",
   "metadata": {},
   "source": [
    "better than the imbalanced log reg but worse than the balanced one so let's try with the balanced data"
   ]
  },
  {
   "cell_type": "markdown",
   "id": "6d5375c1",
   "metadata": {},
   "source": [
    "## Random Forest - balanced"
   ]
  },
  {
   "cell_type": "code",
   "execution_count": 67,
   "id": "e5e39e5a",
   "metadata": {
    "ExecuteTime": {
     "end_time": "2022-12-22T18:50:42.378181Z",
     "start_time": "2022-12-22T18:50:42.364179Z"
    }
   },
   "outputs": [],
   "source": [
    "# variables and split: using the same"
   ]
  },
  {
   "cell_type": "code",
   "execution_count": 68,
   "id": "80268da3",
   "metadata": {
    "ExecuteTime": {
     "end_time": "2022-12-22T18:50:44.388653Z",
     "start_time": "2022-12-22T18:50:42.380184Z"
    }
   },
   "outputs": [
    {
     "data": {
      "text/html": [
       "<style>#sk-container-id-4 {color: black;background-color: white;}#sk-container-id-4 pre{padding: 0;}#sk-container-id-4 div.sk-toggleable {background-color: white;}#sk-container-id-4 label.sk-toggleable__label {cursor: pointer;display: block;width: 100%;margin-bottom: 0;padding: 0.3em;box-sizing: border-box;text-align: center;}#sk-container-id-4 label.sk-toggleable__label-arrow:before {content: \"▸\";float: left;margin-right: 0.25em;color: #696969;}#sk-container-id-4 label.sk-toggleable__label-arrow:hover:before {color: black;}#sk-container-id-4 div.sk-estimator:hover label.sk-toggleable__label-arrow:before {color: black;}#sk-container-id-4 div.sk-toggleable__content {max-height: 0;max-width: 0;overflow: hidden;text-align: left;background-color: #f0f8ff;}#sk-container-id-4 div.sk-toggleable__content pre {margin: 0.2em;color: black;border-radius: 0.25em;background-color: #f0f8ff;}#sk-container-id-4 input.sk-toggleable__control:checked~div.sk-toggleable__content {max-height: 200px;max-width: 100%;overflow: auto;}#sk-container-id-4 input.sk-toggleable__control:checked~label.sk-toggleable__label-arrow:before {content: \"▾\";}#sk-container-id-4 div.sk-estimator input.sk-toggleable__control:checked~label.sk-toggleable__label {background-color: #d4ebff;}#sk-container-id-4 div.sk-label input.sk-toggleable__control:checked~label.sk-toggleable__label {background-color: #d4ebff;}#sk-container-id-4 input.sk-hidden--visually {border: 0;clip: rect(1px 1px 1px 1px);clip: rect(1px, 1px, 1px, 1px);height: 1px;margin: -1px;overflow: hidden;padding: 0;position: absolute;width: 1px;}#sk-container-id-4 div.sk-estimator {font-family: monospace;background-color: #f0f8ff;border: 1px dotted black;border-radius: 0.25em;box-sizing: border-box;margin-bottom: 0.5em;}#sk-container-id-4 div.sk-estimator:hover {background-color: #d4ebff;}#sk-container-id-4 div.sk-parallel-item::after {content: \"\";width: 100%;border-bottom: 1px solid gray;flex-grow: 1;}#sk-container-id-4 div.sk-label:hover label.sk-toggleable__label {background-color: #d4ebff;}#sk-container-id-4 div.sk-serial::before {content: \"\";position: absolute;border-left: 1px solid gray;box-sizing: border-box;top: 0;bottom: 0;left: 50%;z-index: 0;}#sk-container-id-4 div.sk-serial {display: flex;flex-direction: column;align-items: center;background-color: white;padding-right: 0.2em;padding-left: 0.2em;position: relative;}#sk-container-id-4 div.sk-item {position: relative;z-index: 1;}#sk-container-id-4 div.sk-parallel {display: flex;align-items: stretch;justify-content: center;background-color: white;position: relative;}#sk-container-id-4 div.sk-item::before, #sk-container-id-4 div.sk-parallel-item::before {content: \"\";position: absolute;border-left: 1px solid gray;box-sizing: border-box;top: 0;bottom: 0;left: 50%;z-index: -1;}#sk-container-id-4 div.sk-parallel-item {display: flex;flex-direction: column;z-index: 1;position: relative;background-color: white;}#sk-container-id-4 div.sk-parallel-item:first-child::after {align-self: flex-end;width: 50%;}#sk-container-id-4 div.sk-parallel-item:last-child::after {align-self: flex-start;width: 50%;}#sk-container-id-4 div.sk-parallel-item:only-child::after {width: 0;}#sk-container-id-4 div.sk-dashed-wrapped {border: 1px dashed gray;margin: 0 0.4em 0.5em 0.4em;box-sizing: border-box;padding-bottom: 0.4em;background-color: white;}#sk-container-id-4 div.sk-label label {font-family: monospace;font-weight: bold;display: inline-block;line-height: 1.2em;}#sk-container-id-4 div.sk-label-container {text-align: center;}#sk-container-id-4 div.sk-container {/* jupyter's `normalize.less` sets `[hidden] { display: none; }` but bootstrap.min.css set `[hidden] { display: none !important; }` so we also need the `!important` here to be able to override the default hidden behavior on the sphinx rendered scikit-learn.org. See: https://github.com/scikit-learn/scikit-learn/issues/21755 */display: inline-block !important;position: relative;}#sk-container-id-4 div.sk-text-repr-fallback {display: none;}</style><div id=\"sk-container-id-4\" class=\"sk-top-container\"><div class=\"sk-text-repr-fallback\"><pre>RandomForestClassifier(random_state=66)</pre><b>In a Jupyter environment, please rerun this cell to show the HTML representation or trust the notebook. <br />On GitHub, the HTML representation is unable to render, please try loading this page with nbviewer.org.</b></div><div class=\"sk-container\" hidden><div class=\"sk-item\"><div class=\"sk-estimator sk-toggleable\"><input class=\"sk-toggleable__control sk-hidden--visually\" id=\"sk-estimator-id-4\" type=\"checkbox\" checked><label for=\"sk-estimator-id-4\" class=\"sk-toggleable__label sk-toggleable__label-arrow\">RandomForestClassifier</label><div class=\"sk-toggleable__content\"><pre>RandomForestClassifier(random_state=66)</pre></div></div></div></div></div>"
      ],
      "text/plain": [
       "RandomForestClassifier(random_state=66)"
      ]
     },
     "execution_count": 68,
     "metadata": {},
     "output_type": "execute_result"
    }
   ],
   "source": [
    "#instantiate and fit\n",
    "\n",
    "rand_forest2 = RandomForestClassifier(n_estimators=100, random_state=66)\n",
    "\n",
    "rand_forest2.fit(X_train, y_train)"
   ]
  },
  {
   "cell_type": "code",
   "execution_count": 69,
   "id": "c9398483",
   "metadata": {
    "ExecuteTime": {
     "end_time": "2022-12-22T18:50:44.564749Z",
     "start_time": "2022-12-22T18:50:44.390636Z"
    }
   },
   "outputs": [
    {
     "data": {
      "text/plain": [
       "array([0, 1, 1, ..., 0, 1, 1])"
      ]
     },
     "execution_count": 69,
     "metadata": {},
     "output_type": "execute_result"
    }
   ],
   "source": [
    "#predictions\n",
    "ypred_rf2 = rand_forest2.predict(X_test)\n",
    "ypred_rf2"
   ]
  },
  {
   "cell_type": "markdown",
   "id": "af42afe5",
   "metadata": {},
   "source": [
    "### Evaluate the model"
   ]
  },
  {
   "cell_type": "code",
   "execution_count": 70,
   "id": "aba45046",
   "metadata": {
    "ExecuteTime": {
     "end_time": "2022-12-22T18:51:09.769396Z",
     "start_time": "2022-12-22T18:50:44.566738Z"
    },
    "scrolled": false
   },
   "outputs": [
    {
     "name": "stdout",
     "output_type": "stream",
     "text": [
      "-\n",
      "TRAIN results\n",
      "-\n",
      "Confusion Matrix \n",
      " [[11117     0]\n",
      " [    0 11088]]\n",
      "-\n",
      "TEST results\n",
      "-\n",
      "Confusion Matrix \n",
      " [[4362  382]\n",
      " [ 524 4249]]\n",
      " Classification report \n",
      "    precision    recall  f1-score  support\n",
      "0   0.892755  0.919477  0.905919   4744.0\n",
      "1   0.917512  0.890216  0.903658   4773.0\n",
      "\n",
      "Summary of the Metrics\n",
      "       Accuracy  Precision    Recall        f1\n",
      "Train  0.903400   0.903597  0.903387  0.903386\n",
      "test   0.904802   0.905134  0.904847  0.904789\n"
     ]
    },
    {
     "data": {
      "text/html": [
       "<div>\n",
       "<style scoped>\n",
       "    .dataframe tbody tr th:only-of-type {\n",
       "        vertical-align: middle;\n",
       "    }\n",
       "\n",
       "    .dataframe tbody tr th {\n",
       "        vertical-align: top;\n",
       "    }\n",
       "\n",
       "    .dataframe thead th {\n",
       "        text-align: right;\n",
       "    }\n",
       "</style>\n",
       "<table border=\"1\" class=\"dataframe\">\n",
       "  <thead>\n",
       "    <tr style=\"text-align: right;\">\n",
       "      <th></th>\n",
       "      <th>Accuracy</th>\n",
       "      <th>Precision</th>\n",
       "      <th>Recall</th>\n",
       "      <th>f1</th>\n",
       "    </tr>\n",
       "  </thead>\n",
       "  <tbody>\n",
       "    <tr>\n",
       "      <th>Train</th>\n",
       "      <td>0.903400</td>\n",
       "      <td>0.903597</td>\n",
       "      <td>0.903387</td>\n",
       "      <td>0.903386</td>\n",
       "    </tr>\n",
       "    <tr>\n",
       "      <th>test</th>\n",
       "      <td>0.904802</td>\n",
       "      <td>0.905134</td>\n",
       "      <td>0.904847</td>\n",
       "      <td>0.904789</td>\n",
       "    </tr>\n",
       "  </tbody>\n",
       "</table>\n",
       "</div>"
      ],
      "text/plain": [
       "       Accuracy  Precision    Recall        f1\n",
       "Train  0.903400   0.903597  0.903387  0.903386\n",
       "test   0.904802   0.905134  0.904847  0.904789"
      ]
     },
     "execution_count": 70,
     "metadata": {},
     "output_type": "execute_result"
    }
   ],
   "source": [
    "#evaluate\n",
    "\n",
    "C_Allmetrics(rand_forest2, X_train, y_train, X_test, y_test)"
   ]
  },
  {
   "cell_type": "raw",
   "id": "cf1a3fcc",
   "metadata": {},
   "source": [
    "results seem pretty good"
   ]
  },
  {
   "cell_type": "code",
   "execution_count": 71,
   "id": "01acb0f2",
   "metadata": {
    "ExecuteTime": {
     "end_time": "2022-12-22T18:51:09.785445Z",
     "start_time": "2022-12-22T18:51:09.772406Z"
    }
   },
   "outputs": [
    {
     "data": {
      "text/html": [
       "<div>\n",
       "<style scoped>\n",
       "    .dataframe tbody tr th:only-of-type {\n",
       "        vertical-align: middle;\n",
       "    }\n",
       "\n",
       "    .dataframe tbody tr th {\n",
       "        vertical-align: top;\n",
       "    }\n",
       "\n",
       "    .dataframe thead th {\n",
       "        text-align: right;\n",
       "    }\n",
       "</style>\n",
       "<table border=\"1\" class=\"dataframe\">\n",
       "  <thead>\n",
       "    <tr style=\"text-align: right;\">\n",
       "      <th></th>\n",
       "      <th>Education</th>\n",
       "      <th>Occupation</th>\n",
       "      <th>Gender</th>\n",
       "      <th>MaritalStatus</th>\n",
       "      <th>HomeOwnerFlag</th>\n",
       "      <th>NumberCarsOwned</th>\n",
       "      <th>NumberChildrenAtHome</th>\n",
       "      <th>TotalChildren</th>\n",
       "      <th>Country_Australia</th>\n",
       "      <th>Country_Canada</th>\n",
       "      <th>Country_France</th>\n",
       "      <th>Country_Germany</th>\n",
       "      <th>Country_United Kingdom</th>\n",
       "      <th>Country_United States</th>\n",
       "      <th>Age</th>\n",
       "      <th>YearlyIncome</th>\n",
       "    </tr>\n",
       "  </thead>\n",
       "  <tbody>\n",
       "    <tr>\n",
       "      <th>25006</th>\n",
       "      <td>2</td>\n",
       "      <td>4</td>\n",
       "      <td>0</td>\n",
       "      <td>0</td>\n",
       "      <td>0</td>\n",
       "      <td>3</td>\n",
       "      <td>4</td>\n",
       "      <td>4</td>\n",
       "      <td>0</td>\n",
       "      <td>0</td>\n",
       "      <td>0</td>\n",
       "      <td>0</td>\n",
       "      <td>0</td>\n",
       "      <td>0</td>\n",
       "      <td>0.551020</td>\n",
       "      <td>0.550403</td>\n",
       "    </tr>\n",
       "    <tr>\n",
       "      <th>7221</th>\n",
       "      <td>5</td>\n",
       "      <td>4</td>\n",
       "      <td>1</td>\n",
       "      <td>1</td>\n",
       "      <td>1</td>\n",
       "      <td>0</td>\n",
       "      <td>0</td>\n",
       "      <td>4</td>\n",
       "      <td>0</td>\n",
       "      <td>0</td>\n",
       "      <td>0</td>\n",
       "      <td>0</td>\n",
       "      <td>0</td>\n",
       "      <td>1</td>\n",
       "      <td>0.204082</td>\n",
       "      <td>0.402889</td>\n",
       "    </tr>\n",
       "    <tr>\n",
       "      <th>3224</th>\n",
       "      <td>5</td>\n",
       "      <td>4</td>\n",
       "      <td>1</td>\n",
       "      <td>0</td>\n",
       "      <td>1</td>\n",
       "      <td>0</td>\n",
       "      <td>2</td>\n",
       "      <td>3</td>\n",
       "      <td>0</td>\n",
       "      <td>0</td>\n",
       "      <td>0</td>\n",
       "      <td>0</td>\n",
       "      <td>0</td>\n",
       "      <td>1</td>\n",
       "      <td>0.346939</td>\n",
       "      <td>0.465789</td>\n",
       "    </tr>\n",
       "    <tr>\n",
       "      <th>4379</th>\n",
       "      <td>3</td>\n",
       "      <td>4</td>\n",
       "      <td>1</td>\n",
       "      <td>1</td>\n",
       "      <td>1</td>\n",
       "      <td>2</td>\n",
       "      <td>0</td>\n",
       "      <td>3</td>\n",
       "      <td>0</td>\n",
       "      <td>0</td>\n",
       "      <td>0</td>\n",
       "      <td>0</td>\n",
       "      <td>0</td>\n",
       "      <td>1</td>\n",
       "      <td>0.510204</td>\n",
       "      <td>0.384646</td>\n",
       "    </tr>\n",
       "    <tr>\n",
       "      <th>23108</th>\n",
       "      <td>2</td>\n",
       "      <td>4</td>\n",
       "      <td>0</td>\n",
       "      <td>0</td>\n",
       "      <td>0</td>\n",
       "      <td>2</td>\n",
       "      <td>0</td>\n",
       "      <td>2</td>\n",
       "      <td>0</td>\n",
       "      <td>0</td>\n",
       "      <td>0</td>\n",
       "      <td>0</td>\n",
       "      <td>0</td>\n",
       "      <td>1</td>\n",
       "      <td>0.513962</td>\n",
       "      <td>0.499457</td>\n",
       "    </tr>\n",
       "    <tr>\n",
       "      <th>...</th>\n",
       "      <td>...</td>\n",
       "      <td>...</td>\n",
       "      <td>...</td>\n",
       "      <td>...</td>\n",
       "      <td>...</td>\n",
       "      <td>...</td>\n",
       "      <td>...</td>\n",
       "      <td>...</td>\n",
       "      <td>...</td>\n",
       "      <td>...</td>\n",
       "      <td>...</td>\n",
       "      <td>...</td>\n",
       "      <td>...</td>\n",
       "      <td>...</td>\n",
       "      <td>...</td>\n",
       "      <td>...</td>\n",
       "    </tr>\n",
       "    <tr>\n",
       "      <th>28241</th>\n",
       "      <td>4</td>\n",
       "      <td>3</td>\n",
       "      <td>0</td>\n",
       "      <td>0</td>\n",
       "      <td>1</td>\n",
       "      <td>0</td>\n",
       "      <td>3</td>\n",
       "      <td>3</td>\n",
       "      <td>0</td>\n",
       "      <td>0</td>\n",
       "      <td>0</td>\n",
       "      <td>0</td>\n",
       "      <td>0</td>\n",
       "      <td>1</td>\n",
       "      <td>0.336834</td>\n",
       "      <td>0.443234</td>\n",
       "    </tr>\n",
       "    <tr>\n",
       "      <th>12442</th>\n",
       "      <td>4</td>\n",
       "      <td>5</td>\n",
       "      <td>0</td>\n",
       "      <td>1</td>\n",
       "      <td>0</td>\n",
       "      <td>1</td>\n",
       "      <td>0</td>\n",
       "      <td>0</td>\n",
       "      <td>0</td>\n",
       "      <td>0</td>\n",
       "      <td>0</td>\n",
       "      <td>0</td>\n",
       "      <td>0</td>\n",
       "      <td>1</td>\n",
       "      <td>0.163265</td>\n",
       "      <td>0.607441</td>\n",
       "    </tr>\n",
       "    <tr>\n",
       "      <th>30105</th>\n",
       "      <td>5</td>\n",
       "      <td>3</td>\n",
       "      <td>1</td>\n",
       "      <td>1</td>\n",
       "      <td>0</td>\n",
       "      <td>0</td>\n",
       "      <td>0</td>\n",
       "      <td>4</td>\n",
       "      <td>0</td>\n",
       "      <td>0</td>\n",
       "      <td>0</td>\n",
       "      <td>0</td>\n",
       "      <td>0</td>\n",
       "      <td>1</td>\n",
       "      <td>0.448980</td>\n",
       "      <td>0.527729</td>\n",
       "    </tr>\n",
       "    <tr>\n",
       "      <th>1697</th>\n",
       "      <td>5</td>\n",
       "      <td>4</td>\n",
       "      <td>0</td>\n",
       "      <td>0</td>\n",
       "      <td>1</td>\n",
       "      <td>0</td>\n",
       "      <td>0</td>\n",
       "      <td>1</td>\n",
       "      <td>0</td>\n",
       "      <td>0</td>\n",
       "      <td>0</td>\n",
       "      <td>0</td>\n",
       "      <td>0</td>\n",
       "      <td>1</td>\n",
       "      <td>0.224490</td>\n",
       "      <td>0.587679</td>\n",
       "    </tr>\n",
       "    <tr>\n",
       "      <th>21917</th>\n",
       "      <td>2</td>\n",
       "      <td>5</td>\n",
       "      <td>1</td>\n",
       "      <td>0</td>\n",
       "      <td>1</td>\n",
       "      <td>3</td>\n",
       "      <td>5</td>\n",
       "      <td>5</td>\n",
       "      <td>1</td>\n",
       "      <td>0</td>\n",
       "      <td>0</td>\n",
       "      <td>0</td>\n",
       "      <td>0</td>\n",
       "      <td>0</td>\n",
       "      <td>0.197829</td>\n",
       "      <td>0.531436</td>\n",
       "    </tr>\n",
       "  </tbody>\n",
       "</table>\n",
       "<p>9517 rows × 16 columns</p>\n",
       "</div>"
      ],
      "text/plain": [
       "       Education  Occupation  Gender  MaritalStatus  HomeOwnerFlag  \\\n",
       "25006          2           4       0              0              0   \n",
       "7221           5           4       1              1              1   \n",
       "3224           5           4       1              0              1   \n",
       "4379           3           4       1              1              1   \n",
       "23108          2           4       0              0              0   \n",
       "...          ...         ...     ...            ...            ...   \n",
       "28241          4           3       0              0              1   \n",
       "12442          4           5       0              1              0   \n",
       "30105          5           3       1              1              0   \n",
       "1697           5           4       0              0              1   \n",
       "21917          2           5       1              0              1   \n",
       "\n",
       "       NumberCarsOwned  NumberChildrenAtHome  TotalChildren  \\\n",
       "25006                3                     4              4   \n",
       "7221                 0                     0              4   \n",
       "3224                 0                     2              3   \n",
       "4379                 2                     0              3   \n",
       "23108                2                     0              2   \n",
       "...                ...                   ...            ...   \n",
       "28241                0                     3              3   \n",
       "12442                1                     0              0   \n",
       "30105                0                     0              4   \n",
       "1697                 0                     0              1   \n",
       "21917                3                     5              5   \n",
       "\n",
       "       Country_Australia  Country_Canada  Country_France  Country_Germany  \\\n",
       "25006                  0               0               0                0   \n",
       "7221                   0               0               0                0   \n",
       "3224                   0               0               0                0   \n",
       "4379                   0               0               0                0   \n",
       "23108                  0               0               0                0   \n",
       "...                  ...             ...             ...              ...   \n",
       "28241                  0               0               0                0   \n",
       "12442                  0               0               0                0   \n",
       "30105                  0               0               0                0   \n",
       "1697                   0               0               0                0   \n",
       "21917                  1               0               0                0   \n",
       "\n",
       "       Country_United Kingdom  Country_United States       Age  YearlyIncome  \n",
       "25006                       0                      0  0.551020      0.550403  \n",
       "7221                        0                      1  0.204082      0.402889  \n",
       "3224                        0                      1  0.346939      0.465789  \n",
       "4379                        0                      1  0.510204      0.384646  \n",
       "23108                       0                      1  0.513962      0.499457  \n",
       "...                       ...                    ...       ...           ...  \n",
       "28241                       0                      1  0.336834      0.443234  \n",
       "12442                       0                      1  0.163265      0.607441  \n",
       "30105                       0                      1  0.448980      0.527729  \n",
       "1697                        0                      1  0.224490      0.587679  \n",
       "21917                       0                      0  0.197829      0.531436  \n",
       "\n",
       "[9517 rows x 16 columns]"
      ]
     },
     "execution_count": 71,
     "metadata": {},
     "output_type": "execute_result"
    }
   ],
   "source": [
    "X_test"
   ]
  },
  {
   "cell_type": "code",
   "execution_count": 72,
   "id": "1da3a6a5",
   "metadata": {
    "ExecuteTime": {
     "end_time": "2022-12-22T18:51:09.831444Z",
     "start_time": "2022-12-22T18:51:09.786446Z"
    }
   },
   "outputs": [
    {
     "data": {
      "text/plain": [
       "25006    0\n",
       "7221     1\n",
       "3224     1\n",
       "4379     1\n",
       "23108    0\n",
       "        ..\n",
       "28241    0\n",
       "12442    1\n",
       "30105    0\n",
       "1697     1\n",
       "21917    0\n",
       "Name: PurchasedFlag, Length: 9517, dtype: int32"
      ]
     },
     "execution_count": 72,
     "metadata": {},
     "output_type": "execute_result"
    }
   ],
   "source": [
    "y_test"
   ]
  },
  {
   "cell_type": "code",
   "execution_count": 73,
   "id": "aea3b479",
   "metadata": {
    "ExecuteTime": {
     "end_time": "2022-12-22T18:51:09.846475Z",
     "start_time": "2022-12-22T18:51:09.834448Z"
    }
   },
   "outputs": [
    {
     "data": {
      "text/plain": [
       "array([0, 1, 1, ..., 0, 1, 1])"
      ]
     },
     "execution_count": 73,
     "metadata": {},
     "output_type": "execute_result"
    }
   ],
   "source": [
    "ypred_rf2"
   ]
  },
  {
   "cell_type": "code",
   "execution_count": 74,
   "id": "5b8b8800",
   "metadata": {
    "ExecuteTime": {
     "end_time": "2022-12-22T18:51:09.877502Z",
     "start_time": "2022-12-22T18:51:09.848472Z"
    }
   },
   "outputs": [
    {
     "data": {
      "text/html": [
       "<div>\n",
       "<style scoped>\n",
       "    .dataframe tbody tr th:only-of-type {\n",
       "        vertical-align: middle;\n",
       "    }\n",
       "\n",
       "    .dataframe tbody tr th {\n",
       "        vertical-align: top;\n",
       "    }\n",
       "\n",
       "    .dataframe thead th {\n",
       "        text-align: right;\n",
       "    }\n",
       "</style>\n",
       "<table border=\"1\" class=\"dataframe\">\n",
       "  <thead>\n",
       "    <tr style=\"text-align: right;\">\n",
       "      <th></th>\n",
       "      <th>Education</th>\n",
       "      <th>Occupation</th>\n",
       "      <th>Gender</th>\n",
       "      <th>MaritalStatus</th>\n",
       "      <th>HomeOwnerFlag</th>\n",
       "      <th>NumberCarsOwned</th>\n",
       "      <th>NumberChildrenAtHome</th>\n",
       "      <th>TotalChildren</th>\n",
       "      <th>Country_Australia</th>\n",
       "      <th>Country_Canada</th>\n",
       "      <th>Country_France</th>\n",
       "      <th>Country_Germany</th>\n",
       "      <th>Country_United Kingdom</th>\n",
       "      <th>Country_United States</th>\n",
       "      <th>Age</th>\n",
       "      <th>YearlyIncome</th>\n",
       "      <th>PurchasedFlag</th>\n",
       "    </tr>\n",
       "  </thead>\n",
       "  <tbody>\n",
       "    <tr>\n",
       "      <th>25006</th>\n",
       "      <td>2</td>\n",
       "      <td>4</td>\n",
       "      <td>0</td>\n",
       "      <td>0</td>\n",
       "      <td>0</td>\n",
       "      <td>3</td>\n",
       "      <td>4</td>\n",
       "      <td>4</td>\n",
       "      <td>0</td>\n",
       "      <td>0</td>\n",
       "      <td>0</td>\n",
       "      <td>0</td>\n",
       "      <td>0</td>\n",
       "      <td>0</td>\n",
       "      <td>0.551020</td>\n",
       "      <td>0.550403</td>\n",
       "      <td>0</td>\n",
       "    </tr>\n",
       "    <tr>\n",
       "      <th>7221</th>\n",
       "      <td>5</td>\n",
       "      <td>4</td>\n",
       "      <td>1</td>\n",
       "      <td>1</td>\n",
       "      <td>1</td>\n",
       "      <td>0</td>\n",
       "      <td>0</td>\n",
       "      <td>4</td>\n",
       "      <td>0</td>\n",
       "      <td>0</td>\n",
       "      <td>0</td>\n",
       "      <td>0</td>\n",
       "      <td>0</td>\n",
       "      <td>1</td>\n",
       "      <td>0.204082</td>\n",
       "      <td>0.402889</td>\n",
       "      <td>1</td>\n",
       "    </tr>\n",
       "    <tr>\n",
       "      <th>3224</th>\n",
       "      <td>5</td>\n",
       "      <td>4</td>\n",
       "      <td>1</td>\n",
       "      <td>0</td>\n",
       "      <td>1</td>\n",
       "      <td>0</td>\n",
       "      <td>2</td>\n",
       "      <td>3</td>\n",
       "      <td>0</td>\n",
       "      <td>0</td>\n",
       "      <td>0</td>\n",
       "      <td>0</td>\n",
       "      <td>0</td>\n",
       "      <td>1</td>\n",
       "      <td>0.346939</td>\n",
       "      <td>0.465789</td>\n",
       "      <td>1</td>\n",
       "    </tr>\n",
       "    <tr>\n",
       "      <th>4379</th>\n",
       "      <td>3</td>\n",
       "      <td>4</td>\n",
       "      <td>1</td>\n",
       "      <td>1</td>\n",
       "      <td>1</td>\n",
       "      <td>2</td>\n",
       "      <td>0</td>\n",
       "      <td>3</td>\n",
       "      <td>0</td>\n",
       "      <td>0</td>\n",
       "      <td>0</td>\n",
       "      <td>0</td>\n",
       "      <td>0</td>\n",
       "      <td>1</td>\n",
       "      <td>0.510204</td>\n",
       "      <td>0.384646</td>\n",
       "      <td>1</td>\n",
       "    </tr>\n",
       "    <tr>\n",
       "      <th>23108</th>\n",
       "      <td>2</td>\n",
       "      <td>4</td>\n",
       "      <td>0</td>\n",
       "      <td>0</td>\n",
       "      <td>0</td>\n",
       "      <td>2</td>\n",
       "      <td>0</td>\n",
       "      <td>2</td>\n",
       "      <td>0</td>\n",
       "      <td>0</td>\n",
       "      <td>0</td>\n",
       "      <td>0</td>\n",
       "      <td>0</td>\n",
       "      <td>1</td>\n",
       "      <td>0.513962</td>\n",
       "      <td>0.499457</td>\n",
       "      <td>0</td>\n",
       "    </tr>\n",
       "    <tr>\n",
       "      <th>...</th>\n",
       "      <td>...</td>\n",
       "      <td>...</td>\n",
       "      <td>...</td>\n",
       "      <td>...</td>\n",
       "      <td>...</td>\n",
       "      <td>...</td>\n",
       "      <td>...</td>\n",
       "      <td>...</td>\n",
       "      <td>...</td>\n",
       "      <td>...</td>\n",
       "      <td>...</td>\n",
       "      <td>...</td>\n",
       "      <td>...</td>\n",
       "      <td>...</td>\n",
       "      <td>...</td>\n",
       "      <td>...</td>\n",
       "      <td>...</td>\n",
       "    </tr>\n",
       "    <tr>\n",
       "      <th>28241</th>\n",
       "      <td>4</td>\n",
       "      <td>3</td>\n",
       "      <td>0</td>\n",
       "      <td>0</td>\n",
       "      <td>1</td>\n",
       "      <td>0</td>\n",
       "      <td>3</td>\n",
       "      <td>3</td>\n",
       "      <td>0</td>\n",
       "      <td>0</td>\n",
       "      <td>0</td>\n",
       "      <td>0</td>\n",
       "      <td>0</td>\n",
       "      <td>1</td>\n",
       "      <td>0.336834</td>\n",
       "      <td>0.443234</td>\n",
       "      <td>0</td>\n",
       "    </tr>\n",
       "    <tr>\n",
       "      <th>12442</th>\n",
       "      <td>4</td>\n",
       "      <td>5</td>\n",
       "      <td>0</td>\n",
       "      <td>1</td>\n",
       "      <td>0</td>\n",
       "      <td>1</td>\n",
       "      <td>0</td>\n",
       "      <td>0</td>\n",
       "      <td>0</td>\n",
       "      <td>0</td>\n",
       "      <td>0</td>\n",
       "      <td>0</td>\n",
       "      <td>0</td>\n",
       "      <td>1</td>\n",
       "      <td>0.163265</td>\n",
       "      <td>0.607441</td>\n",
       "      <td>1</td>\n",
       "    </tr>\n",
       "    <tr>\n",
       "      <th>30105</th>\n",
       "      <td>5</td>\n",
       "      <td>3</td>\n",
       "      <td>1</td>\n",
       "      <td>1</td>\n",
       "      <td>0</td>\n",
       "      <td>0</td>\n",
       "      <td>0</td>\n",
       "      <td>4</td>\n",
       "      <td>0</td>\n",
       "      <td>0</td>\n",
       "      <td>0</td>\n",
       "      <td>0</td>\n",
       "      <td>0</td>\n",
       "      <td>1</td>\n",
       "      <td>0.448980</td>\n",
       "      <td>0.527729</td>\n",
       "      <td>0</td>\n",
       "    </tr>\n",
       "    <tr>\n",
       "      <th>1697</th>\n",
       "      <td>5</td>\n",
       "      <td>4</td>\n",
       "      <td>0</td>\n",
       "      <td>0</td>\n",
       "      <td>1</td>\n",
       "      <td>0</td>\n",
       "      <td>0</td>\n",
       "      <td>1</td>\n",
       "      <td>0</td>\n",
       "      <td>0</td>\n",
       "      <td>0</td>\n",
       "      <td>0</td>\n",
       "      <td>0</td>\n",
       "      <td>1</td>\n",
       "      <td>0.224490</td>\n",
       "      <td>0.587679</td>\n",
       "      <td>1</td>\n",
       "    </tr>\n",
       "    <tr>\n",
       "      <th>21917</th>\n",
       "      <td>2</td>\n",
       "      <td>5</td>\n",
       "      <td>1</td>\n",
       "      <td>0</td>\n",
       "      <td>1</td>\n",
       "      <td>3</td>\n",
       "      <td>5</td>\n",
       "      <td>5</td>\n",
       "      <td>1</td>\n",
       "      <td>0</td>\n",
       "      <td>0</td>\n",
       "      <td>0</td>\n",
       "      <td>0</td>\n",
       "      <td>0</td>\n",
       "      <td>0.197829</td>\n",
       "      <td>0.531436</td>\n",
       "      <td>0</td>\n",
       "    </tr>\n",
       "  </tbody>\n",
       "</table>\n",
       "<p>9517 rows × 17 columns</p>\n",
       "</div>"
      ],
      "text/plain": [
       "       Education  Occupation  Gender  MaritalStatus  HomeOwnerFlag  \\\n",
       "25006          2           4       0              0              0   \n",
       "7221           5           4       1              1              1   \n",
       "3224           5           4       1              0              1   \n",
       "4379           3           4       1              1              1   \n",
       "23108          2           4       0              0              0   \n",
       "...          ...         ...     ...            ...            ...   \n",
       "28241          4           3       0              0              1   \n",
       "12442          4           5       0              1              0   \n",
       "30105          5           3       1              1              0   \n",
       "1697           5           4       0              0              1   \n",
       "21917          2           5       1              0              1   \n",
       "\n",
       "       NumberCarsOwned  NumberChildrenAtHome  TotalChildren  \\\n",
       "25006                3                     4              4   \n",
       "7221                 0                     0              4   \n",
       "3224                 0                     2              3   \n",
       "4379                 2                     0              3   \n",
       "23108                2                     0              2   \n",
       "...                ...                   ...            ...   \n",
       "28241                0                     3              3   \n",
       "12442                1                     0              0   \n",
       "30105                0                     0              4   \n",
       "1697                 0                     0              1   \n",
       "21917                3                     5              5   \n",
       "\n",
       "       Country_Australia  Country_Canada  Country_France  Country_Germany  \\\n",
       "25006                  0               0               0                0   \n",
       "7221                   0               0               0                0   \n",
       "3224                   0               0               0                0   \n",
       "4379                   0               0               0                0   \n",
       "23108                  0               0               0                0   \n",
       "...                  ...             ...             ...              ...   \n",
       "28241                  0               0               0                0   \n",
       "12442                  0               0               0                0   \n",
       "30105                  0               0               0                0   \n",
       "1697                   0               0               0                0   \n",
       "21917                  1               0               0                0   \n",
       "\n",
       "       Country_United Kingdom  Country_United States       Age  YearlyIncome  \\\n",
       "25006                       0                      0  0.551020      0.550403   \n",
       "7221                        0                      1  0.204082      0.402889   \n",
       "3224                        0                      1  0.346939      0.465789   \n",
       "4379                        0                      1  0.510204      0.384646   \n",
       "23108                       0                      1  0.513962      0.499457   \n",
       "...                       ...                    ...       ...           ...   \n",
       "28241                       0                      1  0.336834      0.443234   \n",
       "12442                       0                      1  0.163265      0.607441   \n",
       "30105                       0                      1  0.448980      0.527729   \n",
       "1697                        0                      1  0.224490      0.587679   \n",
       "21917                       0                      0  0.197829      0.531436   \n",
       "\n",
       "       PurchasedFlag  \n",
       "25006              0  \n",
       "7221               1  \n",
       "3224               1  \n",
       "4379               1  \n",
       "23108              0  \n",
       "...              ...  \n",
       "28241              0  \n",
       "12442              1  \n",
       "30105              0  \n",
       "1697               1  \n",
       "21917              0  \n",
       "\n",
       "[9517 rows x 17 columns]"
      ]
     },
     "execution_count": 74,
     "metadata": {},
     "output_type": "execute_result"
    }
   ],
   "source": [
    "assess = pd.concat([X_test, y_test], axis=1)\n",
    "assess"
   ]
  },
  {
   "cell_type": "code",
   "execution_count": 75,
   "id": "078b6306",
   "metadata": {
    "ExecuteTime": {
     "end_time": "2022-12-22T18:51:09.892563Z",
     "start_time": "2022-12-22T18:51:09.880551Z"
    }
   },
   "outputs": [
    {
     "data": {
      "text/plain": [
       "Education                 0\n",
       "Occupation                0\n",
       "Gender                    0\n",
       "MaritalStatus             0\n",
       "HomeOwnerFlag             0\n",
       "NumberCarsOwned           0\n",
       "NumberChildrenAtHome      0\n",
       "TotalChildren             0\n",
       "Country_Australia         0\n",
       "Country_Canada            0\n",
       "Country_France            0\n",
       "Country_Germany           0\n",
       "Country_United Kingdom    0\n",
       "Country_United States     0\n",
       "Age                       0\n",
       "YearlyIncome              0\n",
       "PurchasedFlag             0\n",
       "dtype: int64"
      ]
     },
     "execution_count": 75,
     "metadata": {},
     "output_type": "execute_result"
    }
   ],
   "source": [
    "assess.isnull().sum()"
   ]
  },
  {
   "cell_type": "code",
   "execution_count": 76,
   "id": "89c95114",
   "metadata": {
    "ExecuteTime": {
     "end_time": "2022-12-22T18:51:09.908593Z",
     "start_time": "2022-12-22T18:51:09.894577Z"
    }
   },
   "outputs": [
    {
     "data": {
      "text/html": [
       "<div>\n",
       "<style scoped>\n",
       "    .dataframe tbody tr th:only-of-type {\n",
       "        vertical-align: middle;\n",
       "    }\n",
       "\n",
       "    .dataframe tbody tr th {\n",
       "        vertical-align: top;\n",
       "    }\n",
       "\n",
       "    .dataframe thead th {\n",
       "        text-align: right;\n",
       "    }\n",
       "</style>\n",
       "<table border=\"1\" class=\"dataframe\">\n",
       "  <thead>\n",
       "    <tr style=\"text-align: right;\">\n",
       "      <th></th>\n",
       "      <th>0</th>\n",
       "    </tr>\n",
       "  </thead>\n",
       "  <tbody>\n",
       "    <tr>\n",
       "      <th>0</th>\n",
       "      <td>0</td>\n",
       "    </tr>\n",
       "    <tr>\n",
       "      <th>1</th>\n",
       "      <td>1</td>\n",
       "    </tr>\n",
       "    <tr>\n",
       "      <th>2</th>\n",
       "      <td>1</td>\n",
       "    </tr>\n",
       "    <tr>\n",
       "      <th>3</th>\n",
       "      <td>1</td>\n",
       "    </tr>\n",
       "    <tr>\n",
       "      <th>4</th>\n",
       "      <td>0</td>\n",
       "    </tr>\n",
       "    <tr>\n",
       "      <th>...</th>\n",
       "      <td>...</td>\n",
       "    </tr>\n",
       "    <tr>\n",
       "      <th>9512</th>\n",
       "      <td>0</td>\n",
       "    </tr>\n",
       "    <tr>\n",
       "      <th>9513</th>\n",
       "      <td>1</td>\n",
       "    </tr>\n",
       "    <tr>\n",
       "      <th>9514</th>\n",
       "      <td>0</td>\n",
       "    </tr>\n",
       "    <tr>\n",
       "      <th>9515</th>\n",
       "      <td>1</td>\n",
       "    </tr>\n",
       "    <tr>\n",
       "      <th>9516</th>\n",
       "      <td>1</td>\n",
       "    </tr>\n",
       "  </tbody>\n",
       "</table>\n",
       "<p>9517 rows × 1 columns</p>\n",
       "</div>"
      ],
      "text/plain": [
       "      0\n",
       "0     0\n",
       "1     1\n",
       "2     1\n",
       "3     1\n",
       "4     0\n",
       "...  ..\n",
       "9512  0\n",
       "9513  1\n",
       "9514  0\n",
       "9515  1\n",
       "9516  1\n",
       "\n",
       "[9517 rows x 1 columns]"
      ]
     },
     "execution_count": 76,
     "metadata": {},
     "output_type": "execute_result"
    }
   ],
   "source": [
    "ypred_rf2 = pd.DataFrame(ypred_rf2)\n",
    "ypred_rf2"
   ]
  },
  {
   "cell_type": "code",
   "execution_count": 77,
   "id": "3858196f",
   "metadata": {
    "ExecuteTime": {
     "end_time": "2022-12-22T18:51:09.923754Z",
     "start_time": "2022-12-22T18:51:09.910593Z"
    }
   },
   "outputs": [
    {
     "data": {
      "text/html": [
       "<div>\n",
       "<style scoped>\n",
       "    .dataframe tbody tr th:only-of-type {\n",
       "        vertical-align: middle;\n",
       "    }\n",
       "\n",
       "    .dataframe tbody tr th {\n",
       "        vertical-align: top;\n",
       "    }\n",
       "\n",
       "    .dataframe thead th {\n",
       "        text-align: right;\n",
       "    }\n",
       "</style>\n",
       "<table border=\"1\" class=\"dataframe\">\n",
       "  <thead>\n",
       "    <tr style=\"text-align: right;\">\n",
       "      <th></th>\n",
       "      <th>PredictedPurchaseFlag</th>\n",
       "    </tr>\n",
       "  </thead>\n",
       "  <tbody>\n",
       "    <tr>\n",
       "      <th>0</th>\n",
       "      <td>0</td>\n",
       "    </tr>\n",
       "    <tr>\n",
       "      <th>1</th>\n",
       "      <td>1</td>\n",
       "    </tr>\n",
       "    <tr>\n",
       "      <th>2</th>\n",
       "      <td>1</td>\n",
       "    </tr>\n",
       "    <tr>\n",
       "      <th>3</th>\n",
       "      <td>1</td>\n",
       "    </tr>\n",
       "    <tr>\n",
       "      <th>4</th>\n",
       "      <td>0</td>\n",
       "    </tr>\n",
       "    <tr>\n",
       "      <th>...</th>\n",
       "      <td>...</td>\n",
       "    </tr>\n",
       "    <tr>\n",
       "      <th>9512</th>\n",
       "      <td>0</td>\n",
       "    </tr>\n",
       "    <tr>\n",
       "      <th>9513</th>\n",
       "      <td>1</td>\n",
       "    </tr>\n",
       "    <tr>\n",
       "      <th>9514</th>\n",
       "      <td>0</td>\n",
       "    </tr>\n",
       "    <tr>\n",
       "      <th>9515</th>\n",
       "      <td>1</td>\n",
       "    </tr>\n",
       "    <tr>\n",
       "      <th>9516</th>\n",
       "      <td>1</td>\n",
       "    </tr>\n",
       "  </tbody>\n",
       "</table>\n",
       "<p>9517 rows × 1 columns</p>\n",
       "</div>"
      ],
      "text/plain": [
       "      PredictedPurchaseFlag\n",
       "0                         0\n",
       "1                         1\n",
       "2                         1\n",
       "3                         1\n",
       "4                         0\n",
       "...                     ...\n",
       "9512                      0\n",
       "9513                      1\n",
       "9514                      0\n",
       "9515                      1\n",
       "9516                      1\n",
       "\n",
       "[9517 rows x 1 columns]"
      ]
     },
     "execution_count": 77,
     "metadata": {},
     "output_type": "execute_result"
    }
   ],
   "source": [
    "ypred_rf2.columns = [\"PredictedPurchaseFlag\"]\n",
    "ypred_rf2"
   ]
  },
  {
   "cell_type": "code",
   "execution_count": 78,
   "id": "64a47ffe",
   "metadata": {
    "ExecuteTime": {
     "end_time": "2022-12-22T18:51:09.954652Z",
     "start_time": "2022-12-22T18:51:09.925584Z"
    }
   },
   "outputs": [
    {
     "data": {
      "text/html": [
       "<div>\n",
       "<style scoped>\n",
       "    .dataframe tbody tr th:only-of-type {\n",
       "        vertical-align: middle;\n",
       "    }\n",
       "\n",
       "    .dataframe tbody tr th {\n",
       "        vertical-align: top;\n",
       "    }\n",
       "\n",
       "    .dataframe thead th {\n",
       "        text-align: right;\n",
       "    }\n",
       "</style>\n",
       "<table border=\"1\" class=\"dataframe\">\n",
       "  <thead>\n",
       "    <tr style=\"text-align: right;\">\n",
       "      <th></th>\n",
       "      <th>Education</th>\n",
       "      <th>Occupation</th>\n",
       "      <th>Gender</th>\n",
       "      <th>MaritalStatus</th>\n",
       "      <th>HomeOwnerFlag</th>\n",
       "      <th>NumberCarsOwned</th>\n",
       "      <th>NumberChildrenAtHome</th>\n",
       "      <th>TotalChildren</th>\n",
       "      <th>Country_Australia</th>\n",
       "      <th>Country_Canada</th>\n",
       "      <th>Country_France</th>\n",
       "      <th>Country_Germany</th>\n",
       "      <th>Country_United Kingdom</th>\n",
       "      <th>Country_United States</th>\n",
       "      <th>Age</th>\n",
       "      <th>YearlyIncome</th>\n",
       "      <th>PurchasedFlag</th>\n",
       "      <th>PredictedPurchaseFlag</th>\n",
       "    </tr>\n",
       "  </thead>\n",
       "  <tbody>\n",
       "    <tr>\n",
       "      <th>0</th>\n",
       "      <td>2</td>\n",
       "      <td>4</td>\n",
       "      <td>0</td>\n",
       "      <td>0</td>\n",
       "      <td>0</td>\n",
       "      <td>3</td>\n",
       "      <td>4</td>\n",
       "      <td>4</td>\n",
       "      <td>0</td>\n",
       "      <td>0</td>\n",
       "      <td>0</td>\n",
       "      <td>0</td>\n",
       "      <td>0</td>\n",
       "      <td>0</td>\n",
       "      <td>0.551020</td>\n",
       "      <td>0.550403</td>\n",
       "      <td>0</td>\n",
       "      <td>0</td>\n",
       "    </tr>\n",
       "    <tr>\n",
       "      <th>1</th>\n",
       "      <td>5</td>\n",
       "      <td>4</td>\n",
       "      <td>1</td>\n",
       "      <td>1</td>\n",
       "      <td>1</td>\n",
       "      <td>0</td>\n",
       "      <td>0</td>\n",
       "      <td>4</td>\n",
       "      <td>0</td>\n",
       "      <td>0</td>\n",
       "      <td>0</td>\n",
       "      <td>0</td>\n",
       "      <td>0</td>\n",
       "      <td>1</td>\n",
       "      <td>0.204082</td>\n",
       "      <td>0.402889</td>\n",
       "      <td>1</td>\n",
       "      <td>1</td>\n",
       "    </tr>\n",
       "    <tr>\n",
       "      <th>2</th>\n",
       "      <td>5</td>\n",
       "      <td>4</td>\n",
       "      <td>1</td>\n",
       "      <td>0</td>\n",
       "      <td>1</td>\n",
       "      <td>0</td>\n",
       "      <td>2</td>\n",
       "      <td>3</td>\n",
       "      <td>0</td>\n",
       "      <td>0</td>\n",
       "      <td>0</td>\n",
       "      <td>0</td>\n",
       "      <td>0</td>\n",
       "      <td>1</td>\n",
       "      <td>0.346939</td>\n",
       "      <td>0.465789</td>\n",
       "      <td>1</td>\n",
       "      <td>1</td>\n",
       "    </tr>\n",
       "    <tr>\n",
       "      <th>3</th>\n",
       "      <td>3</td>\n",
       "      <td>4</td>\n",
       "      <td>1</td>\n",
       "      <td>1</td>\n",
       "      <td>1</td>\n",
       "      <td>2</td>\n",
       "      <td>0</td>\n",
       "      <td>3</td>\n",
       "      <td>0</td>\n",
       "      <td>0</td>\n",
       "      <td>0</td>\n",
       "      <td>0</td>\n",
       "      <td>0</td>\n",
       "      <td>1</td>\n",
       "      <td>0.510204</td>\n",
       "      <td>0.384646</td>\n",
       "      <td>1</td>\n",
       "      <td>1</td>\n",
       "    </tr>\n",
       "    <tr>\n",
       "      <th>4</th>\n",
       "      <td>2</td>\n",
       "      <td>4</td>\n",
       "      <td>0</td>\n",
       "      <td>0</td>\n",
       "      <td>0</td>\n",
       "      <td>2</td>\n",
       "      <td>0</td>\n",
       "      <td>2</td>\n",
       "      <td>0</td>\n",
       "      <td>0</td>\n",
       "      <td>0</td>\n",
       "      <td>0</td>\n",
       "      <td>0</td>\n",
       "      <td>1</td>\n",
       "      <td>0.513962</td>\n",
       "      <td>0.499457</td>\n",
       "      <td>0</td>\n",
       "      <td>0</td>\n",
       "    </tr>\n",
       "    <tr>\n",
       "      <th>...</th>\n",
       "      <td>...</td>\n",
       "      <td>...</td>\n",
       "      <td>...</td>\n",
       "      <td>...</td>\n",
       "      <td>...</td>\n",
       "      <td>...</td>\n",
       "      <td>...</td>\n",
       "      <td>...</td>\n",
       "      <td>...</td>\n",
       "      <td>...</td>\n",
       "      <td>...</td>\n",
       "      <td>...</td>\n",
       "      <td>...</td>\n",
       "      <td>...</td>\n",
       "      <td>...</td>\n",
       "      <td>...</td>\n",
       "      <td>...</td>\n",
       "      <td>...</td>\n",
       "    </tr>\n",
       "    <tr>\n",
       "      <th>9512</th>\n",
       "      <td>4</td>\n",
       "      <td>3</td>\n",
       "      <td>0</td>\n",
       "      <td>0</td>\n",
       "      <td>1</td>\n",
       "      <td>0</td>\n",
       "      <td>3</td>\n",
       "      <td>3</td>\n",
       "      <td>0</td>\n",
       "      <td>0</td>\n",
       "      <td>0</td>\n",
       "      <td>0</td>\n",
       "      <td>0</td>\n",
       "      <td>1</td>\n",
       "      <td>0.336834</td>\n",
       "      <td>0.443234</td>\n",
       "      <td>0</td>\n",
       "      <td>0</td>\n",
       "    </tr>\n",
       "    <tr>\n",
       "      <th>9513</th>\n",
       "      <td>4</td>\n",
       "      <td>5</td>\n",
       "      <td>0</td>\n",
       "      <td>1</td>\n",
       "      <td>0</td>\n",
       "      <td>1</td>\n",
       "      <td>0</td>\n",
       "      <td>0</td>\n",
       "      <td>0</td>\n",
       "      <td>0</td>\n",
       "      <td>0</td>\n",
       "      <td>0</td>\n",
       "      <td>0</td>\n",
       "      <td>1</td>\n",
       "      <td>0.163265</td>\n",
       "      <td>0.607441</td>\n",
       "      <td>1</td>\n",
       "      <td>1</td>\n",
       "    </tr>\n",
       "    <tr>\n",
       "      <th>9514</th>\n",
       "      <td>5</td>\n",
       "      <td>3</td>\n",
       "      <td>1</td>\n",
       "      <td>1</td>\n",
       "      <td>0</td>\n",
       "      <td>0</td>\n",
       "      <td>0</td>\n",
       "      <td>4</td>\n",
       "      <td>0</td>\n",
       "      <td>0</td>\n",
       "      <td>0</td>\n",
       "      <td>0</td>\n",
       "      <td>0</td>\n",
       "      <td>1</td>\n",
       "      <td>0.448980</td>\n",
       "      <td>0.527729</td>\n",
       "      <td>0</td>\n",
       "      <td>0</td>\n",
       "    </tr>\n",
       "    <tr>\n",
       "      <th>9515</th>\n",
       "      <td>5</td>\n",
       "      <td>4</td>\n",
       "      <td>0</td>\n",
       "      <td>0</td>\n",
       "      <td>1</td>\n",
       "      <td>0</td>\n",
       "      <td>0</td>\n",
       "      <td>1</td>\n",
       "      <td>0</td>\n",
       "      <td>0</td>\n",
       "      <td>0</td>\n",
       "      <td>0</td>\n",
       "      <td>0</td>\n",
       "      <td>1</td>\n",
       "      <td>0.224490</td>\n",
       "      <td>0.587679</td>\n",
       "      <td>1</td>\n",
       "      <td>1</td>\n",
       "    </tr>\n",
       "    <tr>\n",
       "      <th>9516</th>\n",
       "      <td>2</td>\n",
       "      <td>5</td>\n",
       "      <td>1</td>\n",
       "      <td>0</td>\n",
       "      <td>1</td>\n",
       "      <td>3</td>\n",
       "      <td>5</td>\n",
       "      <td>5</td>\n",
       "      <td>1</td>\n",
       "      <td>0</td>\n",
       "      <td>0</td>\n",
       "      <td>0</td>\n",
       "      <td>0</td>\n",
       "      <td>0</td>\n",
       "      <td>0.197829</td>\n",
       "      <td>0.531436</td>\n",
       "      <td>0</td>\n",
       "      <td>1</td>\n",
       "    </tr>\n",
       "  </tbody>\n",
       "</table>\n",
       "<p>9517 rows × 18 columns</p>\n",
       "</div>"
      ],
      "text/plain": [
       "      Education  Occupation  Gender  MaritalStatus  HomeOwnerFlag  \\\n",
       "0             2           4       0              0              0   \n",
       "1             5           4       1              1              1   \n",
       "2             5           4       1              0              1   \n",
       "3             3           4       1              1              1   \n",
       "4             2           4       0              0              0   \n",
       "...         ...         ...     ...            ...            ...   \n",
       "9512          4           3       0              0              1   \n",
       "9513          4           5       0              1              0   \n",
       "9514          5           3       1              1              0   \n",
       "9515          5           4       0              0              1   \n",
       "9516          2           5       1              0              1   \n",
       "\n",
       "      NumberCarsOwned  NumberChildrenAtHome  TotalChildren  Country_Australia  \\\n",
       "0                   3                     4              4                  0   \n",
       "1                   0                     0              4                  0   \n",
       "2                   0                     2              3                  0   \n",
       "3                   2                     0              3                  0   \n",
       "4                   2                     0              2                  0   \n",
       "...               ...                   ...            ...                ...   \n",
       "9512                0                     3              3                  0   \n",
       "9513                1                     0              0                  0   \n",
       "9514                0                     0              4                  0   \n",
       "9515                0                     0              1                  0   \n",
       "9516                3                     5              5                  1   \n",
       "\n",
       "      Country_Canada  Country_France  Country_Germany  Country_United Kingdom  \\\n",
       "0                  0               0                0                       0   \n",
       "1                  0               0                0                       0   \n",
       "2                  0               0                0                       0   \n",
       "3                  0               0                0                       0   \n",
       "4                  0               0                0                       0   \n",
       "...              ...             ...              ...                     ...   \n",
       "9512               0               0                0                       0   \n",
       "9513               0               0                0                       0   \n",
       "9514               0               0                0                       0   \n",
       "9515               0               0                0                       0   \n",
       "9516               0               0                0                       0   \n",
       "\n",
       "      Country_United States       Age  YearlyIncome  PurchasedFlag  \\\n",
       "0                         0  0.551020      0.550403              0   \n",
       "1                         1  0.204082      0.402889              1   \n",
       "2                         1  0.346939      0.465789              1   \n",
       "3                         1  0.510204      0.384646              1   \n",
       "4                         1  0.513962      0.499457              0   \n",
       "...                     ...       ...           ...            ...   \n",
       "9512                      1  0.336834      0.443234              0   \n",
       "9513                      1  0.163265      0.607441              1   \n",
       "9514                      1  0.448980      0.527729              0   \n",
       "9515                      1  0.224490      0.587679              1   \n",
       "9516                      0  0.197829      0.531436              0   \n",
       "\n",
       "      PredictedPurchaseFlag  \n",
       "0                         0  \n",
       "1                         1  \n",
       "2                         1  \n",
       "3                         1  \n",
       "4                         0  \n",
       "...                     ...  \n",
       "9512                      0  \n",
       "9513                      1  \n",
       "9514                      0  \n",
       "9515                      1  \n",
       "9516                      1  \n",
       "\n",
       "[9517 rows x 18 columns]"
      ]
     },
     "execution_count": 78,
     "metadata": {},
     "output_type": "execute_result"
    }
   ],
   "source": [
    "assess.index = ypred_rf2.index\n",
    "assess = pd.concat([assess, ypred_rf2], axis=1)\n",
    "assess"
   ]
  },
  {
   "cell_type": "code",
   "execution_count": 79,
   "id": "19e3e6fd",
   "metadata": {
    "ExecuteTime": {
     "end_time": "2022-12-22T18:51:09.970637Z",
     "start_time": "2022-12-22T18:51:09.956647Z"
    }
   },
   "outputs": [
    {
     "data": {
      "text/plain": [
       "Education                 0\n",
       "Occupation                0\n",
       "Gender                    0\n",
       "MaritalStatus             0\n",
       "HomeOwnerFlag             0\n",
       "NumberCarsOwned           0\n",
       "NumberChildrenAtHome      0\n",
       "TotalChildren             0\n",
       "Country_Australia         0\n",
       "Country_Canada            0\n",
       "Country_France            0\n",
       "Country_Germany           0\n",
       "Country_United Kingdom    0\n",
       "Country_United States     0\n",
       "Age                       0\n",
       "YearlyIncome              0\n",
       "PurchasedFlag             0\n",
       "PredictedPurchaseFlag     0\n",
       "dtype: int64"
      ]
     },
     "execution_count": 79,
     "metadata": {},
     "output_type": "execute_result"
    }
   ],
   "source": [
    "assess.isnull().sum()"
   ]
  },
  {
   "cell_type": "code",
   "execution_count": 80,
   "id": "d1604329",
   "metadata": {
    "ExecuteTime": {
     "end_time": "2022-12-22T18:51:09.986660Z",
     "start_time": "2022-12-22T18:51:09.972639Z"
    }
   },
   "outputs": [
    {
     "data": {
      "text/plain": [
       "array([[4362,  382],\n",
       "       [ 524, 4249]], dtype=int64)"
      ]
     },
     "execution_count": 80,
     "metadata": {},
     "output_type": "execute_result"
    }
   ],
   "source": [
    "confusion_matrix(y_test, ypred_rf2)"
   ]
  },
  {
   "cell_type": "code",
   "execution_count": 81,
   "id": "f88039f5",
   "metadata": {
    "ExecuteTime": {
     "end_time": "2022-12-22T18:51:10.002657Z",
     "start_time": "2022-12-22T18:51:09.995662Z"
    }
   },
   "outputs": [
    {
     "data": {
      "text/html": [
       "<div>\n",
       "<style scoped>\n",
       "    .dataframe tbody tr th:only-of-type {\n",
       "        vertical-align: middle;\n",
       "    }\n",
       "\n",
       "    .dataframe tbody tr th {\n",
       "        vertical-align: top;\n",
       "    }\n",
       "\n",
       "    .dataframe thead th {\n",
       "        text-align: right;\n",
       "    }\n",
       "</style>\n",
       "<table border=\"1\" class=\"dataframe\">\n",
       "  <thead>\n",
       "    <tr style=\"text-align: right;\">\n",
       "      <th></th>\n",
       "      <th>0</th>\n",
       "      <th>1</th>\n",
       "    </tr>\n",
       "  </thead>\n",
       "  <tbody>\n",
       "    <tr>\n",
       "      <th>0</th>\n",
       "      <td>4362</td>\n",
       "      <td>382</td>\n",
       "    </tr>\n",
       "    <tr>\n",
       "      <th>1</th>\n",
       "      <td>524</td>\n",
       "      <td>4249</td>\n",
       "    </tr>\n",
       "  </tbody>\n",
       "</table>\n",
       "</div>"
      ],
      "text/plain": [
       "      0     1\n",
       "0  4362   382\n",
       "1   524  4249"
      ]
     },
     "execution_count": 81,
     "metadata": {},
     "output_type": "execute_result"
    }
   ],
   "source": [
    "confmatrix = pd.DataFrame(confusion_matrix(y_test, ypred_rf2))\n",
    "confmatrix"
   ]
  },
  {
   "cell_type": "code",
   "execution_count": 82,
   "id": "baac742d",
   "metadata": {
    "ExecuteTime": {
     "end_time": "2022-12-22T18:51:10.018582Z",
     "start_time": "2022-12-22T18:51:10.004652Z"
    }
   },
   "outputs": [],
   "source": [
    "confmatrix.columns = [\"Actual Positives\", \"Actual Negatives\"]"
   ]
  },
  {
   "cell_type": "code",
   "execution_count": 83,
   "id": "6e77e0d3",
   "metadata": {
    "ExecuteTime": {
     "end_time": "2022-12-22T18:51:10.034774Z",
     "start_time": "2022-12-22T18:51:10.021609Z"
    }
   },
   "outputs": [],
   "source": [
    "confmatrix.index = [\"Predicted Positives\", \"Predicted Negatives\"]"
   ]
  },
  {
   "cell_type": "code",
   "execution_count": 84,
   "id": "e8a383fa",
   "metadata": {
    "ExecuteTime": {
     "end_time": "2022-12-22T18:51:10.049631Z",
     "start_time": "2022-12-22T18:51:10.037623Z"
    }
   },
   "outputs": [
    {
     "data": {
      "text/html": [
       "<div>\n",
       "<style scoped>\n",
       "    .dataframe tbody tr th:only-of-type {\n",
       "        vertical-align: middle;\n",
       "    }\n",
       "\n",
       "    .dataframe tbody tr th {\n",
       "        vertical-align: top;\n",
       "    }\n",
       "\n",
       "    .dataframe thead th {\n",
       "        text-align: right;\n",
       "    }\n",
       "</style>\n",
       "<table border=\"1\" class=\"dataframe\">\n",
       "  <thead>\n",
       "    <tr style=\"text-align: right;\">\n",
       "      <th></th>\n",
       "      <th>Actual Positives</th>\n",
       "      <th>Actual Negatives</th>\n",
       "    </tr>\n",
       "  </thead>\n",
       "  <tbody>\n",
       "    <tr>\n",
       "      <th>Predicted Positives</th>\n",
       "      <td>4362</td>\n",
       "      <td>382</td>\n",
       "    </tr>\n",
       "    <tr>\n",
       "      <th>Predicted Negatives</th>\n",
       "      <td>524</td>\n",
       "      <td>4249</td>\n",
       "    </tr>\n",
       "  </tbody>\n",
       "</table>\n",
       "</div>"
      ],
      "text/plain": [
       "                     Actual Positives  Actual Negatives\n",
       "Predicted Positives              4362               382\n",
       "Predicted Negatives               524              4249"
      ]
     },
     "execution_count": 84,
     "metadata": {},
     "output_type": "execute_result"
    }
   ],
   "source": [
    "confmatrix"
   ]
  },
  {
   "cell_type": "code",
   "execution_count": 93,
   "id": "546b6dd2",
   "metadata": {
    "ExecuteTime": {
     "end_time": "2022-12-22T23:28:21.518970Z",
     "start_time": "2022-12-22T23:28:21.383515Z"
    }
   },
   "outputs": [
    {
     "data": {
      "text/plain": [
       "<AxesSubplot:>"
      ]
     },
     "execution_count": 93,
     "metadata": {},
     "output_type": "execute_result"
    },
    {
     "data": {
      "image/png": "[encoded data removed]",
      "text/plain": [
       "<Figure size 576x576 with 2 Axes>"
      ]
     },
     "metadata": {},
     "output_type": "display_data"
    }
   ],
   "source": [
    "plt.figure(figsize=(8, 8))\n",
    "sns.heatmap(confmatrix, annot=True, cmap=\"BrBG\", fmt='g', annot_kws={\"size\":20})"
   ]
  },
  {
   "cell_type": "code",
   "execution_count": 86,
   "id": "75c5fbf1",
   "metadata": {
    "ExecuteTime": {
     "end_time": "2022-12-22T18:51:10.272754Z",
     "start_time": "2022-12-22T18:51:10.258666Z"
    }
   },
   "outputs": [
    {
     "data": {
      "text/plain": [
       "0.9048019333823684"
      ]
     },
     "execution_count": 86,
     "metadata": {},
     "output_type": "execute_result"
    }
   ],
   "source": [
    "# correct predictions\n",
    "(4362+4249)/(4362+382+524+4249)"
   ]
  },
  {
   "cell_type": "code",
   "execution_count": null,
   "id": "bc8d2511",
   "metadata": {},
   "outputs": [],
   "source": []
  },
  {
   "cell_type": "code",
   "execution_count": null,
   "id": "4664a6ff",
   "metadata": {},
   "outputs": [],
   "source": []
  }
 ],
 "metadata": {
  "kernelspec": {
   "display_name": "Python 3 (ipykernel)",
   "language": "python",
   "name": "python3"
  },
  "language_info": {
   "codemirror_mode": {
    "name": "ipython",
    "version": 3
   },
   "file_extension": ".py",
   "mimetype": "text/x-python",
   "name": "python",
   "nbconvert_exporter": "python",
   "pygments_lexer": "ipython3",
   "version": "3.9.12"
  },
  "toc": {
   "base_numbering": 1,
   "nav_menu": {},
   "number_sections": true,
   "sideBar": true,
   "skip_h1_title": false,
   "title_cell": "Table of Contents",
   "title_sidebar": "Contents",
   "toc_cell": false,
   "toc_position": {
    "height": "calc(100% - 180px)",
    "left": "10px",
    "top": "150px",
    "width": "307.188px"
   },
   "toc_section_display": true,
   "toc_window_display": true
  },
  "varInspector": {
   "cols": {
    "lenName": 16,
    "lenType": 16,
    "lenVar": 40
   },
   "kernels_config": {
    "python": {
     "delete_cmd_postfix": "",
     "delete_cmd_prefix": "del ",
     "library": "var_list.py",
     "varRefreshCmd": "print(var_dic_list())"
    },
    "r": {
     "delete_cmd_postfix": ") ",
     "delete_cmd_prefix": "rm(",
     "library": "var_list.r",
     "varRefreshCmd": "cat(var_dic_list()) "
    }
   },
   "types_to_exclude": [
    "module",
    "function",
    "builtin_function_or_method",
    "instance",
    "_Feature"
   ],
   "window_display": false
  }
 },
 "nbformat": 4,
 "nbformat_minor": 5
}
